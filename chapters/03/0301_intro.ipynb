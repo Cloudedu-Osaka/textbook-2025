{
 "cells": [
  {
   "cell_type": "code",
   "execution_count": 1,
   "id": "0d1c6f70-90ed-46a2-9140-7323738921bd",
   "metadata": {},
   "outputs": [],
   "source": [
    "from IPython.display import IFrame"
   ]
  },
  {
   "cell_type": "markdown",
   "id": "2e2f5808-3275-4e43-be28-d8923d7753ba",
   "metadata": {},
   "source": [
    "# 第三回: 数式と図形\n",
    "\n",
    "## 3.1 これまで\n",
    "\n",
    "1. 円を描く\n",
    "2. 円を傾ける\n",
    "3. 図形と数式"
   ]
  },
  {
   "cell_type": "markdown",
   "id": "977adcc1-7040-475b-a00e-4fdcededacb4",
   "metadata": {},
   "source": [
    "### 3.1.1 円を描く"
   ]
  },
  {
   "cell_type": "markdown",
   "id": "160b7935-8f37-47b5-bf77-73b0911e5ffe",
   "metadata": {},
   "source": [
    "::::{admonition} ask ai\n",
    ":class: tip\n",
    "\n",
    "円は直径によって等分される\n",
    "\n",
    ":::{admonition} ask ai repeatedly\n",
    ":class: seealso\n",
    "\n",
    "* 補助線として直径を引くと、さまざまな円の性質を計測できる\n",
    ":::\n",
    "::::"
   ]
  },
  {
   "cell_type": "markdown",
   "id": "9c480fc6-64b6-473a-ad66-ef5e321e303e",
   "metadata": {},
   "source": [
    "* https://www.geogebra.org/m/hdxpzcfw"
   ]
  },
  {
   "cell_type": "code",
   "execution_count": 2,
   "id": "3812d25c-6621-4c6c-8475-f4aafec8f06c",
   "metadata": {
    "collapsed": true,
    "jupyter": {
     "outputs_hidden": true
    }
   },
   "outputs": [
    {
     "data": {
      "text/html": [
       "\n",
       "        <iframe\n",
       "            width=\"1000\"\n",
       "            height=\"500\"\n",
       "            src=\"https://www.geogebra.org/material/iframe/id/hdxpzcfw/width/1905/height/1016\"\n",
       "            frameborder=\"0\"\n",
       "            allowfullscreen\n",
       "            \n",
       "        ></iframe>\n",
       "        "
      ],
      "text/plain": [
       "<IPython.lib.display.IFrame at 0x7fa6590170e0>"
      ]
     },
     "execution_count": 2,
     "metadata": {},
     "output_type": "execute_result"
    }
   ],
   "source": [
    "IFrame(\"https://www.geogebra.org/material/iframe/id/hdxpzcfw/width/1905/height/1016\", width=1000, height=500)"
   ]
  },
  {
   "cell_type": "markdown",
   "id": "2fb0080d-298f-40d8-8863-ef57b53f1dd6",
   "metadata": {},
   "source": [
    "### 3.1.2 円を傾ける"
   ]
  },
  {
   "cell_type": "markdown",
   "id": "db70b98a-5f70-49b2-a11f-79ff10cd070a",
   "metadata": {},
   "source": [
    "::::{admonition} ask ai\n",
    ":class: tip\n",
    "\n",
    "円柱を平面で切断すると、切断面は楕円になる\n",
    "\n",
    ":::{admonition} ask ai repeatedly\n",
    ":class: seealso\n",
    "\n",
    "* 切断面の傾きは、楕円の中心から焦点の距離である\n",
    "* 切断面の傾き$c$は、楕円の長径を$a$としたとき$\\frac{c}{a}$となり、\n",
    "  さらに短径を$b$とすると$a^2=b^2+c^2$を満たす\n",
    ":::\n",
    "::::"
   ]
  },
  {
   "cell_type": "markdown",
   "id": "f8d3970c-92ae-470e-ac61-d52eb5d86eca",
   "metadata": {},
   "source": [
    "* https://www.geogebra.org/m/ryuszndc"
   ]
  },
  {
   "cell_type": "code",
   "execution_count": 7,
   "id": "474a25e6-8c3d-4280-8785-ad943404304a",
   "metadata": {
    "collapsed": true,
    "jupyter": {
     "outputs_hidden": true
    }
   },
   "outputs": [
    {
     "data": {
      "text/html": [
       "\n",
       "        <iframe\n",
       "            width=\"1000\"\n",
       "            height=\"500\"\n",
       "            src=\"https://www.geogebra.org/material/iframe/id/ryuszndc/width/1196/height/805\"\n",
       "            frameborder=\"0\"\n",
       "            allowfullscreen\n",
       "            \n",
       "        ></iframe>\n",
       "        "
      ],
      "text/plain": [
       "<IPython.lib.display.IFrame at 0x7f720d2fab40>"
      ]
     },
     "execution_count": 7,
     "metadata": {},
     "output_type": "execute_result"
    }
   ],
   "source": [
    "IFrame(\"https://www.geogebra.org/material/iframe/id/ryuszndc/width/1196/height/805\", width=1000, height=500)"
   ]
  },
  {
   "cell_type": "markdown",
   "id": "83d5749c-1e0a-4f35-93f9-f0ec3ce3bd63",
   "metadata": {},
   "source": [
    "### 3.1.3 数式と図形"
   ]
  },
  {
   "cell_type": "markdown",
   "id": "afa343d8-14ea-468b-a569-a79001892d64",
   "metadata": {},
   "source": [
    "::::{admonition} ask ai\n",
    ":class: tip\n",
    "\n",
    "等式$(x+y)^2=(x-y)^2+4xy$は、古代メソポタミアで最も研究された数式である\n",
    "\n",
    ":::{admonition} ask ai repeatedly\n",
    ":class: seealso\n",
    "\n",
    "* 古代メソポタミアでは、等式$(x+y)^2=(x-y)^2+4xy$から相加相乗平均の不等式を求めた\n",
    "* 古代メソポタミアでは、相加相乗平均の不等式から平方根に収束する数列を発見した\n",
    "* 古代メソポタミアでは、等式$(x+y)^2=(x-y)^2+4xy$からピタゴラスの三数の数表を生成した\n",
    "* 古代メソポタミアの人たちは割り算が苦手で生成した数表を逆数の計算に利用しようとした\n",
    "* 古代メソポタミアの人たちはピタゴラスの定理は発見できなかったが、どんな発想が足りなかったのだろうか\n",
    ":::\n",
    "::::"
   ]
  },
  {
   "cell_type": "code",
   "execution_count": null,
   "id": "900687f5-f4e8-4c99-862f-f7110cf6c632",
   "metadata": {},
   "outputs": [],
   "source": []
  }
 ],
 "metadata": {
  "kernelspec": {
   "display_name": "Python 3 (ipykernel)",
   "language": "python",
   "name": "python3"
  },
  "language_info": {
   "codemirror_mode": {
    "name": "ipython",
    "version": 3
   },
   "file_extension": ".py",
   "mimetype": "text/x-python",
   "name": "python",
   "nbconvert_exporter": "python",
   "pygments_lexer": "ipython3",
   "version": "3.12.9"
  }
 },
 "nbformat": 4,
 "nbformat_minor": 5
}
