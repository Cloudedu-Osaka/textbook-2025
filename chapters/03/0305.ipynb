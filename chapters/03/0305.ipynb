{
 "cells": [
  {
   "cell_type": "code",
   "execution_count": 2,
   "id": "03019858-c751-4b63-a56a-ec751f9f0756",
   "metadata": {},
   "outputs": [],
   "source": [
    "from IPython.display import IFrame"
   ]
  },
  {
   "cell_type": "markdown",
   "id": "30417b81-bc93-46b8-9324-d56172a50648",
   "metadata": {},
   "source": [
    "# 第三回: 数式と図形 (4)\n",
    "\n",
    "## 3.4 ピタゴラスの定理の証明"
   ]
  },
  {
   "cell_type": "markdown",
   "id": "a5c24490-553a-4f0c-bec3-0eceac1fc7cb",
   "metadata": {},
   "source": [
    "::::{admonition} ask ai\n",
    ":class: tip\n",
    "\n",
    "等式$(x+y)^2=(x-y)^2+4xy$は、古代メソポタミアで最も研究された数式である\n",
    "\n",
    ":::{admonition} ask ai repeatedly\n",
    ":class: seealso\n",
    "\n",
    "* 古代メソポタミアでは、等式$(x+y)^2=(x-y)^2+4xy$から相加相乗平均の不等式を求めた\n",
    "* 古代メソポタミアでは、相加相乗平均の不等式から平方根に収束する数列を発見した\n",
    "* 古代メソポタミアでは、等式$(x+y)^2=(x-y)^2+4xy$からピタゴラスの三数の数表を生成した\n",
    "* 古代メソポタミアの人たちは割り算が苦手で生成した数表を逆数の計算に利用しようとした\n",
    "* ➡ **古代メソポタミアの人たちはピタゴラスの定理は発見できなかったが、どんな発想が足りなかったのだろうか**\n",
    ":::\n",
    "::::"
   ]
  },
  {
   "cell_type": "markdown",
   "id": "1be697dd-6cc6-4da4-95f7-0efb32c340b9",
   "metadata": {},
   "source": [
    "$$\n",
    "\\begin{eqnarray}\n",
    "a^2 &=& b^2 + c^2\n",
    "\\end{eqnarray}\n",
    "$$"
   ]
  },
  {
   "cell_type": "markdown",
   "id": "69edd56b-f7ce-4667-b263-12350e92eb2c",
   "metadata": {},
   "source": [
    "### 3.4.1 古代メソポタミアから古代ギリシアへ"
   ]
  },
  {
   "cell_type": "markdown",
   "id": "5f22ae96-d9f7-490c-b67b-c5fc3132c31f",
   "metadata": {},
   "source": [
    "* https://www.geogebra.org/m/qtajufpm"
   ]
  },
  {
   "cell_type": "code",
   "execution_count": 3,
   "id": "565bdec4-e1f6-46a3-84cd-cdf534d14754",
   "metadata": {},
   "outputs": [
    {
     "data": {
      "text/html": [
       "\n",
       "        <iframe\n",
       "            width=\"1000\"\n",
       "            height=\"500\"\n",
       "            src=\"https://www.geogebra.org/material/iframe/id/qtajufpm/width/1920/height/1031\"\n",
       "            frameborder=\"0\"\n",
       "            allowfullscreen\n",
       "            \n",
       "        ></iframe>\n",
       "        "
      ],
      "text/plain": [
       "<IPython.lib.display.IFrame at 0x7fc8435bc980>"
      ]
     },
     "execution_count": 3,
     "metadata": {},
     "output_type": "execute_result"
    }
   ],
   "source": [
    "IFrame(\"https://www.geogebra.org/material/iframe/id/qtajufpm/width/1920/height/1031\", width=1000, height=500)"
   ]
  },
  {
   "cell_type": "markdown",
   "id": "7d1ed0aa-ca03-4048-a594-ce127eb8da1b",
   "metadata": {},
   "source": [
    "### 3.4.2 ユークリッドと等積変形と余弦定理"
   ]
  },
  {
   "cell_type": "markdown",
   "id": "54e7e434-d970-43ce-a1e7-7c22302e9623",
   "metadata": {},
   "source": [
    "::::{admonition} ask ai\n",
    ":class: tip\n",
    "\n",
    "Euclidは原論において、ピタゴラスの定理の証明に等積変形 (せん断と回転) を用いた\n",
    "\n",
    ":::{admonition} ask ai repeatedly\n",
    ":class: seealso\n",
    "\n",
    "* 直角を挟む二辺を斜線に射影していることになるが、日本では第一余弦定理として知られている\n",
    "* 原論の第二巻では、日本で第二余弦定理と呼ばれている余弦定理に通じる命題も証明されている\n",
    ":::\n",
    "::::\n",
    "\n",
    "* [Affine transformation - Wikipedia](https://en.wikipedia.org/wiki/Affine_transformation)\n",
    "    * [Shear mapping - Wikipedia](https://en.wikipedia.org/wiki/Shear_mapping)\n",
    "    * [Rotation (mathematics) - Wikipedia](https://en.wikipedia.org/wiki/Rotation_(mathematics))\n",
    "* [Law of cosines - Wikipedia](https://en.wikipedia.org/wiki/Law_of_cosines#History)"
   ]
  },
  {
   "cell_type": "markdown",
   "id": "818e70ec-c15f-4243-ac55-9d9f7eb69387",
   "metadata": {},
   "source": [
    "* https://www.geogebra.org/m/xsvmdhqu"
   ]
  },
  {
   "cell_type": "markdown",
   "id": "7ff1ceec-0380-4d8f-ac41-220c0036a3df",
   "metadata": {},
   "source": [
    "* https://www.geogebra.org/m/mcmgznhs"
   ]
  },
  {
   "cell_type": "code",
   "execution_count": 7,
   "id": "afb03a0e-a3d4-4289-b336-1cbf1e1f0fd3",
   "metadata": {
    "collapsed": true,
    "jupyter": {
     "outputs_hidden": true
    }
   },
   "outputs": [
    {
     "data": {
      "text/html": [
       "\n",
       "        <iframe\n",
       "            width=\"1000\"\n",
       "            height=\"500\"\n",
       "            src=\"https://www.geogebra.org/material/iframe/id/mcmgznhs/width/1366/height/807\"\n",
       "            frameborder=\"0\"\n",
       "            allowfullscreen\n",
       "            \n",
       "        ></iframe>\n",
       "        "
      ],
      "text/plain": [
       "<IPython.lib.display.IFrame at 0x7fc8435bce90>"
      ]
     },
     "execution_count": 7,
     "metadata": {},
     "output_type": "execute_result"
    }
   ],
   "source": [
    "IFrame(\"https://www.geogebra.org/material/iframe/id/mcmgznhs/width/1366/height/807\", width=1000, height=500)"
   ]
  },
  {
   "cell_type": "code",
   "execution_count": 5,
   "id": "fc7e04be-a982-4df6-b9cd-ec0331220562",
   "metadata": {
    "collapsed": true,
    "jupyter": {
     "outputs_hidden": true
    }
   },
   "outputs": [
    {
     "data": {
      "text/html": [
       "\n",
       "        <iframe\n",
       "            width=\"1000\"\n",
       "            height=\"500\"\n",
       "            src=\"https://www.geogebra.org/material/iframe/id/xsvmdhqu/width/1366/height/853\"\n",
       "            frameborder=\"0\"\n",
       "            allowfullscreen\n",
       "            \n",
       "        ></iframe>\n",
       "        "
      ],
      "text/plain": [
       "<IPython.lib.display.IFrame at 0x7fc8435bcce0>"
      ]
     },
     "execution_count": 5,
     "metadata": {},
     "output_type": "execute_result"
    }
   ],
   "source": [
    "IFrame(\"https://www.geogebra.org/material/iframe/id/xsvmdhqu/width/1366/height/853\", width=1000, height=500)"
   ]
  },
  {
   "cell_type": "markdown",
   "id": "dc6c4595-158a-4950-ac41-73f62742f72d",
   "metadata": {},
   "source": [
    "### 3.4.3 余弦定理とリーマン接続"
   ]
  },
  {
   "cell_type": "markdown",
   "id": "17510af0-adca-4c66-9e40-c7c7c8a74be6",
   "metadata": {},
   "source": [
    "::::{admonition} ask ai\n",
    ":class: tip\n",
    "\n",
    "余弦定理はリーマン接続の接続係数の計算式そのものである\n",
    "\n",
    ":::{admonition} ask ai repeatedly\n",
    ":class: seealso\n",
    "\n",
    "* クリストッフェル記号は接空間の基底ベクトルの線形結合の係数として振る舞う\n",
    "* 基底ベクトルの線形結合の係数は、偏微分のスカラー射影であり、それは第一余弦定理である\n",
    ":::\n",
    "::::"
   ]
  },
  {
   "cell_type": "markdown",
   "id": "d46f5a85-5cc2-402e-a602-f6e3cbb03f98",
   "metadata": {},
   "source": [
    "* https://www.geogebra.org/m/bwqynjt2"
   ]
  },
  {
   "cell_type": "code",
   "execution_count": 8,
   "id": "63bbc930-05ca-4ac5-a19f-047ae0fe69e2",
   "metadata": {
    "collapsed": true,
    "jupyter": {
     "outputs_hidden": true
    }
   },
   "outputs": [
    {
     "data": {
      "text/html": [
       "\n",
       "        <iframe\n",
       "            width=\"1000\"\n",
       "            height=\"500\"\n",
       "            src=\"https://www.geogebra.org/material/iframe/id/bwqynjt2/width/1920/height/1031\"\n",
       "            frameborder=\"0\"\n",
       "            allowfullscreen\n",
       "            \n",
       "        ></iframe>\n",
       "        "
      ],
      "text/plain": [
       "<IPython.lib.display.IFrame at 0x7fc8435bdf70>"
      ]
     },
     "execution_count": 8,
     "metadata": {},
     "output_type": "execute_result"
    }
   ],
   "source": [
    "IFrame(\"https://www.geogebra.org/material/iframe/id/bwqynjt2/width/1920/height/1031\", width=1000, height=500)"
   ]
  },
  {
   "cell_type": "markdown",
   "id": "3c344a09-3e5d-458f-ba65-039699862999",
   "metadata": {},
   "source": [
    "\\begin{eqnarray}\n",
    "b &=& c \\cos(\\alpha) + a \\cos(\\gamma) \\\\\n",
    "c &=& a \\cos(\\beta) + b \\cos(\\alpha)\n",
    "\n",
    "\\end{eqnarray}"
   ]
  },
  {
   "cell_type": "markdown",
   "id": "9444f51f-7975-461f-9aed-8c1ec44e5f66",
   "metadata": {},
   "source": [
    "$$\n",
    "\\begin{eqnarray}\n",
    "b &=& \\left( a \\cos(\\beta) + b \\cos(\\alpha) \\right) \\cos(\\alpha) + a \\cos(\\gamma) \\\\\n",
    "  &=& a \\cos(\\beta) \\cos(\\alpha)  + b^2 \\cos^2(\\alpha) + a \\cos(\\gamma) \\\\\n",
    "  &=& -a \\cos(\\beta) \\cos(\\theta)  + b^2 \\cos^2(\\theta) + a \\cos(\\gamma) \\\\\n",
    "b \\left(1-\\cos^2(\\theta) \\right) &=& a \\cos(\\gamma) - a \\cos(\\beta) \\cos(\\theta) \\\\\n",
    "b \\sin^2(\\theta) &=& \\|proj_{\\vec{u}}\\ \\vec{w}\\| - \\|proj_{\\vec{v}}\\ \\vec{w}\\| \\cos(\\theta) \\\\\n",
    "b &=& \\frac{1}{sin^2(\\theta)} \\left( \\|proj_{\\vec{u}}\\ \\vec{w}\\| - \\|proj_{\\vec{v}}\\ \\vec{w}\\| \\cos(\\theta) \\right)\\\\\n",
    "  &=& \\frac{1}{sin^2(\\theta)} \\left( \\frac{\\vec{w}\\cdot\\vec{u}}{\\vec{u}\\cdot\\vec{u}} - \\frac{\\vec{w}\\cdot\\vec{v}}{\\vec{v}\\cdot\\vec{v}} \\cos(\\theta) \\right) \\\\\n",
    "  &=& \\Gamma^u\n",
    "\\end{eqnarray}\n",
    "$$"
   ]
  },
  {
   "cell_type": "markdown",
   "id": "a1c7694e-f568-4f33-8735-33e86231ea5d",
   "metadata": {},
   "source": [
    "$\\alpha + \\theta = \\pi$ なので、$\\cos(\\alpha) = -\\cos(\\theta)$"
   ]
  },
  {
   "cell_type": "markdown",
   "id": "90255df6-d29a-4e3a-b41c-ba54af1ca439",
   "metadata": {},
   "source": [
    "$$\n",
    "\\begin{eqnarray}\n",
    "c &=& -\\frac{1}{sin^2(\\theta)} \\left( \\|proj_{\\vec{u}}\\ \\vec{w}\\| \\cos(\\theta) - \\|proj_{\\vec{v}}\\ \\vec{w}\\| \\right)\\\\\n",
    "  &=& -\\frac{1}{sin^2(\\theta)} \\left( \\frac{\\vec{w}\\cdot\\vec{u}}{\\vec{u}\\cdot\\vec{u}} \\cos(\\theta) - \\frac{\\vec{w}\\cdot\\vec{v}}{\\vec{v}\\cdot\\vec{v}} \\right) \\\\\n",
    "  &=& \\Gamma^v\n",
    "\\end{eqnarray}\n",
    "$$"
   ]
  },
  {
   "cell_type": "markdown",
   "id": "6d9b978e-7e37-4061-91d6-b9bbc5ab9f12",
   "metadata": {},
   "source": [
    "$$\n",
    "\\vec{w} = \\Gamma^{u}\\ \\vec{u} + \\Gamma^{v}\\ \\vec{v}\n",
    "$$"
   ]
  },
  {
   "cell_type": "code",
   "execution_count": null,
   "id": "0336e25d-2045-488c-87e5-54a8a7f8163c",
   "metadata": {},
   "outputs": [],
   "source": []
  }
 ],
 "metadata": {
  "kernelspec": {
   "display_name": "Python 3 (ipykernel)",
   "language": "python",
   "name": "python3"
  },
  "language_info": {
   "codemirror_mode": {
    "name": "ipython",
    "version": 3
   },
   "file_extension": ".py",
   "mimetype": "text/x-python",
   "name": "python",
   "nbconvert_exporter": "python",
   "pygments_lexer": "ipython3",
   "version": "3.12.9"
  }
 },
 "nbformat": 4,
 "nbformat_minor": 5
}
