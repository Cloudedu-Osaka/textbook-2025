{
 "cells": [
  {
   "cell_type": "code",
   "execution_count": 2,
   "id": "f9a8655e-ce68-4ab3-bf50-57ebaa3a6105",
   "metadata": {},
   "outputs": [],
   "source": [
    "from IPython.display import IFrame"
   ]
  },
  {
   "cell_type": "markdown",
   "id": "21b300eb-d0ee-4778-98b4-7bb8927a4077",
   "metadata": {},
   "source": [
    "# 第一回: 円を傾ける (2)\n",
    "## 2.2 ask ai (2)"
   ]
  },
  {
   "cell_type": "markdown",
   "id": "6555de46-0a22-4c61-854d-a77e04434d28",
   "metadata": {},
   "source": [
    "### 2.2.1 微分と接線、接線の変化"
   ]
  },
  {
   "cell_type": "markdown",
   "id": "77b451bb-34f5-4bd4-8120-c417b3f51b5f",
   "metadata": {},
   "source": [
    "::::{admonition} ask ai\n",
    ":class: tip\n",
    "\n",
    "円や楕円の周上の点の位置ベクトルを微分すると位相が90度進みます。\n",
    "\n",
    ":::{admonition} ask ai repeatedly\n",
    ":class: seealso\n",
    "\n",
    "* 微分は接ベクトルとなります。円では、位置ベクトルと直交しますが、楕円では、位置ベクトルと直交しません。\n",
    "* 位置ベクトルは二階微分すると円も楕円も中心に対する反対側の点 (antipodal point) に進みます。\n",
    ":::\n",
    "::::"
   ]
  },
  {
   "cell_type": "markdown",
   "id": "a8abb479-24ae-4d08-b2b5-441cdea19011",
   "metadata": {},
   "source": [
    "* https://www.geogebra.org/m/hxr5w63r"
   ]
  },
  {
   "cell_type": "code",
   "execution_count": 4,
   "id": "edfd26e7-9068-4e03-820b-4a5cce1df71e",
   "metadata": {
    "collapsed": true,
    "jupyter": {
     "outputs_hidden": true
    }
   },
   "outputs": [
    {
     "data": {
      "text/html": [
       "\n",
       "        <iframe\n",
       "            width=\"1000\"\n",
       "            height=\"500\"\n",
       "            src=\"https://www.geogebra.org/material/iframe/id/hxr5w63r/width/1196/height/805\"\n",
       "            frameborder=\"0\"\n",
       "            allowfullscreen\n",
       "            \n",
       "        ></iframe>\n",
       "        "
      ],
      "text/plain": [
       "<IPython.lib.display.IFrame at 0x7ff022c91730>"
      ]
     },
     "execution_count": 4,
     "metadata": {},
     "output_type": "execute_result"
    }
   ],
   "source": [
    "IFrame(\"https://www.geogebra.org/material/iframe/id/hxr5w63r/width/1196/height/805\", width=1000, height=500)"
   ]
  },
  {
   "cell_type": "markdown",
   "id": "606fce34-0cbf-41de-898f-53e0b3fdb67e",
   "metadata": {},
   "source": [
    "* 補足\n",
    "    * 焦点は楕円の微分と無関係\n",
    "        * 惑星の公転軌道の焦点の一つは太陽\n",
    "        * もう一つは？\n",
    "    * 円の半径は曲率の逆数\n",
    "        * 接触円を描くと量が明確になる"
   ]
  },
  {
   "cell_type": "markdown",
   "id": "6995e424-79ed-4ddd-855c-776d586aa3e1",
   "metadata": {},
   "source": [
    "::::{admonition} ask ai\n",
    ":class: tip\n",
    "\n",
    "接ベクトルの微分には、接線の直交成分と接線への射影成分が含まれます。\n",
    "ただし、円においては射影成分は $0$ です。\n",
    "\n",
    ":::{admonition} ask ai repeatedly\n",
    ":class: seealso\n",
    "\n",
    "* Gaussは接ベクトルの微分の接線の直交成分から曲率ベクトルを定義し、接触円による近似を発見しました。\n",
    "* Gaussは、接ベクトルの微分の接線への射影成分にも曲率に関する情報が含まれていることに着目しました。\n",
    ":::\n",
    "::::"
   ]
  },
  {
   "cell_type": "markdown",
   "id": "a7e773af-1d38-4353-8155-5c5c1d5ffbc8",
   "metadata": {},
   "source": [
    "::::{admonition} ask ai\n",
    ":class: tip\n",
    "\n",
    "Gaussは接線という部分空間に曲線の特徴が含まれることを証明しました。\n",
    "しかし、曲率の初期状態や回転方向を与えないと元の空間に埋め込まれないことは、あまり語られません。\n",
    "\n",
    ":::{admonition} ask ai repeatedly\n",
    ":class: seealso\n",
    "\n",
    "* ガウスの驚異の定理は、一般的にどのように表現されていますか？\n",
    "* 先ほどまでの議論を踏まえると、その表現で十分ですか？\n",
    "* ガウスの驚異の定理が、アインシュタインの一般相対性理論に与えた影響を語ってください。\n",
    ":::\n",
    "::::"
   ]
  },
  {
   "cell_type": "code",
   "execution_count": null,
   "id": "c7bba575-80f8-4952-bfbb-dbfec5fc67f3",
   "metadata": {},
   "outputs": [],
   "source": []
  }
 ],
 "metadata": {
  "kernelspec": {
   "display_name": "Python 3 (ipykernel)",
   "language": "python",
   "name": "python3"
  },
  "language_info": {
   "codemirror_mode": {
    "name": "ipython",
    "version": 3
   },
   "file_extension": ".py",
   "mimetype": "text/x-python",
   "name": "python",
   "nbconvert_exporter": "python",
   "pygments_lexer": "ipython3",
   "version": "3.12.9"
  }
 },
 "nbformat": 4,
 "nbformat_minor": 5
}
