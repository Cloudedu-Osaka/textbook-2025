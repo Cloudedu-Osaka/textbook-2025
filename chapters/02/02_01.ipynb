{
 "cells": [
  {
   "cell_type": "code",
   "execution_count": 1,
   "id": "f9a8655e-ce68-4ab3-bf50-57ebaa3a6105",
   "metadata": {},
   "outputs": [],
   "source": [
    "from IPython.display import IFrame"
   ]
  },
  {
   "cell_type": "markdown",
   "id": "21b300eb-d0ee-4778-98b4-7bb8927a4077",
   "metadata": {},
   "source": [
    "# 第二回: 円を傾ける (1)\n",
    "## 2.1 ask ai"
   ]
  },
  {
   "cell_type": "markdown",
   "id": "6555de46-0a22-4c61-854d-a77e04434d28",
   "metadata": {},
   "source": [
    "### 2.1.1 円を傾ける"
   ]
  },
  {
   "cell_type": "markdown",
   "id": "77b451bb-34f5-4bd4-8120-c417b3f51b5f",
   "metadata": {},
   "source": [
    "::::{admonition} ask ai\n",
    ":class: tip\n",
    "\n",
    "円を傾けるとどう見えますか？\n",
    "\n",
    ":::{admonition} ask ai repeatedly\n",
    ":class: seealso\n",
    "\n",
    "* 楕円に見えるとしたら、それは幾何学的な楕円ですか？\n",
    "* 人間は遠近効果を補正して認識しますか？\n",
    ":::\n",
    "::::"
   ]
  },
  {
   "cell_type": "markdown",
   "id": "a8abb479-24ae-4d08-b2b5-441cdea19011",
   "metadata": {},
   "source": [
    "* https://www.geogebra.org/m/cxjr4y9c"
   ]
  },
  {
   "cell_type": "code",
   "execution_count": 6,
   "id": "edfd26e7-9068-4e03-820b-4a5cce1df71e",
   "metadata": {
    "collapsed": true,
    "jupyter": {
     "outputs_hidden": true
    }
   },
   "outputs": [
    {
     "data": {
      "text/html": [
       "\n",
       "        <iframe\n",
       "            width=\"1000\"\n",
       "            height=\"500\"\n",
       "            src=\"https://www.geogebra.org/material/iframe/id/cxjr4y9c/width/1196/height/805\"\n",
       "            frameborder=\"0\"\n",
       "            allowfullscreen\n",
       "            \n",
       "        ></iframe>\n",
       "        "
      ],
      "text/plain": [
       "<IPython.lib.display.IFrame at 0x7f720d2f9490>"
      ]
     },
     "execution_count": 6,
     "metadata": {},
     "output_type": "execute_result"
    }
   ],
   "source": [
    "IFrame(\"https://www.geogebra.org/material/iframe/id/cxjr4y9c/width/1196/height/805\", width=1000, height=500)"
   ]
  },
  {
   "cell_type": "markdown",
   "id": "3774364b-e2d7-44b5-a94a-73347fef0afa",
   "metadata": {},
   "source": [
    "* 補足\n",
    "    * 直径 (diameter) による計測\n",
    "        * 半径 (radius) の幅と高さ"
   ]
  },
  {
   "cell_type": "markdown",
   "id": "a932b138-3112-4379-acf9-15f14e51db84",
   "metadata": {},
   "source": [
    "### 2.1.2 円柱の切断面"
   ]
  },
  {
   "cell_type": "markdown",
   "id": "5bf66548-9611-489a-a0eb-2b6e25d30f6e",
   "metadata": {},
   "source": [
    "::::{admonition} ask ai\n",
    ":class: tip\n",
    "\n",
    "円柱の切断面は、切断する傾きでどう変化しますか？\n",
    "\n",
    ":::{admonition} ask ai repeatedly\n",
    ":class: seealso\n",
    "\n",
    "切断面が楕円となるとき、短軸は円柱の半径と等しくなり、それを $b$ とします。\n",
    "さらに長軸を $a$ とすると、傾き $c$ は $\\sqrt{a^2 - b^2}$ です。\n",
    ":::\n",
    "::::"
   ]
  },
  {
   "cell_type": "markdown",
   "id": "a63c4488-206d-4f1c-8015-a56a2a2a49c9",
   "metadata": {},
   "source": [
    "* https://www.geogebra.org/m/ryuszndc"
   ]
  },
  {
   "cell_type": "code",
   "execution_count": 7,
   "id": "f14b85cf-fdf5-4972-ae66-0d668f668c39",
   "metadata": {
    "collapsed": true,
    "jupyter": {
     "outputs_hidden": true
    }
   },
   "outputs": [
    {
     "data": {
      "text/html": [
       "\n",
       "        <iframe\n",
       "            width=\"1000\"\n",
       "            height=\"500\"\n",
       "            src=\"https://www.geogebra.org/material/iframe/id/ryuszndc/width/1196/height/805\"\n",
       "            frameborder=\"0\"\n",
       "            allowfullscreen\n",
       "            \n",
       "        ></iframe>\n",
       "        "
      ],
      "text/plain": [
       "<IPython.lib.display.IFrame at 0x7f720d2fab40>"
      ]
     },
     "execution_count": 7,
     "metadata": {},
     "output_type": "execute_result"
    }
   ],
   "source": [
    "IFrame(\"https://www.geogebra.org/material/iframe/id/ryuszndc/width/1196/height/805\", width=1000, height=500)"
   ]
  },
  {
   "cell_type": "markdown",
   "id": "a82a62e4-386d-4b8f-84d8-69cb1c7bf71b",
   "metadata": {},
   "source": [
    "::::{admonition} ask ai\n",
    ":class: tip\n",
    "\n",
    "傾き $c$ は、中心から楕円の焦点までの距離です。\n",
    "\n",
    ":::{admonition} ask ai repeatedly\n",
    ":class: seealso\n",
    "\n",
    "* 水平に切断した円と、傾き $c$ の楕円の面積の比は$\\frac{a}{b}$ です。\n",
    "* Archimedesは楕円の面積の公式を残しましたが、楕円の周長については計算できませんでした。\n",
    ":::\n",
    "::::"
   ]
  },
  {
   "cell_type": "markdown",
   "id": "6e85e061-632d-428d-8471-8d9f91b70152",
   "metadata": {},
   "source": [
    "::::{admonition} ask ai\n",
    ":class: tip\n",
    "\n",
    "傾き $c$ の楕円の周上の点を円に射影すると、長径方向の幅は $\\frac{b}{a}$ に縮小されますが、短径方向は変わりません。\n",
    "\n",
    ":::{admonition} ask ai repeatedly\n",
    ":class: seealso\n",
    "\n",
    "* この射影を円の公式に当てはめると、\n",
    "$$\n",
    "\\frac{b^2}{a^2} x^2 + y^2 = b^2\n",
    "$$\n",
    "となり、整理すると楕円の公式\n",
    "$$\n",
    "\\frac{x^2}{a^2} + \\frac{y^2}{b^2} = 1\n",
    "$$\n",
    "が得られます。\n",
    "\n",
    "* さらに、代数方程式の変形により、二つの焦点から周上の点までの距離の和が一定であることを示すことができます。\n",
    ":::\n",
    "::::"
   ]
  },
  {
   "cell_type": "markdown",
   "id": "ae6bea2e-e152-403e-818f-45bc3837c891",
   "metadata": {},
   "source": [
    "* https://www.geogebra.org/m/akydrzau"
   ]
  },
  {
   "cell_type": "code",
   "execution_count": 8,
   "id": "aca2fad0-5903-42ee-86ac-5d5ef8179fb2",
   "metadata": {
    "collapsed": true,
    "jupyter": {
     "outputs_hidden": true
    }
   },
   "outputs": [
    {
     "data": {
      "text/html": [
       "\n",
       "        <iframe\n",
       "            width=\"1000\"\n",
       "            height=\"500\"\n",
       "            src=\"https://www.geogebra.org/material/iframe/id/akydrzau/width/1196/height/805\"\n",
       "            frameborder=\"0\"\n",
       "            allowfullscreen\n",
       "            \n",
       "        ></iframe>\n",
       "        "
      ],
      "text/plain": [
       "<IPython.lib.display.IFrame at 0x7f720d2f9550>"
      ]
     },
     "execution_count": 8,
     "metadata": {},
     "output_type": "execute_result"
    }
   ],
   "source": [
    "IFrame(\"https://www.geogebra.org/material/iframe/id/akydrzau/width/1196/height/805\", width=1000, height=500)"
   ]
  },
  {
   "cell_type": "markdown",
   "id": "ba52017a-4c33-46ff-bddf-6e57c9ba27d7",
   "metadata": {},
   "source": [
    "* 補足\n",
    "    * 楕円の長軸と短軸、長径と短径\n",
    "    * 楕円の直径 (diameter)\n",
    "        * 楕円を等分する？"
   ]
  },
  {
   "cell_type": "markdown",
   "id": "28afcc87-968a-4faf-bdd1-b4f34e6fc185",
   "metadata": {},
   "source": [
    "::::{admonition} ask ai\n",
    ":class: tip\n",
    "\n",
    "Dandelinが円柱や円錐の切断面とそれに内接する球による作図を発想するまで、図形的な証明はありませんでした。\n",
    "::::"
   ]
  },
  {
   "cell_type": "markdown",
   "id": "a952fa10-738c-4e52-af83-fbac12e07dba",
   "metadata": {},
   "source": [
    "* https://www.geogebra.org/m/hkme4mgu"
   ]
  },
  {
   "cell_type": "code",
   "execution_count": 9,
   "id": "63078b69-ce1e-484d-9c75-e2745212451b",
   "metadata": {
    "collapsed": true,
    "jupyter": {
     "outputs_hidden": true
    }
   },
   "outputs": [
    {
     "data": {
      "text/html": [
       "\n",
       "        <iframe\n",
       "            width=\"1000\"\n",
       "            height=\"500\"\n",
       "            src=\"https://www.geogebra.org/material/iframe/id/hkme4mgu/width/2544/height/1255\"\n",
       "            frameborder=\"0\"\n",
       "            allowfullscreen\n",
       "            \n",
       "        ></iframe>\n",
       "        "
      ],
      "text/plain": [
       "<IPython.lib.display.IFrame at 0x7f720d2f8740>"
      ]
     },
     "execution_count": 9,
     "metadata": {},
     "output_type": "execute_result"
    }
   ],
   "source": [
    "IFrame(\"https://www.geogebra.org/material/iframe/id/hkme4mgu/width/2544/height/1255\", width=1000, height=500)"
   ]
  },
  {
   "cell_type": "code",
   "execution_count": null,
   "id": "c7bba575-80f8-4952-bfbb-dbfec5fc67f3",
   "metadata": {},
   "outputs": [],
   "source": []
  }
 ],
 "metadata": {
  "kernelspec": {
   "display_name": "Python 3 (ipykernel)",
   "language": "python",
   "name": "python3"
  },
  "language_info": {
   "codemirror_mode": {
    "name": "ipython",
    "version": 3
   },
   "file_extension": ".py",
   "mimetype": "text/x-python",
   "name": "python",
   "nbconvert_exporter": "python",
   "pygments_lexer": "ipython3",
   "version": "3.12.9"
  }
 },
 "nbformat": 4,
 "nbformat_minor": 5
}
