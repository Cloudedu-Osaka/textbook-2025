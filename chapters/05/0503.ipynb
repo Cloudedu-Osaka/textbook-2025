{
 "cells": [
  {
   "cell_type": "code",
   "execution_count": 1,
   "id": "8892d634-727f-4679-8448-122b33cf6b1a",
   "metadata": {},
   "outputs": [],
   "source": [
    "from IPython.display import IFrame"
   ]
  },
  {
   "cell_type": "markdown",
   "id": "1ba326cb-6da6-4f3e-a8e6-989a52421a2b",
   "metadata": {},
   "source": [
    "# 第五回: それは楕円？\n",
    "\n",
    "## 5.3 焦点の発見"
   ]
  },
  {
   "cell_type": "markdown",
   "id": "f9d5e4e9-9cfb-474c-9f5c-767122dfd97c",
   "metadata": {},
   "source": [
    "::::{admonition} ask ai\n",
    ":class: tip\n",
    "\n",
    "古代のギリシア人が、楕円の焦点をどのように発見したかは伝わっていませんが、\n",
    "Alistotleが気象学において虹を作図したことが起源かもしれません\n",
    "\n",
    ":::{admonition} ask ai repeatedly\n",
    ":class: seealso\n",
    "\n",
    "* Apolloniusは、二つの点からの比率による作図を研究し、比率が等しい時に円が描画できることを発見しました\n",
    "* 楕円の周上の点が、二つの焦点からの距離の和が等しいことは、代数式で容易に証明できます\n",
    "* しかし、作図による証明には、古代ギリシアから2千年以上の時間がかかりました\n",
    "* 楕円の短軸の頂点を作図する際に、焦点からの距離が長軸半径となることから、長軸との交点に焦点は自然に現れます\n",
    ":::\n",
    "::::"
   ]
  },
  {
   "cell_type": "markdown",
   "id": "3f1ecc96-4ce4-4f08-a53a-d9cc15a15d3f",
   "metadata": {},
   "source": [
    "### 5.3.1 Apolloniusの円\n",
    "\n",
    "* [Circles of Apollonius - Wikipedia](https://en.wikipedia.org/wiki/Circles_of_Apollonius)"
   ]
  },
  {
   "cell_type": "markdown",
   "id": "c10bfbee-58f5-45db-b618-0fa6a6a99ef1",
   "metadata": {},
   "source": [
    "* https://www.geogebra.org/m/mfarkqda"
   ]
  },
  {
   "cell_type": "code",
   "execution_count": 6,
   "id": "2b082fcb-4ff6-413d-bd77-9dee69d4268f",
   "metadata": {},
   "outputs": [
    {
     "data": {
      "text/html": [
       "\n",
       "        <iframe\n",
       "            width=\"1000\"\n",
       "            height=\"500\"\n",
       "            src=\"https://www.geogebra.org/material/iframe/id/mfarkqda/width/1196/height/805\"\n",
       "            frameborder=\"0\"\n",
       "            allowfullscreen\n",
       "            \n",
       "        ></iframe>\n",
       "        "
      ],
      "text/plain": [
       "<IPython.lib.display.IFrame at 0x7f46beb23b30>"
      ]
     },
     "execution_count": 6,
     "metadata": {},
     "output_type": "execute_result"
    }
   ],
   "source": [
    "IFrame(\"https://www.geogebra.org/material/iframe/id/mfarkqda/width/1196/height/805\", width=1000, height=500)"
   ]
  },
  {
   "cell_type": "markdown",
   "id": "bf0bdd61-dd3d-4025-abba-88209d966c7e",
   "metadata": {},
   "source": [
    "### 5.3.2 垂直二等分線\n",
    "\n",
    "* [Bisection - Wikipedia](https://en.wikipedia.org/wiki/Bisection#Line_segment_bisector)#Line_segment_bisector\n",
    "* [Bisection - Wikipedia](https://en.wikipedia.org/wiki/Bisection#Angle_bisector)#Angle_bisector"
   ]
  },
  {
   "cell_type": "markdown",
   "id": "2c00ee28-27f8-4b50-ad2a-34dcfada97bf",
   "metadata": {},
   "source": [
    "* https://www.geogebra.org/m/u7jt8trt"
   ]
  },
  {
   "cell_type": "code",
   "execution_count": 3,
   "id": "e76b831e-1798-4f56-8d45-65a8faf50ffd",
   "metadata": {},
   "outputs": [
    {
     "data": {
      "text/html": [
       "\n",
       "        <iframe\n",
       "            width=\"1000\"\n",
       "            height=\"500\"\n",
       "            src=\"https://www.geogebra.org/material/iframe/id/u7jt8trt/width/1366/height/853\"\n",
       "            frameborder=\"0\"\n",
       "            allowfullscreen\n",
       "            \n",
       "        ></iframe>\n",
       "        "
      ],
      "text/plain": [
       "<IPython.lib.display.IFrame at 0x7f46beb49430>"
      ]
     },
     "execution_count": 3,
     "metadata": {},
     "output_type": "execute_result"
    }
   ],
   "source": [
    "IFrame(\"https://www.geogebra.org/material/iframe/id/u7jt8trt/width/1366/height/853\", width=1000, height=500)"
   ]
  },
  {
   "cell_type": "markdown",
   "id": "54ae4daf-6360-4892-a173-e9b3fe881855",
   "metadata": {},
   "source": [
    "### 5.3.3 二つの焦点と垂直二等分線"
   ]
  },
  {
   "cell_type": "markdown",
   "id": "ce79077a-24c0-4c7c-aa62-8a89b8b1b475",
   "metadata": {},
   "source": [
    "* https://www.geogebra.org/m/dzu69a8w"
   ]
  },
  {
   "cell_type": "code",
   "execution_count": 8,
   "id": "892fb381-3587-4c27-ba30-b1239362cd4a",
   "metadata": {},
   "outputs": [
    {
     "data": {
      "text/html": [
       "\n",
       "        <iframe\n",
       "            width=\"1000\"\n",
       "            height=\"500\"\n",
       "            src=\"https://www.geogebra.org/material/iframe/id/dzu69a8w/width/1366/height/853\"\n",
       "            frameborder=\"0\"\n",
       "            allowfullscreen\n",
       "            \n",
       "        ></iframe>\n",
       "        "
      ],
      "text/plain": [
       "<IPython.lib.display.IFrame at 0x7f46beb48ef0>"
      ]
     },
     "execution_count": 8,
     "metadata": {},
     "output_type": "execute_result"
    }
   ],
   "source": [
    "IFrame(\"https://www.geogebra.org/material/iframe/id/dzu69a8w/width/1366/height/853\", width=1000, height=500)"
   ]
  },
  {
   "cell_type": "markdown",
   "id": "7e7fe054-8d3e-47c4-8852-e15143682dab",
   "metadata": {},
   "source": [
    "### 5.3.4 参考) 代数方程式による証明"
   ]
  },
  {
   "cell_type": "markdown",
   "id": "222a6d8c-f31d-4924-8884-b6c4115bf9a3",
   "metadata": {},
   "source": [
    "* [conic sections - How to prove distance from foci on an ellipse is equal to twice the semi-major axis (for specific ellipse) - Mathematics Stack Exchange](https://math.stackexchange.com/questions/3779453/how-to-prove-distance-from-foci-on-an-ellipse-is-equal-to-twice-the-semi-major-a)"
   ]
  },
  {
   "cell_type": "markdown",
   "id": "fc705475-69d4-4cac-8e30-1b8d262ff7d3",
   "metadata": {},
   "source": [
    "$$\n",
    "PF=\\sqrt{(x-c)^2+y^2}=\\sqrt{(x-c)^2+b^2-\\frac{b^2}{a^2}x^2}=\\sqrt{\\frac{c^2}{a^2}x^2-2cx+a^2}=\\left\\lvert\\frac ca x-a\\right\\rvert=a-ex\n",
    "$$"
   ]
  },
  {
   "cell_type": "markdown",
   "id": "888eca0d-d0d9-4da2-9726-1fa07e3985e2",
   "metadata": {},
   "source": [
    "$$\n",
    "PF^\\prime=\\sqrt{(x+c)^2+y^2}=\\sqrt{(x+c)^2+b^2-\\frac{b^2}{a^2}x^2}=\\sqrt{\\frac{c^2}{a^2}x^2+2cx+a^2}=\\left\\lvert\\frac ca x+a\\right\\rvert=a+ex\n",
    "$$"
   ]
  },
  {
   "cell_type": "markdown",
   "id": "9afd489e-87df-493d-9c9d-354f5d8d8b13",
   "metadata": {},
   "source": [
    "### 5.3.5 Feynmanの温故知新"
   ]
  },
  {
   "cell_type": "markdown",
   "id": "498592aa-59e8-4595-a9b9-2b74b9f182b0",
   "metadata": {},
   "source": [
    "* https://www.geogebra.org/material/gsites/id/mfarkqda/width/1196/height/805"
   ]
  },
  {
   "cell_type": "code",
   "execution_count": 7,
   "id": "a6179cdf-6a06-4942-9bcb-f5dec52cf3d3",
   "metadata": {},
   "outputs": [
    {
     "data": {
      "text/html": [
       "\n",
       "        <iframe\n",
       "            width=\"1000\"\n",
       "            height=\"500\"\n",
       "            src=\"https://www.geogebra.org/material/iframe/id/qb5fzf6n/width/1905/height/1016\"\n",
       "            frameborder=\"0\"\n",
       "            allowfullscreen\n",
       "            \n",
       "        ></iframe>\n",
       "        "
      ],
      "text/plain": [
       "<IPython.lib.display.IFrame at 0x7f46beb489b0>"
      ]
     },
     "execution_count": 7,
     "metadata": {},
     "output_type": "execute_result"
    }
   ],
   "source": [
    "IFrame(\"https://www.geogebra.org/material/iframe/id/qb5fzf6n/width/1905/height/1016\", width=1000, height=500)"
   ]
  },
  {
   "cell_type": "code",
   "execution_count": null,
   "id": "7a6fdb96-fff6-4a4b-9cf8-8ef8d02f08e4",
   "metadata": {},
   "outputs": [],
   "source": []
  }
 ],
 "metadata": {
  "kernelspec": {
   "display_name": "Python 3 (ipykernel)",
   "language": "python",
   "name": "python3"
  },
  "language_info": {
   "codemirror_mode": {
    "name": "ipython",
    "version": 3
   },
   "file_extension": ".py",
   "mimetype": "text/x-python",
   "name": "python",
   "nbconvert_exporter": "python",
   "pygments_lexer": "ipython3",
   "version": "3.12.9"
  }
 },
 "nbformat": 4,
 "nbformat_minor": 5
}
