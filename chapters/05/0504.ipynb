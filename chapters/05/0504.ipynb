{
 "cells": [
  {
   "cell_type": "code",
   "execution_count": 1,
   "id": "abd18cf3-4c92-491b-b0f5-27f147d3d429",
   "metadata": {},
   "outputs": [],
   "source": [
    "from IPython.display import IFrame"
   ]
  },
  {
   "cell_type": "markdown",
   "id": "781da341-0d18-4d81-8449-516abad71665",
   "metadata": {},
   "source": [
    "# 第五回: それは楕円？\n",
    "\n",
    "## 5.4 円の接線"
   ]
  },
  {
   "cell_type": "markdown",
   "id": "42f62006-af8d-4a7d-82f2-def84903d549",
   "metadata": {},
   "source": [
    "::::{admonition} ask ai\n",
    ":class: tip\n",
    "\n",
    "作画難易度を示してください:\n",
    "1. 円の外部から接線を引く\n",
    "2. 半径の等しい交わらない二つの円に共通の接線を引く\n",
    "3. 半径の異なる交わらない二つの円に共通の接線を引く\n",
    "\n",
    ":::{admonition} ask ai repeatedly\n",
    ":class: seealso\n",
    "\n",
    "* 他の作図も含めると、これらの難易度はどう評価できますか？\n",
    ":::\n",
    "::::"
   ]
  },
  {
   "cell_type": "markdown",
   "id": "95d27415-d182-4eae-bf3b-d05bd055fd89",
   "metadata": {},
   "source": [
    "### 5.4.1 円の外部から接線を引く"
   ]
  },
  {
   "cell_type": "markdown",
   "id": "5645bed8-475f-4b12-8b3a-7271784424d2",
   "metadata": {},
   "source": [
    "* https://www.geogebra.org/m/p59ajpvs"
   ]
  },
  {
   "cell_type": "code",
   "execution_count": 3,
   "id": "630232c1-0946-4cc3-9309-222c25f85ef2",
   "metadata": {},
   "outputs": [
    {
     "data": {
      "text/html": [
       "\n",
       "        <iframe\n",
       "            width=\"1000\"\n",
       "            height=\"500\"\n",
       "            src=\"https://www.geogebra.org/material/iframe/id/p59ajpvs/width/1366/height/853\"\n",
       "            frameborder=\"0\"\n",
       "            allowfullscreen\n",
       "            \n",
       "        ></iframe>\n",
       "        "
      ],
      "text/plain": [
       "<IPython.lib.display.IFrame at 0x7f1715d1d220>"
      ]
     },
     "execution_count": 3,
     "metadata": {},
     "output_type": "execute_result"
    }
   ],
   "source": [
    "IFrame(\"https://www.geogebra.org/material/iframe/id/p59ajpvs/width/1366/height/853\", width=1000, height=500)"
   ]
  },
  {
   "cell_type": "markdown",
   "id": "410b697d-631d-4e80-899f-ae4173f297b9",
   "metadata": {},
   "source": [
    "### 5.4.2 半径の等しい交わらない二つの円に共通の接線を引く"
   ]
  },
  {
   "cell_type": "markdown",
   "id": "422015a0-3179-41dc-b39c-2c6b27f23a51",
   "metadata": {},
   "source": [
    "* https://www.geogebra.org/m/zwyuehmc"
   ]
  },
  {
   "cell_type": "code",
   "execution_count": 4,
   "id": "4bf6a5f3-6b80-477f-a5ef-a9d60bfc3e83",
   "metadata": {},
   "outputs": [
    {
     "data": {
      "text/html": [
       "\n",
       "        <iframe\n",
       "            width=\"1000\"\n",
       "            height=\"500\"\n",
       "            src=\"https://www.geogebra.org/material/iframe/id/zwyuehmc/width/1366/height/853\"\n",
       "            frameborder=\"0\"\n",
       "            allowfullscreen\n",
       "            \n",
       "        ></iframe>\n",
       "        "
      ],
      "text/plain": [
       "<IPython.lib.display.IFrame at 0x7f1715d1d9d0>"
      ]
     },
     "execution_count": 4,
     "metadata": {},
     "output_type": "execute_result"
    }
   ],
   "source": [
    "IFrame(\"https://www.geogebra.org/material/iframe/id/zwyuehmc/width/1366/height/853\", width=1000, height=500)"
   ]
  },
  {
   "cell_type": "markdown",
   "id": "8ff03125-9ce9-4380-8b5f-9a85db413ce5",
   "metadata": {},
   "source": [
    "### 5.4.3 半径の異なる交わらない二つの円に共通の接線を引く"
   ]
  },
  {
   "cell_type": "markdown",
   "id": "4cc7da6e-5cc9-401a-8c78-2dc981b96c0c",
   "metadata": {},
   "source": [
    "* https://www.geogebra.org/m/z2awdqns"
   ]
  },
  {
   "cell_type": "code",
   "execution_count": 6,
   "id": "d3e25daa-5adc-478c-8559-7be2b010fa71",
   "metadata": {},
   "outputs": [
    {
     "data": {
      "text/html": [
       "\n",
       "        <iframe\n",
       "            width=\"1000\"\n",
       "            height=\"500\"\n",
       "            src=\"https://www.geogebra.org/material/iframe/id/z2awdqns/width/1366/height/853\"\n",
       "            frameborder=\"0\"\n",
       "            allowfullscreen\n",
       "            \n",
       "        ></iframe>\n",
       "        "
      ],
      "text/plain": [
       "<IPython.lib.display.IFrame at 0x7f1715d1d160>"
      ]
     },
     "execution_count": 6,
     "metadata": {},
     "output_type": "execute_result"
    }
   ],
   "source": [
    "IFrame(\"https://www.geogebra.org/material/iframe/id/z2awdqns/width/1366/height/853\", width=1000, height=500)"
   ]
  },
  {
   "cell_type": "code",
   "execution_count": null,
   "id": "b734bdcf-cc04-40ea-b357-6d487938f969",
   "metadata": {},
   "outputs": [],
   "source": []
  }
 ],
 "metadata": {
  "kernelspec": {
   "display_name": "Python 3 (ipykernel)",
   "language": "python",
   "name": "python3"
  },
  "language_info": {
   "codemirror_mode": {
    "name": "ipython",
    "version": 3
   },
   "file_extension": ".py",
   "mimetype": "text/x-python",
   "name": "python",
   "nbconvert_exporter": "python",
   "pygments_lexer": "ipython3",
   "version": "3.12.9"
  }
 },
 "nbformat": 4,
 "nbformat_minor": 5
}
