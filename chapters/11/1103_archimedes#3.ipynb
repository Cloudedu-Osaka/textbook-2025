{
 "cells": [
  {
   "cell_type": "code",
   "execution_count": 2,
   "id": "611de16b-4389-4910-9ff7-101cf19a7323",
   "metadata": {},
   "outputs": [],
   "source": [
    "from IPython.display import IFrame"
   ]
  },
  {
   "cell_type": "markdown",
   "id": "430a32a1-a079-4c80-89ee-f6850b22e864",
   "metadata": {},
   "source": [
    "# 第十一回: Archimedesと積尽\n",
    "\n",
    "## 11.3 Archimedesと放物線の面積"
   ]
  },
  {
   "cell_type": "markdown",
   "id": "c36b4db9-6c33-42f5-8734-38474841c8af",
   "metadata": {},
   "source": [
    "::::{admonition} ask ai\n",
    ":class: tip\n",
    "\n",
    "* 放物線に限定すると、通径は重要な意味を持っているように見えます。\n",
    "\n",
    ":::{admonition} ask ai repeatedly\n",
    ":class: seealso\n",
    "\n",
    "* 放物線においては、焦点を定義することで、直径に平行な直線と曲線の接線のなす角が焦点を基準に定義できます。\n",
    "  さらに平行線における同位角や錯角の同値性によって、通径の交点における接線が直径で交わることを示すことができます。\n",
    "  しかし、焦点が定義される頃には解析的な幾何学が発見され、このような作図幾何学的証明への関心は失われました。\n",
    "  Newtonが著書プリンキピアで円錐曲線の応用に関して決定的な仕事をしてしまったからかもしれません。\n",
    "* 放物線において、曲線と通径の二つの交点における接線の性質は、再帰的に適用できます。\n",
    "  これによって、通径と直径の交点と二つの接線と直径の交点の中点は曲線と直径の交点であることが示されます。\n",
    "  これは、直径と通径の唯一の肯定的な応用で、Archmedesはこの性質を用いて放物線と通径で囲まれた領域の面積を求めました。\n",
    "* Apolloniusが円錐曲線の性質を汎用的に示そうとしたたため、ArchmedesはEudxosの積尽法を三角形分割で適用しました。\n",
    "  もし、Apolloniusが斜円錐に拘らず、また直径と通径が直交する状況に限定して研究を進めていれば、\n",
    "  Archimedesは三角形分割ではなく矩形分割を選択したかもしれません。それは科学革命の積分に近い分割です。\n",
    "* 矩形分割は、代数曲線による近似、級数展開によって効力を発揮します。\n",
    "  もし、古代ギリシアで矩形分割が発見されていたら、インドやイスラムで微分・積分が発見されていたかもしれません。\n",
    ":::\n",
    "::::"
   ]
  },
  {
   "cell_type": "markdown",
   "id": "b6e94244-6bae-470b-bb4f-2f26b4674aeb",
   "metadata": {},
   "source": [
    "* https://www.geogebra.org/m/bqndt4tp"
   ]
  },
  {
   "cell_type": "code",
   "execution_count": 3,
   "id": "3b6a035c-70e0-475f-939a-f2327dc7f15d",
   "metadata": {},
   "outputs": [
    {
     "data": {
      "text/html": [
       "\n",
       "        <iframe\n",
       "            width=\"1000\"\n",
       "            height=\"500\"\n",
       "            src=\"https://www.geogebra.org/material/iframe/id/bqndt4tp/width/1366/height/853\"\n",
       "            frameborder=\"0\"\n",
       "            allowfullscreen\n",
       "            \n",
       "        ></iframe>\n",
       "        "
      ],
      "text/plain": [
       "<IPython.lib.display.IFrame at 0x7fbc83a8f440>"
      ]
     },
     "execution_count": 3,
     "metadata": {},
     "output_type": "execute_result"
    }
   ],
   "source": [
    "IFrame(\"https://www.geogebra.org/material/iframe/id/bqndt4tp/width/1366/height/853\", width=1000, height=500)"
   ]
  },
  {
   "cell_type": "markdown",
   "id": "cedf8076-dc34-44a2-ba2c-884ba95f4529",
   "metadata": {},
   "source": [
    "* https://www.geogebra.org/m/eycuv8zq"
   ]
  },
  {
   "cell_type": "code",
   "execution_count": 3,
   "id": "4b6f015a-a270-4619-84eb-b60b3084dee4",
   "metadata": {},
   "outputs": [
    {
     "data": {
      "text/html": [
       "\n",
       "        <iframe\n",
       "            width=\"1000\"\n",
       "            height=\"500\"\n",
       "            src=\"https://www.geogebra.org/material/iframe/id/eycuv8zq/width/1920/height/1031\"\n",
       "            frameborder=\"0\"\n",
       "            allowfullscreen\n",
       "            \n",
       "        ></iframe>\n",
       "        "
      ],
      "text/plain": [
       "<IPython.lib.display.IFrame at 0x7fd7efffa120>"
      ]
     },
     "execution_count": 3,
     "metadata": {},
     "output_type": "execute_result"
    }
   ],
   "source": [
    "IFrame(\"https://www.geogebra.org/material/iframe/id/eycuv8zq/width/1920/height/1031\", width=1000, height=500)"
   ]
  },
  {
   "cell_type": "code",
   "execution_count": null,
   "id": "4016553f-d655-4fee-bc2c-a19ae7f12cbb",
   "metadata": {},
   "outputs": [],
   "source": []
  }
 ],
 "metadata": {
  "kernelspec": {
   "display_name": "Python 3 (ipykernel)",
   "language": "python",
   "name": "python3"
  },
  "language_info": {
   "codemirror_mode": {
    "name": "ipython",
    "version": 3
   },
   "file_extension": ".py",
   "mimetype": "text/x-python",
   "name": "python",
   "nbconvert_exporter": "python",
   "pygments_lexer": "ipython3",
   "version": "3.12.9"
  }
 },
 "nbformat": 4,
 "nbformat_minor": 5
}
