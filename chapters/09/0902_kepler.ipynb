{
 "cells": [
  {
   "cell_type": "code",
   "execution_count": 1,
   "id": "7b78a86e-4c7c-441b-9b92-935c4e5b0a1d",
   "metadata": {},
   "outputs": [],
   "source": [
    "from IPython.display import IFrame"
   ]
  },
  {
   "cell_type": "markdown",
   "id": "96334498-490d-4004-93b4-cb8b3e0eb5c4",
   "metadata": {},
   "source": [
    "# 第九回: 楕円と放物線、KeplerとGalileo"
   ]
  },
  {
   "cell_type": "markdown",
   "id": "2e557694-b7b0-4323-83f6-169390453e98",
   "metadata": {},
   "source": [
    "今回のエポック:\n",
    "* (1637) [La Géométrie (Descartes) — Wikipédia](https://fr.wikipedia.org/wiki/La_G%C3%A9om%C3%A9trie_(Descartes))\n",
    "    * (1546 &ndash; 1601) [Tycho Brahe - Wikipedia](https://en.wikipedia.org/wiki/Tycho_Brahe)\n",
    "    * (1564 &ndash; 1642) [Galileo Galilei - Wikipedia](https://en.wikipedia.org/wiki/Galileo_Galilei)\n",
    "    * (1571 &ndash; 1630) [Johannes Kepler - Wikipedia](https://en.wikipedia.org/wiki/Johannes_Kepler)\n",
    "* (1687) [Philosophiæ Naturalis Principia Mathematica - Wikipedia](https://en.wikipedia.org/wiki/Philosophi%C3%A6_Naturalis_Principia_Mathematica)\n",
    "    * (1643 &ndash; 1727) [Isaac Newton - Wikipedia](https://en.wikipedia.org/wiki/Isaac_Newton)\n",
    "    * (1656 &ndash; 1742) [Edmond Halley - Wikipedia](https://en.wikipedia.org/wiki/Edmond_Halley)"
   ]
  },
  {
   "cell_type": "markdown",
   "id": "a2b0a5fb-84b8-4d9b-b0fa-6bae403e9d45",
   "metadata": {},
   "source": [
    "## 8.1 Tychoになりたい"
   ]
  },
  {
   "cell_type": "markdown",
   "id": "3bf871cd-d8d6-4bf4-8549-8aec734202f4",
   "metadata": {},
   "source": [
    "::::{admonition} ask ai\n",
    ":class: tip\n",
    "\n",
    "* Tycho Braheのようになりたいので助言を下さい\n",
    "\n",
    ":::{admonition} ask ai repeatedly\n",
    ":class: seealso\n",
    "\n",
    "* まず貴族籍が必要です\n",
    "* 最高の観測設備を使うことを交換条件に滅私奉公する助手が必要です\n",
    "* 天文に興味が薄れた時のためにゴーストライターが必要です\n",
    "* 破天荒な人生でしたが、観測助手のKeplerも名を残しているので、貴族としての高貴な務めは果たしたと言えるでしょう\n",
    ":::\n",
    "::::"
   ]
  },
  {
   "cell_type": "markdown",
   "id": "764e8b3a-5be5-4526-9202-8dd43bec56ff",
   "metadata": {},
   "source": [
    "## 8.2 Keplerになりたい\n",
    "\n",
    "### Copernican principalへの回帰\n",
    "\n",
    "* [Copernican principle - Wikipedia](https://en.wikipedia.org/wiki/Copernican_principle)"
   ]
  },
  {
   "cell_type": "markdown",
   "id": "6795f40f-c4cd-4e0f-aed6-bfca8ed5becb",
   "metadata": {},
   "source": [
    "::::{admonition} ask ai\n",
    ":class: tip\n",
    "\n",
    "* Johannes keplerのようになりたいので助言を下さい\n",
    "\n",
    ":::{admonition} ask ai repeatedly\n",
    ":class: seealso\n",
    "\n",
    "* Tycho Braheは、火星の逆行現象に執着し、複雑な太陽系モデルを考案しました。\n",
    "* Tychoに観測助手として雇われたJohannes Keplerは、単純な太陽系モデルに回帰し、火星の公転軌道が偏心していることに気づきました。\n",
    "* Keplerは太陽と惑星の距離と公転速度におよそ積一定の関係を見出しました。\n",
    "  三角関数表による積和演算を駆使して、公転軌道は円の偏心ではなく楕円であることを発見し、Kepler方程式を導きました。\n",
    "* John Napierの対数表を入手し、第三法則までを発表します。\n",
    "* Keplerは、1607年に後にHalley彗星と命名される彗星を観測しましたが、その軌道が楕円であることに気づきませんでした。\n",
    ":::\n",
    "::::"
   ]
  },
  {
   "cell_type": "markdown",
   "id": "a07b7389-5797-494a-b07a-6707f2bb4cbb",
   "metadata": {},
   "source": [
    "* https://www.geogebra.org/m/r2jxygad"
   ]
  },
  {
   "cell_type": "code",
   "execution_count": 2,
   "id": "b57f38c2-c630-46ab-88f9-1e67ab9b077d",
   "metadata": {},
   "outputs": [
    {
     "data": {
      "text/html": [
       "\n",
       "        <iframe\n",
       "            width=\"1000\"\n",
       "            height=\"500\"\n",
       "            src=\"https://www.geogebra.org/material/iframe/id/r2jxygad/width/1366/height/853\"\n",
       "            frameborder=\"0\"\n",
       "            allowfullscreen\n",
       "            \n",
       "        ></iframe>\n",
       "        "
      ],
      "text/plain": [
       "<IPython.lib.display.IFrame at 0x7f298d147710>"
      ]
     },
     "execution_count": 2,
     "metadata": {},
     "output_type": "execute_result"
    }
   ],
   "source": [
    "IFrame(\"https://www.geogebra.org/material/iframe/id/r2jxygad/width/1366/height/853\", width=1000, height=500)"
   ]
  },
  {
   "cell_type": "markdown",
   "id": "fd94d660-e13e-431f-9caa-31bf4ac8b645",
   "metadata": {},
   "source": [
    "* https://www.geogebra.org/m/g9ar6cbf"
   ]
  },
  {
   "cell_type": "code",
   "execution_count": 3,
   "id": "d07d8ec7-bbdb-4d8b-8d19-4e349752863e",
   "metadata": {},
   "outputs": [
    {
     "data": {
      "text/html": [
       "\n",
       "        <iframe\n",
       "            width=\"1000\"\n",
       "            height=\"500\"\n",
       "            src=\"https://www.geogebra.org/material/iframe/id/g9ar6cbf/width/1196/height/805\"\n",
       "            frameborder=\"0\"\n",
       "            allowfullscreen\n",
       "            \n",
       "        ></iframe>\n",
       "        "
      ],
      "text/plain": [
       "<IPython.lib.display.IFrame at 0x7f298d147f80>"
      ]
     },
     "execution_count": 3,
     "metadata": {},
     "output_type": "execute_result"
    }
   ],
   "source": [
    "IFrame(\"https://www.geogebra.org/material/iframe/id/g9ar6cbf/width/1196/height/805\", width=1000, height=500)"
   ]
  },
  {
   "cell_type": "markdown",
   "id": "ecec4cb0-cb30-4da4-87a7-851a8d5d93ba",
   "metadata": {},
   "source": [
    "* https://www.geogebra.org/m/yu8cpfzh"
   ]
  },
  {
   "cell_type": "code",
   "execution_count": 4,
   "id": "c59a6e44-54d5-4a0b-893e-8dd4d182af67",
   "metadata": {},
   "outputs": [
    {
     "data": {
      "text/html": [
       "\n",
       "        <iframe\n",
       "            width=\"1000\"\n",
       "            height=\"500\"\n",
       "            src=\"https://www.geogebra.org/material/iframe/id/yu8cpfzh/width/1366/height/853\"\n",
       "            frameborder=\"0\"\n",
       "            allowfullscreen\n",
       "            \n",
       "        ></iframe>\n",
       "        "
      ],
      "text/plain": [
       "<IPython.lib.display.IFrame at 0x7f298d1477d0>"
      ]
     },
     "execution_count": 4,
     "metadata": {},
     "output_type": "execute_result"
    }
   ],
   "source": [
    "IFrame(\"https://www.geogebra.org/material/iframe/id/yu8cpfzh/width/1366/height/853\", width=1000, height=500)"
   ]
  },
  {
   "cell_type": "code",
   "execution_count": null,
   "id": "2d7753e5-cd74-4960-85a7-fdbcf126be74",
   "metadata": {},
   "outputs": [],
   "source": []
  }
 ],
 "metadata": {
  "kernelspec": {
   "display_name": "Python 3 (ipykernel)",
   "language": "python",
   "name": "python3"
  },
  "language_info": {
   "codemirror_mode": {
    "name": "ipython",
    "version": 3
   },
   "file_extension": ".py",
   "mimetype": "text/x-python",
   "name": "python",
   "nbconvert_exporter": "python",
   "pygments_lexer": "ipython3",
   "version": "3.12.9"
  }
 },
 "nbformat": 4,
 "nbformat_minor": 5
}
