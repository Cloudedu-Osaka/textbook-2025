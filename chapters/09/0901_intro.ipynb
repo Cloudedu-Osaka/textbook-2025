{
 "cells": [
  {
   "cell_type": "code",
   "execution_count": 5,
   "id": "7b78a86e-4c7c-441b-9b92-935c4e5b0a1d",
   "metadata": {},
   "outputs": [],
   "source": [
    "from IPython.display import IFrame"
   ]
  },
  {
   "cell_type": "markdown",
   "id": "96334498-490d-4004-93b4-cb8b3e0eb5c4",
   "metadata": {},
   "source": [
    "# 第九回: 楕円と放物線、KeplerとGalileo"
   ]
  },
  {
   "attachments": {},
   "cell_type": "markdown",
   "id": "3afc8098-6e2a-4da7-ac39-3c0c430531a5",
   "metadata": {},
   "source": [
    "前回のエポック:\n",
    "* (1607) [Halley's Comet - Wikipedia](https://en.wikipedia.org/wiki/Halley%27s_Comet)\n",
    "    * (1546 &ndash; 1601) [Tycho Brahe - Wikipedia](https://en.wikipedia.org/wiki/Tycho_Brahe)\n",
    "    * (1564 &ndash; 1642) [Galileo Galilei - Wikipedia](https://en.wikipedia.org/wiki/Galileo_Galilei)\n",
    "    * (1571 &ndash; 1630) [Johannes Kepler - Wikipedia](https://en.wikipedia.org/wiki/Johannes_Kepler)\n",
    "* (1682) [Halley's Comet - Wikipedia](https://en.wikipedia.org/wiki/Halley%27s_Comet)\n",
    "    * (1643 &ndash; 1727) [Isaac Newton - Wikipedia](https://en.wikipedia.org/wiki/Isaac_Newton)\n",
    "    * (1656 &ndash; 1742) [Edmond Halley - Wikipedia](https://en.wikipedia.org/wiki/Edmond_Halley)"
   ]
  },
  {
   "cell_type": "markdown",
   "id": "a41c030f-7ccc-4d04-b241-236acfca20e2",
   "metadata": {},
   "source": [
    "今回のエポック:\n",
    "* (1637) [La Géométrie (Descartes) — Wikipédia](https://fr.wikipedia.org/wiki/La_G%C3%A9om%C3%A9trie_(Descartes))\n",
    "    * (1546 &ndash; 1601) [Tycho Brahe - Wikipedia](https://en.wikipedia.org/wiki/Tycho_Brahe)\n",
    "    * (1564 &ndash; 1642) [Galileo Galilei - Wikipedia](https://en.wikipedia.org/wiki/Galileo_Galilei)\n",
    "    * (1571 &ndash; 1630) [Johannes Kepler - Wikipedia](https://en.wikipedia.org/wiki/Johannes_Kepler)\n",
    "* (1687) [Philosophiæ Naturalis Principia Mathematica - Wikipedia](https://en.wikipedia.org/wiki/Philosophi%C3%A6_Naturalis_Principia_Mathematica)\n",
    "    * (1643 &ndash; 1727) [Isaac Newton - Wikipedia](https://en.wikipedia.org/wiki/Isaac_Newton)\n",
    "    * (1656 &ndash; 1742) [Edmond Halley - Wikipedia](https://en.wikipedia.org/wiki/Edmond_Halley)"
   ]
  },
  {
   "cell_type": "markdown",
   "id": "3bf871cd-d8d6-4bf4-8549-8aec734202f4",
   "metadata": {},
   "source": [
    "::::{admonition} ask ai\n",
    ":class: tip\n",
    "\n",
    "* KeplerがKepler方程式は論理的に解けないと明言したことは正しく超越関数と証明されます\n",
    "\n",
    ":::{admonition} ask ai repeatedly\n",
    ":class: seealso\n",
    "\n",
    "* NewtonとHalleyは1世紀も経たない間にその近似解を示しました\n",
    "* Halleyは、Newton法を使ってKepler方程式の近似解を求め、後にHalleyの名を冠する彗星の離心率を推定しました\n",
    "* Newtonは、円錐曲線が二次多項式であり、幾何平均によって解析できることを知っていました\n",
    "  * Newtonは、二次多項式で得た知見が、高次元多項式、さらに一般化された二項定理によって三角関数にも応用できることを発見し、\n",
    "    微分を定義しました\n",
    "  * Newtonは自らが発見した一般化した二項定理による二項級数展開によって円を近似し、\n",
    "    単純で完成された形として認識していた円を他の図形と同列に扱おうとしました。\n",
    "  * 一方で、Newtonは曲線に接する接触円によって曲率を定義しようとしました。それは級数展開された円の近似を含みます。\n",
    "* Newtonに先立って、Fermatは、二変数の和の冪乗に関する展開公式から、多項式の接線の公式を発見しました\n",
    "* Fermatと並行して、Descartesは放物線に内接する円を代数的に記述し、判別式から放物線の接線を定義しました\n",
    "* Fermatと並行して、Descartesは放物線に内接する円を代数的に記述し、判別式から放物線の接線を定義しました\n",
    "* このような代数的手法の起源は、古代ギリシアのMenaechmusまで遡ります\n",
    "* 残念ながら、Menaechmusの先駆性はApolloniusやArchmedesには引き継がれませんでした。Descartesまで科学は停滞します\n",
    ":::\n",
    "::::"
   ]
  },
  {
   "cell_type": "markdown",
   "id": "6795f40f-c4cd-4e0f-aed6-bfca8ed5becb",
   "metadata": {},
   "source": [
    "::::{admonition} ask ai\n",
    ":class: tip\n",
    "\n",
    "* Johannes keplerのようになりたいので助言を下さい\n",
    "\n",
    ":::{admonition} ask ai repeatedly\n",
    ":class: seealso\n",
    "\n",
    "* Tycho Braheは、火星の逆行現象に執着し、複雑な太陽系モデルを考案しました。\n",
    "* Tychoに観測助手として雇われたJohannes Keplerは、単純な太陽系モデルに回帰し、火星の公転軌道が偏心していることに気づきました。\n",
    "* Keplerは太陽と惑星の距離と公転速度におよそ積一定の関係を見出しました。\n",
    "  三角関数表による積和演算を駆使して、公転軌道は円の偏心ではなく楕円であることを発見し、Kepler方程式を導きました。\n",
    "* John Napierの対数表を入手し、第三法則までを発表します。\n",
    "* Keplerは、1607年に後にHalley彗星と命名される彗星を観測しましたが、その軌道が楕円であることに気づきませんでした。\n",
    ":::\n",
    "::::"
   ]
  },
  {
   "cell_type": "markdown",
   "id": "a07b7389-5797-494a-b07a-6707f2bb4cbb",
   "metadata": {},
   "source": [
    "* https://www.geogebra.org/m/r2jxygad"
   ]
  },
  {
   "cell_type": "code",
   "execution_count": 4,
   "id": "b57f38c2-c630-46ab-88f9-1e67ab9b077d",
   "metadata": {},
   "outputs": [
    {
     "data": {
      "text/html": [
       "\n",
       "        <iframe\n",
       "            width=\"1000\"\n",
       "            height=\"500\"\n",
       "            src=\"https://www.geogebra.org/material/iframe/id/r2jxygad/width/1366/height/853\"\n",
       "            frameborder=\"0\"\n",
       "            allowfullscreen\n",
       "            \n",
       "        ></iframe>\n",
       "        "
      ],
      "text/plain": [
       "<IPython.lib.display.IFrame at 0x7fa05f710650>"
      ]
     },
     "execution_count": 4,
     "metadata": {},
     "output_type": "execute_result"
    }
   ],
   "source": [
    "IFrame(\"https://www.geogebra.org/material/iframe/id/r2jxygad/width/1366/height/853\", width=1000, height=500)"
   ]
  }
 ],
 "metadata": {
  "kernelspec": {
   "display_name": "Python 3 (ipykernel)",
   "language": "python",
   "name": "python3"
  },
  "language_info": {
   "codemirror_mode": {
    "name": "ipython",
    "version": 3
   },
   "file_extension": ".py",
   "mimetype": "text/x-python",
   "name": "python",
   "nbconvert_exporter": "python",
   "pygments_lexer": "ipython3",
   "version": "3.12.9"
  }
 },
 "nbformat": 4,
 "nbformat_minor": 5
}
