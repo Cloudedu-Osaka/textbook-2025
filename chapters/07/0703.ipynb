{
 "cells": [
  {
   "cell_type": "code",
   "execution_count": 2,
   "id": "5bb45c2d-8a7e-4772-9250-221f470ea1fc",
   "metadata": {},
   "outputs": [],
   "source": [
    "from IPython.display import IFrame"
   ]
  },
  {
   "cell_type": "markdown",
   "id": "26e48b83-6e2e-4409-9afc-3033ccd81461",
   "metadata": {},
   "source": [
    "# 第七回: それは楕円？ (3)"
   ]
  },
  {
   "cell_type": "markdown",
   "id": "ae8c5e1d-3081-4fc5-826f-4bb4e2b255d4",
   "metadata": {},
   "source": [
    "::::{admonition} ask ai\n",
    ":class: tip\n",
    "\n",
    "円の外部の点から接線を引くことは作図難易度的に容易です。\n",
    "\n",
    ":::{admonition} ask ai repeatedly\n",
    ":class: seealso\n",
    "\n",
    "* 二つの接線と円は等距離で接します。\n",
    "* 二つの接線の角の二等分線のうち一本は円の中心を通ります。\n",
    "* 角の二等分線は直角に交わります。\n",
    "* 円の中心を通らない角の二等分線上に点をとり、円の中心を通る直線を引きます。\n",
    "  この直線と円の二つの接線の交点は、二等分線上に取った点を中心とする円と元の円の相似の中心となり、共通接線の交点になります。\n",
    "* 二つの円の中心を通る直線を軸として、外部共通接線を母線とする円錐を作図すると、元の円に対して接線の起点とした外部の点は、\n",
    "  円錐の切断面の起点として捉えることができ、内部共通接線の一つが円錐の切断面に現れる楕円の長軸になります。\n",
    "* 二つの円の中点を中心として二つの円の中心を通る円は、共通接線の交点を通ります。\n",
    "* さらに、二つの円の中心から楕円の長軸に対して垂線を下ろすと、それらの交点は楕円の焦点になります。\n",
    "  二つの円の中心と共通接戦の交点が円周上にあることから、楕円の長軸の構成は楕円の中心から対象になっています。\n",
    "* 円錐の切断面が楕円になることは、切断面の長軸と回転軸の張る平面上の幾何構造に由来します。\n",
    "  切断面が卵型線にならず、楕円の周上の点と二つの焦点の距離の和が等しいことも、この幾何構造に由来します。\n",
    "* 人類がこの性質に気付いたのはいつですか？\n",
    ":::\n",
    "::::"
   ]
  },
  {
   "cell_type": "markdown",
   "id": "e2ba3543-e5b1-41d1-99b1-f5dd46e342c5",
   "metadata": {},
   "source": [
    "## 7.6 円錐曲線の母線\n",
    "### 7.6.1 円錐曲線の母線 2D"
   ]
  },
  {
   "cell_type": "markdown",
   "id": "2bb16fb2-e0d2-4002-9c1b-5cdacb05cad2",
   "metadata": {},
   "source": [
    "* https://www.geogebra.org/m/nm3bjkuf"
   ]
  },
  {
   "cell_type": "code",
   "execution_count": 3,
   "id": "b1252603-74c4-45df-bef1-aa3d037b4228",
   "metadata": {},
   "outputs": [
    {
     "data": {
      "text/html": [
       "\n",
       "        <iframe\n",
       "            width=\"1000\"\n",
       "            height=\"500\"\n",
       "            src=\"https://www.geogebra.org/material/iframe/id/nm3bjkuf/width/1905/height/1016\"\n",
       "            frameborder=\"0\"\n",
       "            allowfullscreen\n",
       "            \n",
       "        ></iframe>\n",
       "        "
      ],
      "text/plain": [
       "<IPython.lib.display.IFrame at 0x7fd0efe08f20>"
      ]
     },
     "execution_count": 3,
     "metadata": {},
     "output_type": "execute_result"
    }
   ],
   "source": [
    "IFrame(\"https://www.geogebra.org/material/iframe/id/nm3bjkuf/width/1905/height/1016\", width=1000, height=500)"
   ]
  },
  {
   "cell_type": "markdown",
   "id": "0b5a9fa5-cf40-4bd8-9ffb-08bb4128428d",
   "metadata": {},
   "source": [
    "### 7.6.2 円錐曲線の母線 3D"
   ]
  },
  {
   "cell_type": "markdown",
   "id": "4d38b70a-5a04-4853-85df-5c1912ce05d9",
   "metadata": {},
   "source": [
    "* https://www.geogebra.org/m/bef7k4dj"
   ]
  },
  {
   "cell_type": "code",
   "execution_count": 4,
   "id": "20d0a1c8-11aa-4dbc-b9f9-24bd21ae9cb7",
   "metadata": {},
   "outputs": [
    {
     "data": {
      "text/html": [
       "\n",
       "        <iframe\n",
       "            width=\"1000\"\n",
       "            height=\"500\"\n",
       "            src=\"https://www.geogebra.org/material/iframe/id/bef7k4dj/width/1905/height/1016\"\n",
       "            frameborder=\"0\"\n",
       "            allowfullscreen\n",
       "            \n",
       "        ></iframe>\n",
       "        "
      ],
      "text/plain": [
       "<IPython.lib.display.IFrame at 0x7fd0efe08800>"
      ]
     },
     "execution_count": 4,
     "metadata": {},
     "output_type": "execute_result"
    }
   ],
   "source": [
    "IFrame(\"https://www.geogebra.org/material/iframe/id/bef7k4dj/width/1905/height/1016\", width=1000, height=500)"
   ]
  },
  {
   "cell_type": "markdown",
   "id": "83ad354d-a0c3-47cc-aba0-89e4e16d1a7f",
   "metadata": {},
   "source": [
    "## 7.7 Kepler方程式"
   ]
  },
  {
   "cell_type": "markdown",
   "id": "2f04e9af-c861-49cd-8bd5-00e827d55951",
   "metadata": {},
   "source": [
    "* https://www.geogebra.org/m/v7s9rgn8"
   ]
  },
  {
   "cell_type": "code",
   "execution_count": 5,
   "id": "4853f5ff-4f4d-4d31-b887-6c7a048a877c",
   "metadata": {},
   "outputs": [
    {
     "data": {
      "text/html": [
       "\n",
       "        <iframe\n",
       "            width=\"1000\"\n",
       "            height=\"500\"\n",
       "            src=\"https://www.geogebra.org/material/iframe/id/v7s9rgn8/width/1905/height/1016\"\n",
       "            frameborder=\"0\"\n",
       "            allowfullscreen\n",
       "            \n",
       "        ></iframe>\n",
       "        "
      ],
      "text/plain": [
       "<IPython.lib.display.IFrame at 0x7fd0efe089e0>"
      ]
     },
     "execution_count": 5,
     "metadata": {},
     "output_type": "execute_result"
    }
   ],
   "source": [
    "IFrame(\"https://www.geogebra.org/material/iframe/id/v7s9rgn8/width/1905/height/1016\", width=1000, height=500)"
   ]
  },
  {
   "cell_type": "code",
   "execution_count": null,
   "id": "458d79a5-5a4d-42a4-bf8d-962df3373fbb",
   "metadata": {},
   "outputs": [],
   "source": []
  }
 ],
 "metadata": {
  "kernelspec": {
   "display_name": "Python 3 (ipykernel)",
   "language": "python",
   "name": "python3"
  },
  "language_info": {
   "codemirror_mode": {
    "name": "ipython",
    "version": 3
   },
   "file_extension": ".py",
   "mimetype": "text/x-python",
   "name": "python",
   "nbconvert_exporter": "python",
   "pygments_lexer": "ipython3",
   "version": "3.12.9"
  }
 },
 "nbformat": 4,
 "nbformat_minor": 5
}
