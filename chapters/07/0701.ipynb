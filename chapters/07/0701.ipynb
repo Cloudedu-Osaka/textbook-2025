{
 "cells": [
  {
   "cell_type": "code",
   "execution_count": 5,
   "id": "5bb45c2d-8a7e-4772-9250-221f470ea1fc",
   "metadata": {},
   "outputs": [],
   "source": [
    "from IPython.display import IFrame"
   ]
  },
  {
   "cell_type": "markdown",
   "id": "26e48b83-6e2e-4409-9afc-3033ccd81461",
   "metadata": {},
   "source": [
    "# 第七回: それは楕円？ (3)"
   ]
  },
  {
   "cell_type": "markdown",
   "id": "ae8c5e1d-3081-4fc5-826f-4bb4e2b255d4",
   "metadata": {},
   "source": [
    "::::{admonition} ask ai\n",
    ":class: tip\n",
    "\n",
    "円の外部の点から接線を引くことは作図難易度的に容易です。\n",
    "\n",
    ":::{admonition} ask ai repeatedly\n",
    ":class: seealso\n",
    "\n",
    "* 二つの接線と円は等距離で接します。\n",
    "* 二つの接線の角の二等分線のうち一本は円の中心を通ります。\n",
    "* 角の二等分線は直角に交わります。\n",
    "* 円の中心を通らない角の二等分線上に点をとり、円の中心を通る直線を引きます。\n",
    "  この直線と円の二つの接線の交点は、二等分線上に取った点を中心とする円と元の円の相似の中心となり、共通接線の交点になります。\n",
    "* 二つの円の中心を通る直線を軸として、外部共通接線を母線とする円錐を作図すると、元の円に対して接線の起点とした外部の点は、\n",
    "  円錐の切断面の起点として捉えることができ、内部共通接線の一つが円錐の切断面に現れる楕円の長軸になります。\n",
    "* 二つの円の中点を中心として二つの円の中心を通る円は、共通接線の交点を通ります。\n",
    "* さらに、二つの円の中心から楕円の長軸に対して垂線を下ろすと、それらの交点は楕円の焦点になります。\n",
    "  二つの円の中心と共通接戦の交点が円周上にあることから、楕円の長軸の構成は楕円の中心から対象になっています。\n",
    "* 円錐の切断面が楕円になることは、切断面の長軸と回転軸の張る平面上の幾何構造に由来します。\n",
    "  切断面が卵型線にならず、楕円の周上の点と二つの焦点の距離の和が等しいことも、この幾何構造に由来します。\n",
    "* 人類がこの性質に気付いたのはいつですか？\n",
    ":::\n",
    "::::"
   ]
  },
  {
   "cell_type": "markdown",
   "id": "e2ba3543-e5b1-41d1-99b1-f5dd46e342c5",
   "metadata": {},
   "source": [
    "## 7.1 円の外部の点からの接線の作図"
   ]
  },
  {
   "cell_type": "markdown",
   "id": "2bb16fb2-e0d2-4002-9c1b-5cdacb05cad2",
   "metadata": {},
   "source": [
    "* https://www.geogebra.org/m/xhtp3vm7"
   ]
  },
  {
   "cell_type": "code",
   "execution_count": 7,
   "id": "b1252603-74c4-45df-bef1-aa3d037b4228",
   "metadata": {
    "collapsed": true,
    "jupyter": {
     "outputs_hidden": true
    }
   },
   "outputs": [
    {
     "data": {
      "text/html": [
       "\n",
       "        <iframe\n",
       "            width=\"1000\"\n",
       "            height=\"500\"\n",
       "            src=\"https://www.geogebra.org/material/iframe/id/xhtp3vm7/width/1905/height/1016\"\n",
       "            frameborder=\"0\"\n",
       "            allowfullscreen\n",
       "            \n",
       "        ></iframe>\n",
       "        "
      ],
      "text/plain": [
       "<IPython.lib.display.IFrame at 0x7f40fd912db0>"
      ]
     },
     "execution_count": 7,
     "metadata": {},
     "output_type": "execute_result"
    }
   ],
   "source": [
    "IFrame(\"https://www.geogebra.org/material/iframe/id/xhtp3vm7/width/1905/height/1016\", width=1000, height=500)"
   ]
  },
  {
   "cell_type": "markdown",
   "id": "0b5a9fa5-cf40-4bd8-9ffb-08bb4128428d",
   "metadata": {},
   "source": [
    "## 7.2 外部の点からの性質: 等距離"
   ]
  },
  {
   "cell_type": "markdown",
   "id": "4d38b70a-5a04-4853-85df-5c1912ce05d9",
   "metadata": {},
   "source": [
    "* https://www.geogebra.org/m/gzcg9e4t"
   ]
  },
  {
   "cell_type": "code",
   "execution_count": 8,
   "id": "20d0a1c8-11aa-4dbc-b9f9-24bd21ae9cb7",
   "metadata": {
    "collapsed": true,
    "jupyter": {
     "outputs_hidden": true
    }
   },
   "outputs": [
    {
     "data": {
      "text/html": [
       "\n",
       "        <iframe\n",
       "            width=\"1000\"\n",
       "            height=\"500\"\n",
       "            src=\"https://www.geogebra.org/material/iframe/id/gzcg9e4t/width/1905/height/1016\"\n",
       "            frameborder=\"0\"\n",
       "            allowfullscreen\n",
       "            \n",
       "        ></iframe>\n",
       "        "
      ],
      "text/plain": [
       "<IPython.lib.display.IFrame at 0x7f40fd912ea0>"
      ]
     },
     "execution_count": 8,
     "metadata": {},
     "output_type": "execute_result"
    }
   ],
   "source": [
    "IFrame(\"https://www.geogebra.org/material/iframe/id/gzcg9e4t/width/1905/height/1016\", width=1000, height=500)"
   ]
  },
  {
   "cell_type": "markdown",
   "id": "83ad354d-a0c3-47cc-aba0-89e4e16d1a7f",
   "metadata": {},
   "source": [
    "## 7.3 外部の点からの接線の性質: 角の二等分線"
   ]
  },
  {
   "cell_type": "markdown",
   "id": "2f04e9af-c861-49cd-8bd5-00e827d55951",
   "metadata": {},
   "source": [
    "* https://www.geogebra.org/m/nq4hvepw"
   ]
  },
  {
   "cell_type": "code",
   "execution_count": 9,
   "id": "4853f5ff-4f4d-4d31-b887-6c7a048a877c",
   "metadata": {
    "collapsed": true,
    "jupyter": {
     "outputs_hidden": true
    }
   },
   "outputs": [
    {
     "data": {
      "text/html": [
       "\n",
       "        <iframe\n",
       "            width=\"1000\"\n",
       "            height=\"500\"\n",
       "            src=\"https://www.geogebra.org/material/iframe/id/nq4hvepw/width/1905/height/1016\"\n",
       "            frameborder=\"0\"\n",
       "            allowfullscreen\n",
       "            \n",
       "        ></iframe>\n",
       "        "
      ],
      "text/plain": [
       "<IPython.lib.display.IFrame at 0x7f40fd9118b0>"
      ]
     },
     "execution_count": 9,
     "metadata": {},
     "output_type": "execute_result"
    }
   ],
   "source": [
    "IFrame(\"https://www.geogebra.org/material/iframe/id/nq4hvepw/width/1905/height/1016\", width=1000, height=500)"
   ]
  },
  {
   "cell_type": "markdown",
   "id": "b5a806ce-0eaf-481a-ad73-5daeb5ad7534",
   "metadata": {},
   "source": [
    "## 7.4 二つの円との共通接線"
   ]
  },
  {
   "cell_type": "markdown",
   "id": "bfc8a12d-cab4-4998-9f1c-86f311edecad",
   "metadata": {},
   "source": [
    "* https://www.geogebra.org/m/kgp4jqpe"
   ]
  },
  {
   "cell_type": "code",
   "execution_count": 10,
   "id": "e6d5f74c-5c11-42f4-8ea7-bc4ef8f4cb8a",
   "metadata": {},
   "outputs": [
    {
     "data": {
      "text/html": [
       "\n",
       "        <iframe\n",
       "            width=\"1000\"\n",
       "            height=\"500\"\n",
       "            src=\"https://www.geogebra.org/material/iframe/id/kgp4jqpe/width/1905/height/1016\"\n",
       "            frameborder=\"0\"\n",
       "            allowfullscreen\n",
       "            \n",
       "        ></iframe>\n",
       "        "
      ],
      "text/plain": [
       "<IPython.lib.display.IFrame at 0x7f40fd913230>"
      ]
     },
     "execution_count": 10,
     "metadata": {},
     "output_type": "execute_result"
    }
   ],
   "source": [
    "IFrame(\"https://www.geogebra.org/material/iframe/id/kgp4jqpe/width/1905/height/1016\", width=1000, height=500)"
   ]
  },
  {
   "cell_type": "code",
   "execution_count": null,
   "id": "1a9c6e49-9202-40ce-ada0-a9b5e26af521",
   "metadata": {},
   "outputs": [],
   "source": []
  }
 ],
 "metadata": {
  "kernelspec": {
   "display_name": "Python 3 (ipykernel)",
   "language": "python",
   "name": "python3"
  },
  "language_info": {
   "codemirror_mode": {
    "name": "ipython",
    "version": 3
   },
   "file_extension": ".py",
   "mimetype": "text/x-python",
   "name": "python",
   "nbconvert_exporter": "python",
   "pygments_lexer": "ipython3",
   "version": "3.12.9"
  }
 },
 "nbformat": 4,
 "nbformat_minor": 5
}
