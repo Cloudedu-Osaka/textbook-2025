{
 "cells": [
  {
   "cell_type": "code",
   "execution_count": 2,
   "id": "dc64bbb8-828f-4dd5-ab98-79c5aaf5b277",
   "metadata": {},
   "outputs": [],
   "source": [
    "from IPython.display import IFrame"
   ]
  },
  {
   "cell_type": "markdown",
   "id": "9434d352-9f56-4d50-b644-9a6aeb841499",
   "metadata": {},
   "source": [
    "# 第六回: それは楕円？ (2)\n",
    "\n",
    "## 6.2 円錐の切断面と直観"
   ]
  },
  {
   "cell_type": "markdown",
   "id": "062db23d-ba3b-473e-9f22-73ebe4aaa524",
   "metadata": {},
   "source": [
    "::::{admonition} ask ai\n",
    ":class: tip\n",
    "\n",
    "円柱の斜めの切断面は楕円になります。それは直観どおりです。\n",
    "\n",
    ":::{admonition} ask ai repeatedly\n",
    ":class: seealso\n",
    "\n",
    "* 切断面の傾きは、楕円の中心と焦点の距離に相等します。\n",
    "* 切断面の傾きは、短軸の半径$b$と傾きの高さ$c$の比$\\frac{c}{b}$で表すことができます。\n",
    "  長軸の半径を$a$とすると、ピタゴラスの定理から$a^2=b^2+c^2$が成り立ちます。\n",
    "  すなわち傾きの高さ$c$は、楕円の中心から焦点の距離そのものです\n",
    ":::\n",
    "::::"
   ]
  },
  {
   "cell_type": "markdown",
   "id": "c554e70f-2ddc-4ab2-9519-b035d2e0ed3d",
   "metadata": {},
   "source": [
    "* https://www.geogebra.org/m/xpdprb9f"
   ]
  },
  {
   "cell_type": "code",
   "execution_count": 3,
   "id": "826e30cd-3063-45c8-a8d1-f0c4368cd439",
   "metadata": {
    "collapsed": true,
    "jupyter": {
     "outputs_hidden": true
    }
   },
   "outputs": [
    {
     "data": {
      "text/html": [
       "\n",
       "        <iframe\n",
       "            width=\"1000\"\n",
       "            height=\"500\"\n",
       "            src=\"https://www.geogebra.org/material/iframe/id/xpdprb9f/width/1907/height/1019\"\n",
       "            frameborder=\"0\"\n",
       "            allowfullscreen\n",
       "            \n",
       "        ></iframe>\n",
       "        "
      ],
      "text/plain": [
       "<IPython.lib.display.IFrame at 0x7f141e9611c0>"
      ]
     },
     "execution_count": 3,
     "metadata": {},
     "output_type": "execute_result"
    }
   ],
   "source": [
    "IFrame(\"https://www.geogebra.org/material/iframe/id/xpdprb9f/width/1907/height/1019\", width=1000, height=500)"
   ]
  },
  {
   "cell_type": "markdown",
   "id": "33f37571-8d7a-4d5e-bf64-c09913841b4b",
   "metadata": {},
   "source": [
    "::::{admonition} ask ai\n",
    ":class: tip\n",
    "\n",
    "円錐の斜めの切断面は、楕円か放物線か双曲線になります。\n",
    "\n",
    ":::{admonition} ask ai repeatedly\n",
    ":class: seealso\n",
    "\n",
    "* 円錐の水平断面に現れる円は、切断面の高さに比例して曲率が変化しますから、切断面に楕円が現れるのは直観に反します\n",
    "* Dandelinは、円錐と切断面に内接する二つの球を使って、切断面と球の接点を焦点とすると、\n",
    "  切断面の「楕円」の周上の点と焦点の距離の和が等しくなることを作図幾何学的に証明しました\n",
    "* しかし、この証明は「楕円」の長軸において焦点と頂点が中心から対象であることが示されていません。\n",
    "  円錐の切断面に現れる「楕円」の中心と、円錐の回転軸は一致しません。そのため、長軸の対称性は自明ではありません\n",
    ":::\n",
    "::::\n",
    "\n",
    "* [Dandelin spheres - Wikipedia](https://en.wikipedia.org/wiki/Dandelin_spheres)"
   ]
  },
  {
   "cell_type": "markdown",
   "id": "1018c76a-b9b0-4530-9147-cee131877944",
   "metadata": {},
   "source": [
    "* https://www.geogebra.org/m/qprb87kg"
   ]
  },
  {
   "cell_type": "code",
   "execution_count": 4,
   "id": "f7128aa5-5610-41ac-bcaf-e939369a1f7b",
   "metadata": {
    "collapsed": true,
    "jupyter": {
     "outputs_hidden": true
    }
   },
   "outputs": [
    {
     "data": {
      "text/html": [
       "\n",
       "        <iframe\n",
       "            width=\"1000\"\n",
       "            height=\"500\"\n",
       "            src=\"https://www.geogebra.org/material/iframe/id/qprb87kg/width/1907/height/1019\"\n",
       "            frameborder=\"0\"\n",
       "            allowfullscreen\n",
       "            \n",
       "        ></iframe>\n",
       "        "
      ],
      "text/plain": [
       "<IPython.lib.display.IFrame at 0x7f141e9613a0>"
      ]
     },
     "execution_count": 4,
     "metadata": {},
     "output_type": "execute_result"
    }
   ],
   "source": [
    "IFrame(\"https://www.geogebra.org/material/iframe/id/qprb87kg/width/1907/height/1019\", width=1000, height=500)"
   ]
  },
  {
   "cell_type": "code",
   "execution_count": null,
   "id": "efe22e53-d52d-4377-90fa-104be3a8943b",
   "metadata": {},
   "outputs": [],
   "source": []
  }
 ],
 "metadata": {
  "kernelspec": {
   "display_name": "Python 3 (ipykernel)",
   "language": "python",
   "name": "python3"
  },
  "language_info": {
   "codemirror_mode": {
    "name": "ipython",
    "version": 3
   },
   "file_extension": ".py",
   "mimetype": "text/x-python",
   "name": "python",
   "nbconvert_exporter": "python",
   "pygments_lexer": "ipython3",
   "version": "3.12.9"
  }
 },
 "nbformat": 4,
 "nbformat_minor": 5
}
