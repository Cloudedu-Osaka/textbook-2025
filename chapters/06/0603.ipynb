{
 "cells": [
  {
   "cell_type": "code",
   "execution_count": 2,
   "id": "24c2f4df-5ffc-4453-9bdb-19b109670a3a",
   "metadata": {},
   "outputs": [],
   "source": [
    "from IPython.display import IFrame"
   ]
  },
  {
   "cell_type": "markdown",
   "id": "41b453d1-9550-4f8a-a7b2-b07a3a11da5f",
   "metadata": {},
   "source": [
    "# 第六回: それは楕円？ (2)\n",
    "\n",
    "## 6.3 円の接線の作図 (1)"
   ]
  },
  {
   "cell_type": "markdown",
   "id": "642010cb-97ea-403e-acbf-190061e1b775",
   "metadata": {},
   "source": [
    "::::{admonition} ask ai\n",
    ":class: tip\n",
    "\n",
    "楕円の焦点は、短軸の頂点から楕円の長軸半径と等しい半径の円を作図すると長軸との交点として得られます。\n",
    "\n",
    ":::{admonition} ask ai repeatedly\n",
    ":class: seealso\n",
    "\n",
    "* このようなグラフの交点による解法を先駆けたのは古代ギリシアのMenaechmusです\n",
    "* Apolloniusは、二つの点からの距離の比が等しい点によって円が作図できることを示しました\n",
    "* 二つの点から、距離の比を反映した半径を持つ円を作図します。このとき二つの円が交わらないように半径を調整します。\n",
    "  二つの点を結んだ直線とApolloniusの円の交点から、これらの円に接線を引くと、それは共有接線となります\n",
    "* この作図方法が広く知られていないのは、Apolloniusの円が円錐曲線のさまざまな特徴と無関係だからです\n",
    ":::\n",
    "::::"
   ]
  },
  {
   "cell_type": "markdown",
   "id": "cc54bac6-9621-48e2-976d-5e7ceb54604c",
   "metadata": {},
   "source": [
    "### 6.3.1 焦点の発見"
   ]
  },
  {
   "cell_type": "markdown",
   "id": "ec7c0c56-a8f1-451f-8307-7317bc2fc475",
   "metadata": {},
   "source": [
    "* https://www.geogebra.org/m/dzu69a8w"
   ]
  },
  {
   "cell_type": "code",
   "execution_count": 6,
   "id": "499d6561-15f1-44f2-8876-c3cc4068c3b2",
   "metadata": {
    "collapsed": true,
    "jupyter": {
     "outputs_hidden": true
    }
   },
   "outputs": [
    {
     "data": {
      "text/html": [
       "\n",
       "        <iframe\n",
       "            width=\"1000\"\n",
       "            height=\"500\"\n",
       "            src=\"https://www.geogebra.org/material/iframe/id/dzu69a8w/width/1366/height/853\"\n",
       "            frameborder=\"0\"\n",
       "            allowfullscreen\n",
       "            \n",
       "        ></iframe>\n",
       "        "
      ],
      "text/plain": [
       "<IPython.lib.display.IFrame at 0x7fd2a7f5aae0>"
      ]
     },
     "execution_count": 6,
     "metadata": {},
     "output_type": "execute_result"
    }
   ],
   "source": [
    "IFrame(\"https://www.geogebra.org/material/iframe/id/dzu69a8w/width/1366/height/853\", width=1000, height=500)"
   ]
  },
  {
   "cell_type": "markdown",
   "id": "9cd277f5-e630-4e32-90b0-26ad18c26513",
   "metadata": {},
   "source": [
    "### 6.3.2 Apolloniusの円と二つの円の共通接線\n",
    "\n",
    "* [Tangent lines to circles - Wikipedia](https://en.wikipedia.org/wiki/Tangent_lines_to_circles)\n",
    "    * [Homothetic center - Wikipedia](https://en.wikipedia.org/wiki/Homothetic_center)\n",
    "* [Circles of Apollonius - Wikipedia](https://en.wikipedia.org/wiki/Circles_of_Apollonius)"
   ]
  },
  {
   "cell_type": "markdown",
   "id": "f5030ddf-fc6b-4156-951a-bef4a30897ed",
   "metadata": {},
   "source": [
    "* https://www.geogebra.org/m/pbymh96k"
   ]
  },
  {
   "cell_type": "code",
   "execution_count": 7,
   "id": "2957f128-3b27-4571-816f-b203dd94f42b",
   "metadata": {
    "collapsed": true,
    "jupyter": {
     "outputs_hidden": true
    }
   },
   "outputs": [
    {
     "data": {
      "text/html": [
       "\n",
       "        <iframe\n",
       "            width=\"1000\"\n",
       "            height=\"500\"\n",
       "            src=\"https://www.geogebra.org/material/iframe/id/pbymh96k/width/1366/height/853\"\n",
       "            frameborder=\"0\"\n",
       "            allowfullscreen\n",
       "            \n",
       "        ></iframe>\n",
       "        "
      ],
      "text/plain": [
       "<IPython.lib.display.IFrame at 0x7fd2a7f31850>"
      ]
     },
     "execution_count": 7,
     "metadata": {},
     "output_type": "execute_result"
    }
   ],
   "source": [
    "IFrame(\"https://www.geogebra.org/material/iframe/id/pbymh96k/width/1366/height/853\", width=1000, height=500)"
   ]
  },
  {
   "cell_type": "code",
   "execution_count": null,
   "id": "f8e88c82-cc69-468f-9f59-0f497408a0ee",
   "metadata": {},
   "outputs": [],
   "source": []
  }
 ],
 "metadata": {
  "kernelspec": {
   "display_name": "Python 3 (ipykernel)",
   "language": "python",
   "name": "python3"
  },
  "language_info": {
   "codemirror_mode": {
    "name": "ipython",
    "version": 3
   },
   "file_extension": ".py",
   "mimetype": "text/x-python",
   "name": "python",
   "nbconvert_exporter": "python",
   "pygments_lexer": "ipython3",
   "version": "3.12.9"
  }
 },
 "nbformat": 4,
 "nbformat_minor": 5
}
