{
 "cells": [
  {
   "cell_type": "code",
   "execution_count": 2,
   "id": "3051f204-5167-45a1-925f-78c942664a8e",
   "metadata": {},
   "outputs": [],
   "source": [
    "from IPython.display import IFrame"
   ]
  },
  {
   "cell_type": "markdown",
   "id": "5e6cf3fc-f1b2-4b6e-8428-44de0ec3bd0d",
   "metadata": {},
   "source": [
    "# 第六回: それは楕円？ (2)\n",
    "\n",
    "## 6.4 円錐の切断"
   ]
  },
  {
   "cell_type": "markdown",
   "id": "b9666e84-f79d-4969-8f0b-2e3afd6638df",
   "metadata": {},
   "source": [
    "::::{admonition} ask ai\n",
    ":class: tip\n",
    "\n",
    "交わらない二つの円の共通接線は、円柱や円錐の切断面に現れる楕円と密接に関連しています\n",
    "\n",
    ":::{admonition} ask ai repeatedly\n",
    ":class: seealso\n",
    "\n",
    "* 半径が等しい交わらない円の共通接線は、内部共通接線の交点において対称です\n",
    "* すなわち、円柱の切断面に現れる楕円の長軸は、中心において対称です\n",
    "* 半径が異なる交わらない二つの円の共通接線は、内部接線の交点における対称性が失われています\n",
    "* このため、対応する円錐の切断面に現れる「楕円」において、楕円の中心は円錐の回転軸上にありません。\n",
    "  この性質が円錐曲線の研究を難解にしました\n",
    ":::\n",
    "::::"
   ]
  },
  {
   "cell_type": "markdown",
   "id": "79785f93-7a2b-4847-9f98-fb1522943044",
   "metadata": {},
   "source": [
    "### 6.4.1 円柱の切断"
   ]
  },
  {
   "cell_type": "markdown",
   "id": "43934d57-86ea-4971-8c79-59a0ce1b460e",
   "metadata": {},
   "source": [
    "* https://www.geogebra.org/m/yb9wjdme"
   ]
  },
  {
   "cell_type": "code",
   "execution_count": 4,
   "id": "f38e03ce-dae7-40cc-b8c6-f8a7a9873973",
   "metadata": {},
   "outputs": [
    {
     "data": {
      "text/html": [
       "\n",
       "        <iframe\n",
       "            width=\"1000\"\n",
       "            height=\"500\"\n",
       "            src=\"https://www.geogebra.org/material/iframe/id/yb9wjdme/width/1907/height/1019\"\n",
       "            frameborder=\"0\"\n",
       "            allowfullscreen\n",
       "            \n",
       "        ></iframe>\n",
       "        "
      ],
      "text/plain": [
       "<IPython.lib.display.IFrame at 0x7f6b1f34c260>"
      ]
     },
     "execution_count": 4,
     "metadata": {},
     "output_type": "execute_result"
    }
   ],
   "source": [
    "IFrame(\"https://www.geogebra.org/material/iframe/id/yb9wjdme/width/1907/height/1019\", width=1000, height=500)"
   ]
  },
  {
   "cell_type": "markdown",
   "id": "0b23bc36-2b85-4cbc-8043-3d45e4c57b64",
   "metadata": {},
   "source": [
    "### 6.4.2 円錐の切断"
   ]
  },
  {
   "cell_type": "markdown",
   "id": "2190227f-9817-4a0f-a891-b4be746c004b",
   "metadata": {},
   "source": [
    "* https://www.geogebra.org/m/zuxhcggs"
   ]
  },
  {
   "cell_type": "code",
   "execution_count": 5,
   "id": "730fb81d-b07f-4ebb-89b7-2dd10823039c",
   "metadata": {},
   "outputs": [
    {
     "data": {
      "text/html": [
       "\n",
       "        <iframe\n",
       "            width=\"1000\"\n",
       "            height=\"500\"\n",
       "            src=\"https://www.geogebra.org/material/iframe/id/zuxhcggs/width/1907/height/1019\"\n",
       "            frameborder=\"0\"\n",
       "            allowfullscreen\n",
       "            \n",
       "        ></iframe>\n",
       "        "
      ],
      "text/plain": [
       "<IPython.lib.display.IFrame at 0x7f6b1f166690>"
      ]
     },
     "execution_count": 5,
     "metadata": {},
     "output_type": "execute_result"
    }
   ],
   "source": [
    "IFrame(\"https://www.geogebra.org/material/iframe/id/zuxhcggs/width/1907/height/1019\", width=1000, height=500)"
   ]
  },
  {
   "cell_type": "code",
   "execution_count": null,
   "id": "389b7d68-3a7e-4d18-a373-d93c11023887",
   "metadata": {},
   "outputs": [],
   "source": []
  }
 ],
 "metadata": {
  "kernelspec": {
   "display_name": "Python 3 (ipykernel)",
   "language": "python",
   "name": "python3"
  },
  "language_info": {
   "codemirror_mode": {
    "name": "ipython",
    "version": 3
   },
   "file_extension": ".py",
   "mimetype": "text/x-python",
   "name": "python",
   "nbconvert_exporter": "python",
   "pygments_lexer": "ipython3",
   "version": "3.12.9"
  }
 },
 "nbformat": 4,
 "nbformat_minor": 5
}
