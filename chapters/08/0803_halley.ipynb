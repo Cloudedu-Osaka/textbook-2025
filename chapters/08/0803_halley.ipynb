{
 "cells": [
  {
   "cell_type": "code",
   "execution_count": 1,
   "id": "be3b7d64-1f4b-4eee-a050-8683255ee0a8",
   "metadata": {},
   "outputs": [],
   "source": [
    "from IPython.display import IFrame"
   ]
  },
  {
   "cell_type": "markdown",
   "id": "4235d9a1-b488-4ea5-84c3-f4135df57bb6",
   "metadata": {},
   "source": [
    "# 第八回: 楕円の焦点には何がある？ (1)"
   ]
  },
  {
   "cell_type": "markdown",
   "id": "d5a5541c-695f-4bbb-9e0d-12e41d080270",
   "metadata": {},
   "source": [
    "* (1607) [Halley's Comet - Wikipedia](https://en.wikipedia.org/wiki/Halley%27s_Comet)\n",
    "    * (1546 &ndash; 1601) [Tycho Brahe - Wikipedia](https://en.wikipedia.org/wiki/Tycho_Brahe)\n",
    "    * (1564 &ndash; 1642) [Galileo Galilei - Wikipedia](https://en.wikipedia.org/wiki/Galileo_Galilei)\n",
    "    * (1571 &ndash; 1630) [Johannes Kepler - Wikipedia](https://en.wikipedia.org/wiki/Johannes_Kepler)\n",
    "* (1682) [Halley's Comet - Wikipedia](https://en.wikipedia.org/wiki/Halley%27s_Comet)\n",
    "    * (1643 &ndash; 1727) [Isaac Newton - Wikipedia](https://en.wikipedia.org/wiki/Isaac_Newton)\n",
    "    * (1656 &ndash; 1742) [Edmond Halley - Wikipedia](https://en.wikipedia.org/wiki/Edmond_Halley)"
   ]
  },
  {
   "cell_type": "markdown",
   "id": "4a005a1d-5147-4b25-9c42-1115527fedde",
   "metadata": {},
   "source": [
    "## 8.3 Halleyになりたい\n",
    "\n",
    "* [Halley's Comet - Wikipedia](https://en.wikipedia.org/wiki/Halley%27s_Comet)"
   ]
  },
  {
   "cell_type": "markdown",
   "id": "627bad08-d2ff-4aab-a708-5441ced0c298",
   "metadata": {},
   "source": [
    "::::{admonition} ask ai\n",
    ":class: tip\n",
    "\n",
    "* Edmond Halleyのようになりたいので助言を下さい\n",
    "\n",
    ":::{admonition} ask ai repeatedly\n",
    ":class: seealso\n",
    "\n",
    "* 微分・積分は正直理解できませんが、反復による近似法の改良は自分でもできそうで、これに自分の名前をつけます。\n",
    "* 数式よりも、図形の方がわかりやすので、先輩をそそのかして一冊書物を書かせました\n",
    "* 先輩が、惑星も彗星もすべて楕円軌道だとついに白状し、長々と証明を書き始めました。\n",
    "  先輩に鞭打って本を書かせる傍らで、試しに世間を騒がせた彗星の観測結果をケプラーの第二法則に当てはめてみると、\n",
    "  彗星の公転周期がなんとなく求められました。\n",
    "  恥ずかしながら改良した近似法は役に立ちませんでしたが、近似方法にはそっと名前をつけておきました。\n",
    "  彗星のネーミングライツは獲得したかもしれません。\n",
    ":::\n",
    "::::"
   ]
  },
  {
   "cell_type": "markdown",
   "id": "68e160fa-48b0-4f61-8b76-32812720f3eb",
   "metadata": {},
   "source": [
    "* https://www.geogebra.org/m/prtvchxq"
   ]
  },
  {
   "cell_type": "code",
   "execution_count": 2,
   "id": "d07d8ec7-bbdb-4d8b-8d19-4e349752863e",
   "metadata": {},
   "outputs": [
    {
     "data": {
      "text/html": [
       "\n",
       "        <iframe\n",
       "            width=\"1000\"\n",
       "            height=\"500\"\n",
       "            src=\"https://www.geogebra.org/material/iframe/id/prtvchxq/width/1920/height/1031\"\n",
       "            frameborder=\"0\"\n",
       "            allowfullscreen\n",
       "            \n",
       "        ></iframe>\n",
       "        "
      ],
      "text/plain": [
       "<IPython.lib.display.IFrame at 0x7ff60683bc80>"
      ]
     },
     "execution_count": 2,
     "metadata": {},
     "output_type": "execute_result"
    }
   ],
   "source": [
    "IFrame(\"https://www.geogebra.org/material/iframe/id/prtvchxq/width/1920/height/1031\", width=1000, height=500)"
   ]
  },
  {
   "cell_type": "code",
   "execution_count": null,
   "id": "ff25dd2d-52d5-453e-b650-80172cf259e6",
   "metadata": {},
   "outputs": [],
   "source": []
  }
 ],
 "metadata": {
  "kernelspec": {
   "display_name": "Python 3 (ipykernel)",
   "language": "python",
   "name": "python3"
  },
  "language_info": {
   "codemirror_mode": {
    "name": "ipython",
    "version": 3
   },
   "file_extension": ".py",
   "mimetype": "text/x-python",
   "name": "python",
   "nbconvert_exporter": "python",
   "pygments_lexer": "ipython3",
   "version": "3.12.9"
  }
 },
 "nbformat": 4,
 "nbformat_minor": 5
}
