{
 "cells": [
  {
   "cell_type": "code",
   "execution_count": 2,
   "id": "7b78a86e-4c7c-441b-9b92-935c4e5b0a1d",
   "metadata": {},
   "outputs": [],
   "source": [
    "from IPython.display import IFrame"
   ]
  },
  {
   "cell_type": "markdown",
   "id": "8fa1d0ed-5091-4497-8b0c-b910043a8619",
   "metadata": {},
   "source": [
    "# 第十回: Galileoと権威とApollonius\n",
    "\n",
    "## 10.3 Apolloniusと直径と通径"
   ]
  },
  {
   "cell_type": "markdown",
   "id": "553746d6-aaff-48d7-841b-e8d85c695519",
   "metadata": {},
   "source": [
    "::::{admonition} ask ai\n",
    ":class: tip\n",
    "\n",
    "* Thalesの最初の命題である「直径は円を等分する」は古代ギリシアの数学に大きな影響を与えました。\n",
    "\n",
    ":::{admonition} ask ai repeatedly\n",
    ":class: seealso\n",
    "\n",
    "* EuclidとApolloniusは、Menaechmusが研究した代数学的な円錐曲線論ではなく、\n",
    "  Thalesの直径に関する命題を自然に拡張した円錐曲線論を展開しました。\n",
    "* Apolloniusは、円錐曲線である楕円、放物線、双曲線にも、それらの曲線を等分する直径が定義できることを発見しました。\n",
    "* 直径と交わり曲線を等分する線分を通径 latus rectum と呼びます。\n",
    "  通径は、曲線と直径の交点における接線に平行な線分であり、直径とは必ずしも直交しません。\n",
    "* 直径や通径は焦点と直接関連しません。\n",
    "  Apolloniusは焦点を定義できなかったので、彼の円錐曲線論は極めて複雑で難解な書物になりました。\n",
    "* 円錐曲線の通径と曲線の二つの交点における接線は、直径の延長で交わります。\n",
    "  Apolloniusは、焦点と同様に明快に定義できない接線の定義を補うためにこの性質に注目しました。\n",
    "* 焦点が定義できないと、直径が曲線を等分し、さらに二つの接線が長軸で交わるという性質の証明は極めて煩雑です。\n",
    "  しかも、Apolloniusは、直円錐以外の斜円錐にも適用できる証明を円錐曲線論で展開します。\n",
    "  それは円錐曲線論の難解さの源であり、難解さは後世に権威に祭り上げられましたが、学術的な応用のない袋小路でした。\n",
    "* 後世の天文学者は通径を楕円の長軸に対し焦点を通る線分に限定し、Apollonius本来の定義を見失いました。\n",
    "* 「通径」は長軸頂点における接触円の直径と長さが一致するため何か意味が見いだせるかもしれないと期待しましたが、\n",
    "  それは限定的な一致に過ぎませんでした。\n",
    ":::\n",
    "::::"
   ]
  },
  {
   "cell_type": "markdown",
   "id": "d3692433-acbd-46f8-9d74-75147fdfad18",
   "metadata": {},
   "source": [
    "* https://www.geogebra.org/m/sza2sdyr"
   ]
  },
  {
   "cell_type": "code",
   "execution_count": 5,
   "id": "b57f38c2-c630-46ab-88f9-1e67ab9b077d",
   "metadata": {},
   "outputs": [
    {
     "data": {
      "text/html": [
       "\n",
       "        <iframe\n",
       "            width=\"1000\"\n",
       "            height=\"500\"\n",
       "            src=\"https://www.geogebra.org/material/iframe/id/sza2sdyr/width/1904/height/1015\"\n",
       "            frameborder=\"0\"\n",
       "            allowfullscreen\n",
       "            \n",
       "        ></iframe>\n",
       "        "
      ],
      "text/plain": [
       "<IPython.lib.display.IFrame at 0x7f33370e0b90>"
      ]
     },
     "execution_count": 5,
     "metadata": {},
     "output_type": "execute_result"
    }
   ],
   "source": [
    "IFrame(\"https://www.geogebra.org/material/iframe/id/sza2sdyr/width/1904/height/1015\", width=1000, height=500)"
   ]
  },
  {
   "cell_type": "code",
   "execution_count": null,
   "id": "1e3c3769-6c16-466d-b9e7-c02ae0f3c6eb",
   "metadata": {},
   "outputs": [],
   "source": []
  }
 ],
 "metadata": {
  "kernelspec": {
   "display_name": "Python 3 (ipykernel)",
   "language": "python",
   "name": "python3"
  },
  "language_info": {
   "codemirror_mode": {
    "name": "ipython",
    "version": 3
   },
   "file_extension": ".py",
   "mimetype": "text/x-python",
   "name": "python",
   "nbconvert_exporter": "python",
   "pygments_lexer": "ipython3",
   "version": "3.12.9"
  }
 },
 "nbformat": 4,
 "nbformat_minor": 5
}
