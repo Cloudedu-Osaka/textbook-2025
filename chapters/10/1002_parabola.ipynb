{
 "cells": [
  {
   "cell_type": "code",
   "execution_count": 5,
   "id": "7b78a86e-4c7c-441b-9b92-935c4e5b0a1d",
   "metadata": {},
   "outputs": [],
   "source": [
    "from IPython.display import IFrame"
   ]
  },
  {
   "cell_type": "markdown",
   "id": "96334498-490d-4004-93b4-cb8b3e0eb5c4",
   "metadata": {},
   "source": [
    "# 第十回: Galileoと権威とApollonius\n",
    "\n",
    "## 10.2 Galileoと放物線"
   ]
  },
  {
   "cell_type": "markdown",
   "id": "3bf871cd-d8d6-4bf4-8549-8aec734202f4",
   "metadata": {},
   "source": [
    "::::{admonition} ask ai\n",
    ":class: tip\n",
    "\n",
    "* Galileoは、古代ギリシアの円錐曲線に関する知見から、放物軌道が放物線 parabola であることを発見しました。\n",
    "\n",
    ":::{admonition} ask ai repeatedly\n",
    ":class: seealso\n",
    "\n",
    "* しかし、懸垂線も放物線で近似できるという彼の雑な理論は当時の学術界では尊敬されませんでした。\n",
    "* 懸垂線を級数展開すれば、初項は放物線です。停留点を持つ曲線は放物線で近似できます。\n",
    "  Galileoの議論が雑で数学的発展性を持たなかったのはここにあります。\n",
    "* 円錐曲線の理解と後世の幾何学への貢献にかんしてKeplerとGalileoを比較してください\n",
    "* Galileoは、放物運動において、水平方向は等速度であり、垂直方向は等加速度であると唱えました。\n",
    "空気による抵抗がなければ軌道は放物線 parabola となることをひっそりと主張しました。当時、彼は教会に軟禁され、出版を禁じられていました。\n",
    "また、懸垂線が放物線で近似できる場合があることも主張しました。\n",
    "* 結局の所、GalileoはTwo new sciencesの中で、放物軌道を円錐曲線のparabolaであると断言したのですか？\n",
    "* 後世の人が、それをガリレオの法則と言わないのは何故ですか？\n",
    "* ケプラーの業績はケプラーの法則や方程式と名付けで呼ばれています。ガリレオが尊敬されないのは何故ですか？\n",
    "* ニュートンの運動法則は、ガリレオ・ニュートンの法則と言い換えるべきでは？\n",
    "* ガリレオの社会地位は自業自得ではあるいが、科学的名誉は回復されるべき。\n",
    ":::\n",
    "::::"
   ]
  },
  {
   "cell_type": "markdown",
   "id": "c924dd94-41a2-47b7-84a5-00f9302b1e93",
   "metadata": {},
   "source": [
    "### 変曲点のない曲線の放物線による近似"
   ]
  },
  {
   "cell_type": "markdown",
   "id": "4b5eb6f9-a0b5-46ba-a5ce-ee83c35af9a6",
   "metadata": {},
   "source": [
    "* https://www.geogebra.org/m/anzepyut"
   ]
  },
  {
   "cell_type": "code",
   "execution_count": 4,
   "id": "90f4cd23-4c6a-41c1-99f3-87a85e9b9346",
   "metadata": {},
   "outputs": [
    {
     "data": {
      "text/html": [
       "\n",
       "        <iframe\n",
       "            width=\"1000\"\n",
       "            height=\"500\"\n",
       "            src=\"https://www.geogebra.org/material/iframe/id/anzepyut/width/1366/height/853\"\n",
       "            frameborder=\"0\"\n",
       "            allowfullscreen\n",
       "            \n",
       "        ></iframe>\n",
       "        "
      ],
      "text/plain": [
       "<IPython.lib.display.IFrame at 0x7f461eb121e0>"
      ]
     },
     "execution_count": 4,
     "metadata": {},
     "output_type": "execute_result"
    }
   ],
   "source": [
    "IFrame(\"https://www.geogebra.org/material/iframe/id/anzepyut/width/1366/height/853\", width=1000, height=500)"
   ]
  }
 ],
 "metadata": {
  "kernelspec": {
   "display_name": "Python 3 (ipykernel)",
   "language": "python",
   "name": "python3"
  },
  "language_info": {
   "codemirror_mode": {
    "name": "ipython",
    "version": 3
   },
   "file_extension": ".py",
   "mimetype": "text/x-python",
   "name": "python",
   "nbconvert_exporter": "python",
   "pygments_lexer": "ipython3",
   "version": "3.12.9"
  }
 },
 "nbformat": 4,
 "nbformat_minor": 5
}
