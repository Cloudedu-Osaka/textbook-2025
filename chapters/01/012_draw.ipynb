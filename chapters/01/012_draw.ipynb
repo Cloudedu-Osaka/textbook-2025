{
 "cells": [
  {
   "cell_type": "markdown",
   "id": "d2095db4-dfb3-4926-b3c3-3e3fcea2673e",
   "metadata": {},
   "source": [
    "# 第一回: 円を描く (2)\n",
    "## 1.3 Jupyter AIとの対話"
   ]
  },
  {
   "attachments": {},
   "cell_type": "markdown",
   "id": "9452873c-938b-4a47-abba-78507dd94a08",
   "metadata": {
    "jp-MarkdownHeadingCollapsed": true
   },
   "source": [
    "### 1.3.1 ask ai\n",
    "\n",
    ":::{admonition} ask ai\n",
    ":class: tip\n",
    "\n",
    "円を描く\n",
    ":::\n",
    "\n",
    "* システムプロンプトに基づく文脈から、Pythonによるプログラム・コードを返してくるはず"
   ]
  },
  {
   "cell_type": "markdown",
   "id": "d6411b41-25aa-471b-890b-e84c1bd507c3",
   "metadata": {},
   "source": [
    "### 1.3.2 ask ai again\n",
    "\n",
    "::::{admonition} ask ai\n",
    ":class: tip\n",
    "\n",
    "黒板に円を描く\n",
    "\n",
    ":::{admonition} ask ai repeatedly\n",
    ":class: seealso\n",
    "\n",
    "* 描く際に気をつけること\n",
    "    * 中心から一定の距離\n",
    "    * 曲率\n",
    "* 描いた円を評価する\n",
    "    * 補助線を引くなら？\n",
    "    * 対称性を評価するには？\n",
    ":::\n",
    "::::"
   ]
  },
  {
   "cell_type": "code",
   "execution_count": null,
   "id": "bdfc522a-e3ca-4594-a8b6-cba933dc4ae6",
   "metadata": {},
   "outputs": [],
   "source": []
  }
 ],
 "metadata": {
  "kernelspec": {
   "display_name": "Python 3 (ipykernel)",
   "language": "python",
   "name": "python3"
  },
  "language_info": {
   "codemirror_mode": {
    "name": "ipython",
    "version": 3
   },
   "file_extension": ".py",
   "mimetype": "text/x-python",
   "name": "python",
   "nbconvert_exporter": "python",
   "pygments_lexer": "ipython3",
   "version": "3.12.9"
  }
 },
 "nbformat": 4,
 "nbformat_minor": 5
}
