{
 "cells": [
  {
   "cell_type": "code",
   "execution_count": 1,
   "id": "be3b7d64-1f4b-4eee-a050-8683255ee0a8",
   "metadata": {},
   "outputs": [],
   "source": [
    "from IPython.display import IFrame"
   ]
  },
  {
   "cell_type": "markdown",
   "id": "5db24fd8-22f4-4f5b-951a-76d04c0a4654",
   "metadata": {},
   "source": [
    "# 第六回: それは楕円？ (角の二等分線)\n",
    "\n",
    "## 6.1 これまで\n",
    "\n",
    "1. 円を描く\n",
    "2. 円を傾ける\n",
    "3. 数式と図形 (古代メソポタミアの数式)\n",
    "4. 数式と図形 (幾何平均)\n",
    "5. 数式と図形 (垂直二等分線)\n",
    "6. 数式と図形 (角の二等分線)"
   ]
  },
  {
   "cell_type": "markdown",
   "id": "80546bee-3c24-409b-b429-b6725e4cd706",
   "metadata": {},
   "source": [
    "### 6.1.1 円を描く"
   ]
  },
  {
   "cell_type": "markdown",
   "id": "627bad08-d2ff-4aab-a708-5441ced0c298",
   "metadata": {},
   "source": [
    "::::{admonition} ask ai\n",
    ":class: tip\n",
    "\n",
    "円は直径によって等分される\n",
    "\n",
    ":::{admonition} ask ai repeatedly\n",
    ":class: seealso\n",
    "\n",
    "* 補助線として直径を引くと、さまざまな円の性質を計測できる\n",
    ":::\n",
    "::::"
   ]
  },
  {
   "cell_type": "markdown",
   "id": "68e160fa-48b0-4f61-8b76-32812720f3eb",
   "metadata": {},
   "source": [
    "* https://www.geogebra.org/m/hdxpzcfw"
   ]
  },
  {
   "cell_type": "code",
   "execution_count": 2,
   "id": "d07d8ec7-bbdb-4d8b-8d19-4e349752863e",
   "metadata": {
    "collapsed": true,
    "jupyter": {
     "outputs_hidden": true
    }
   },
   "outputs": [
    {
     "data": {
      "text/html": [
       "\n",
       "        <iframe\n",
       "            width=\"1000\"\n",
       "            height=\"500\"\n",
       "            src=\"https://www.geogebra.org/material/iframe/id/hdxpzcfw/width/1905/height/1016\"\n",
       "            frameborder=\"0\"\n",
       "            allowfullscreen\n",
       "            \n",
       "        ></iframe>\n",
       "        "
      ],
      "text/plain": [
       "<IPython.lib.display.IFrame at 0x7f2833eb7440>"
      ]
     },
     "execution_count": 2,
     "metadata": {},
     "output_type": "execute_result"
    }
   ],
   "source": [
    "IFrame(\"https://www.geogebra.org/material/iframe/id/hdxpzcfw/width/1905/height/1016\", width=1000, height=500)"
   ]
  },
  {
   "cell_type": "markdown",
   "id": "78127292-d287-441a-9cbb-0438ba0b7462",
   "metadata": {},
   "source": [
    "### 6.1.2 円を傾ける"
   ]
  },
  {
   "cell_type": "markdown",
   "id": "8592f54a-5dc5-4183-982a-a359fb371b79",
   "metadata": {},
   "source": [
    "::::{admonition} ask ai\n",
    ":class: tip\n",
    "\n",
    "円柱を平面で切断すると、切断面は楕円になる\n",
    "\n",
    ":::{admonition} ask ai repeatedly\n",
    ":class: seealso\n",
    "\n",
    "* 切断面の傾きは、楕円の中心から焦点の距離である\n",
    "* 切断面の傾き$c$は、楕円の長径を$a$としたとき$\\frac{c}{a}$となり、\n",
    "  さらに短径を$b$とすると$a^2=b^2+c^2$を満たす\n",
    ":::\n",
    "::::"
   ]
  },
  {
   "cell_type": "markdown",
   "id": "c65803a5-308b-408a-8634-5bdcfd53370b",
   "metadata": {},
   "source": [
    "* https://www.geogebra.org/m/ryuszndc"
   ]
  },
  {
   "cell_type": "code",
   "execution_count": 3,
   "id": "4cf27a42-4a45-4b35-91f5-4bc95160a89e",
   "metadata": {
    "collapsed": true,
    "jupyter": {
     "outputs_hidden": true
    }
   },
   "outputs": [
    {
     "data": {
      "text/html": [
       "\n",
       "        <iframe\n",
       "            width=\"1000\"\n",
       "            height=\"500\"\n",
       "            src=\"https://www.geogebra.org/material/iframe/id/ryuszndc/width/1196/height/805\"\n",
       "            frameborder=\"0\"\n",
       "            allowfullscreen\n",
       "            \n",
       "        ></iframe>\n",
       "        "
      ],
      "text/plain": [
       "<IPython.lib.display.IFrame at 0x7f2833eb7b00>"
      ]
     },
     "execution_count": 3,
     "metadata": {},
     "output_type": "execute_result"
    }
   ],
   "source": [
    "IFrame(\"https://www.geogebra.org/material/iframe/id/ryuszndc/width/1196/height/805\", width=1000, height=500)"
   ]
  },
  {
   "cell_type": "markdown",
   "id": "aafe243e-ec63-4464-83f0-e15c0f48465a",
   "metadata": {},
   "source": [
    "### 6.1.3 数式と図形"
   ]
  },
  {
   "cell_type": "markdown",
   "id": "1201a215-7b5b-4d85-8654-3cbc52366e81",
   "metadata": {},
   "source": [
    "::::{admonition} ask ai\n",
    ":class: tip\n",
    "\n",
    "等式$(x+y)^2=(x-y)^2+4xy$は、古代メソポタミアで最も研究された数式である\n",
    "\n",
    ":::{admonition} ask ai repeatedly\n",
    ":class: seealso\n",
    "\n",
    "* 古代メソポタミアでは、等式$(x+y)^2=(x-y)^2+4xy$から相加相乗平均の不等式を求めた\n",
    "* 古代メソポタミアでは、相加相乗平均の不等式から平方根に収束する数列を発見した\n",
    "* 古代メソポタミアでは、等式$(x+y)^2=(x-y)^2+4xy$からピタゴラスの三数の数表を生成した\n",
    "* 古代メソポタミアの人たちは割り算が苦手で生成した数表を逆数の計算に利用しようとした\n",
    "* 古代メソポタミアの人たちはピタゴラスの定理は発見できなかったが、どんな発想が足りなかったのだろうか\n",
    ":::\n",
    "::::"
   ]
  },
  {
   "cell_type": "markdown",
   "id": "5ec7e05d-280c-4f84-bfe0-a6cb48d91db2",
   "metadata": {},
   "source": [
    "### 6.1.4 数式と図形: 幾何平均"
   ]
  },
  {
   "cell_type": "markdown",
   "id": "f66fb8e2-56b6-4c34-98ae-da83e9753be0",
   "metadata": {},
   "source": [
    "::::{admonition} ask ai\n",
    ":class: tip\n",
    "\n",
    "* 幾何平均の定理は日本では教えられていない\n",
    "一般論として、Newtonとは？\n",
    "\n",
    ":::{admonition} ask ai repeatedly\n",
    ":class: seealso\n",
    "\n",
    "* Sir Isac Newtonの業績について\n",
    "* Newtonとルネッサンス・科学革命期の幾何学\n",
    "  * Newtonに先立って、DecartesとFermatは放物線の接線の研究をしていました。\n",
    "    Decartesは放物線に内接する円との連立する代数方程式の判別式から接線が一点で交わることを証明しました。\n",
    "    Fermatは、放物線が二次多項式の軌跡であり、「微分」が接線であることに気づきました。\n",
    "    Newtonは、放物線の特徴を図形的に分析し、微分による方程式の根の近似法を発見しました。\n",
    "    それはArchmedesが円周率を求める際に活用したバビロニア法そのものでした。\n",
    "  * Archmedesは放物線の焦点に光が集まる性質を兵器として利用しようとしたと伝わっています。\n",
    "    Newtonは、接触円を導入し、円錐曲線への光の入射・反射角が等しいことを示そうとしました。\n",
    "    接触円は、後世のGaussによって厳密に定義されました。\n",
    "* Newtonと古代ギリシアの幾何学\n",
    "  * Newtonは、EuclidとApolloniusの円錐曲線論を科学的に応用した最初で最後の人物です。\n",
    "  * Newtonですら、Apolloniusが熱心に研究した円錐曲線の直径は、用語として引用したものの、\n",
    "    そこで究明された性質を使うことはありませんでした。\n",
    "  * Newtonは、幾何平均を使って求心力 (centripetal force) が距離の二乗に反比例することを証明しました。\n",
    "    その際、円錐曲線が二次多項式の軌跡であることや、その微分・積分は用いていません。\n",
    "  * Newtonは、当時の学術界に受け入れらるよう、Principiaを作図幾何学に基づいてラテン語で記述しました。\n",
    "    彼は、古代ギリシアの学術界にMenaechmusの業績が受け入れられなかったことを知っていたのかもしれません。\n",
    "* Newtonと後世の幾何学\n",
    "  * Newtonは、向心力の作図において、直接的に速度や加速度を図示することはできませんでした。\n",
    "    しかし、楕円軌道についてはサイクロイドによって角速度の変化を表示しました。\n",
    "  * 20世紀になって、Feynmanは円形準線による速度ベクトルの図示方法を発見しました。\n",
    "    この方法は、後に「失われた講義」として再発見されます。\n",
    ":::\n",
    "::::"
   ]
  },
  {
   "cell_type": "markdown",
   "id": "3648860b-21da-434b-a6ca-b6c5c51b720f",
   "metadata": {},
   "source": [
    "### 6.1.5 数式と図形: それは楕円？"
   ]
  },
  {
   "cell_type": "markdown",
   "id": "9046bd08-f269-4cf1-9a76-5c4489d56700",
   "metadata": {},
   "source": [
    "::::{admonition} ask ai\n",
    ":class: tip\n",
    "\n",
    "楕円とは？\n",
    "\n",
    ":::{admonition} ask ai repeatedly\n",
    ":class: seealso\n",
    "\n",
    "* 円を傾けると楕円に見える\n",
    "* 円柱の切断面は楕円になる\n",
    "* 円を一方向に$\\frac{b}{a}$の比率で縮小すると楕円の方程式が得られる\n",
    "* 二変量の正規分布は楕円に分布する\n",
    "* 天体の軌道は楕円になる\n",
    ":::\n",
    "::::"
   ]
  },
  {
   "cell_type": "markdown",
   "id": "4a4f0163-7d1a-45d5-88bc-0e2a8ff02523",
   "metadata": {},
   "source": [
    "### 6.1.6 数式と図形: それは楕円？"
   ]
  },
  {
   "cell_type": "markdown",
   "id": "05a1f48b-bb2c-459a-bdeb-5deb32465616",
   "metadata": {},
   "source": [
    "::::{admonition} ask ai\n",
    ":class: tip\n",
    "\n",
    "* 円柱の斜めの切断面は楕円になります。それは直観どおりです\n",
    "* 円錐の斜めの切断面は、楕円か放物線か双曲線になります\n",
    "\n",
    ":::{admonition} ask ai repeatedly\n",
    ":class: seealso\n",
    "\n",
    "* 円錐の水平断面に現れる円は、切断面の高さに比例して曲率が変化しますから、切断面に楕円が現れるのは直観に反します\n",
    ":::\n",
    "::::"
   ]
  },
  {
   "cell_type": "code",
   "execution_count": null,
   "id": "ff25dd2d-52d5-453e-b650-80172cf259e6",
   "metadata": {},
   "outputs": [],
   "source": []
  }
 ],
 "metadata": {
  "kernelspec": {
   "display_name": "Python 3 (ipykernel)",
   "language": "python",
   "name": "python3"
  },
  "language_info": {
   "codemirror_mode": {
    "name": "ipython",
    "version": 3
   },
   "file_extension": ".py",
   "mimetype": "text/x-python",
   "name": "python",
   "nbconvert_exporter": "python",
   "pygments_lexer": "ipython3",
   "version": "3.12.9"
  }
 },
 "nbformat": 4,
 "nbformat_minor": 5
}
