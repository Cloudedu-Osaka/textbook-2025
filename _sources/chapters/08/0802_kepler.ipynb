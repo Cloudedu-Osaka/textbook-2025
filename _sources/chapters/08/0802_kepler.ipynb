{
 "cells": [
  {
   "cell_type": "code",
   "execution_count": 2,
   "id": "be3b7d64-1f4b-4eee-a050-8683255ee0a8",
   "metadata": {},
   "outputs": [],
   "source": [
    "from IPython.display import IFrame"
   ]
  },
  {
   "cell_type": "markdown",
   "id": "4235d9a1-b488-4ea5-84c3-f4135df57bb6",
   "metadata": {},
   "source": [
    "# 第八回: 楕円の焦点には何がある？ (1)"
   ]
  },
  {
   "cell_type": "markdown",
   "id": "d5a5541c-695f-4bbb-9e0d-12e41d080270",
   "metadata": {},
   "source": [
    "* (1607) [Halley's Comet - Wikipedia](https://en.wikipedia.org/wiki/Halley%27s_Comet)\n",
    "    * (1546 &ndash; 1601) [Tycho Brahe - Wikipedia](https://en.wikipedia.org/wiki/Tycho_Brahe)\n",
    "    * (1564 &ndash; 1642) [Galileo Galilei - Wikipedia](https://en.wikipedia.org/wiki/Galileo_Galilei)\n",
    "    * (1571 &ndash; 1630) [Johannes Kepler - Wikipedia](https://en.wikipedia.org/wiki/Johannes_Kepler)\n",
    "* (1682) [Halley's Comet - Wikipedia](https://en.wikipedia.org/wiki/Halley%27s_Comet)\n",
    "    * (1643 &ndash; 1727) [Isaac Newton - Wikipedia](https://en.wikipedia.org/wiki/Isaac_Newton)\n",
    "    * (1656 &ndash; 1742) [Edmond Halley - Wikipedia](https://en.wikipedia.org/wiki/Edmond_Halley)"
   ]
  },
  {
   "cell_type": "markdown",
   "id": "4a005a1d-5147-4b25-9c42-1115527fedde",
   "metadata": {},
   "source": [
    "## 8.2 Keplerになりたい\n",
    "\n",
    "### Copernican principalへの回帰\n",
    "\n",
    "* [Copernican principle - Wikipedia](https://en.wikipedia.org/wiki/Copernican_principle)"
   ]
  },
  {
   "cell_type": "markdown",
   "id": "627bad08-d2ff-4aab-a708-5441ced0c298",
   "metadata": {},
   "source": [
    "::::{admonition} ask ai\n",
    ":class: tip\n",
    "\n",
    "* Johannes keplerのようになりたいので助言を下さい\n",
    "\n",
    ":::{admonition} ask ai repeatedly\n",
    ":class: seealso\n",
    "\n",
    "* Tycho Braheは、火星の逆行現象に執着し、複雑な太陽系モデルを考案しました。\n",
    "* Tychoに観測助手として雇われたJohannes Keplerは、単純な太陽系モデルに回帰し、火星の公転軌道が偏心していることに気づきました。\n",
    "* Keplerは太陽と惑星の距離と公転速度におよそ積一定の関係を見出しました。\n",
    "  三角関数表による積和演算を駆使して、公転軌道は円の偏心ではなく楕円であることを発見し、Kepler方程式を導きました。\n",
    "* John Napierの対数表を入手し、第三法則までを発表します。\n",
    "* Keplerは、1607年に後にHalley彗星と命名される彗星を観測しましたが、その軌道が楕円であることに気づきませんでした。\n",
    ":::\n",
    "::::"
   ]
  },
  {
   "cell_type": "markdown",
   "id": "68e160fa-48b0-4f61-8b76-32812720f3eb",
   "metadata": {},
   "source": [
    "* https://www.geogebra.org/m/g9ar6cbf"
   ]
  },
  {
   "cell_type": "code",
   "execution_count": 3,
   "id": "d07d8ec7-bbdb-4d8b-8d19-4e349752863e",
   "metadata": {},
   "outputs": [
    {
     "data": {
      "text/html": [
       "\n",
       "        <iframe\n",
       "            width=\"1000\"\n",
       "            height=\"500\"\n",
       "            src=\"https://www.geogebra.org/material/iframe/id/g9ar6cbf/width/1196/height/805\"\n",
       "            frameborder=\"0\"\n",
       "            allowfullscreen\n",
       "            \n",
       "        ></iframe>\n",
       "        "
      ],
      "text/plain": [
       "<IPython.lib.display.IFrame at 0x7f3bbb395130>"
      ]
     },
     "execution_count": 3,
     "metadata": {},
     "output_type": "execute_result"
    }
   ],
   "source": [
    "IFrame(\"https://www.geogebra.org/material/iframe/id/g9ar6cbf/width/1196/height/805\", width=1000, height=500)"
   ]
  },
  {
   "cell_type": "code",
   "execution_count": null,
   "id": "ff25dd2d-52d5-453e-b650-80172cf259e6",
   "metadata": {},
   "outputs": [],
   "source": []
  }
 ],
 "metadata": {
  "kernelspec": {
   "display_name": "Python 3 (ipykernel)",
   "language": "python",
   "name": "python3"
  },
  "language_info": {
   "codemirror_mode": {
    "name": "ipython",
    "version": 3
   },
   "file_extension": ".py",
   "mimetype": "text/x-python",
   "name": "python",
   "nbconvert_exporter": "python",
   "pygments_lexer": "ipython3",
   "version": "3.12.9"
  }
 },
 "nbformat": 4,
 "nbformat_minor": 5
}
