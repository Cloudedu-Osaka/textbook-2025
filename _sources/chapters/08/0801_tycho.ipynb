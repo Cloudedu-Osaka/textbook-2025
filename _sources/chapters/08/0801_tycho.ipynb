{
 "cells": [
  {
   "cell_type": "code",
   "execution_count": 5,
   "id": "be3b7d64-1f4b-4eee-a050-8683255ee0a8",
   "metadata": {},
   "outputs": [],
   "source": [
    "from IPython.display import IFrame"
   ]
  },
  {
   "cell_type": "markdown",
   "id": "ab7e53a6-69aa-4ad8-a054-4564f26f64e0",
   "metadata": {},
   "source": [
    "# 第八回: 楕円の焦点には何がある？ (1)"
   ]
  },
  {
   "cell_type": "markdown",
   "id": "d5a5541c-695f-4bbb-9e0d-12e41d080270",
   "metadata": {},
   "source": [
    "* (1607) [Halley's Comet - Wikipedia](https://en.wikipedia.org/wiki/Halley%27s_Comet)\n",
    "    * (1546 &ndash; 1601) [Tycho Brahe - Wikipedia](https://en.wikipedia.org/wiki/Tycho_Brahe)\n",
    "    * (1564 &ndash; 1642) [Galileo Galilei - Wikipedia](https://en.wikipedia.org/wiki/Galileo_Galilei)\n",
    "    * (1571 &ndash; 1630) [Johannes Kepler - Wikipedia](https://en.wikipedia.org/wiki/Johannes_Kepler)\n",
    "* (1682) [Halley's Comet - Wikipedia](https://en.wikipedia.org/wiki/Halley%27s_Comet)\n",
    "    * (1643 &ndash; 1727) [Isaac Newton - Wikipedia](https://en.wikipedia.org/wiki/Isaac_Newton)\n",
    "    * (1656 &ndash; 1742) [Edmond Halley - Wikipedia](https://en.wikipedia.org/wiki/Edmond_Halley)"
   ]
  },
  {
   "cell_type": "markdown",
   "id": "f4a2fbab-052b-4014-8925-ef2c088f1f11",
   "metadata": {},
   "source": [
    "## 8.1 Tychoになりたい"
   ]
  },
  {
   "cell_type": "markdown",
   "id": "627bad08-d2ff-4aab-a708-5441ced0c298",
   "metadata": {},
   "source": [
    "::::{admonition} ask ai\n",
    ":class: tip\n",
    "\n",
    "* Tycho Braheのようになりたいので助言を下さい\n",
    "\n",
    ":::{admonition} ask ai repeatedly\n",
    ":class: seealso\n",
    "\n",
    "* まず貴族籍が必要です\n",
    "* 最高の観測設備を使うことを交換条件に滅私奉公する助手が必要です\n",
    "* 天文に興味が薄れた時のためにゴーストライターが必要です\n",
    "* 破天荒な人生でしたが、観測助手のKeplerも名を残しているので、貴族としての高貴な務めは果たしたと言えるでしょう\n",
    ":::\n",
    "::::"
   ]
  },
  {
   "cell_type": "markdown",
   "id": "68e160fa-48b0-4f61-8b76-32812720f3eb",
   "metadata": {},
   "source": [
    "* https://www.geogebra.org/m/r2jxygad"
   ]
  },
  {
   "cell_type": "code",
   "execution_count": 4,
   "id": "d07d8ec7-bbdb-4d8b-8d19-4e349752863e",
   "metadata": {},
   "outputs": [
    {
     "data": {
      "text/html": [
       "\n",
       "        <iframe\n",
       "            width=\"1000\"\n",
       "            height=\"500\"\n",
       "            src=\"https://www.geogebra.org/material/iframe/id/r2jxygad/width/1366/height/853\"\n",
       "            frameborder=\"0\"\n",
       "            allowfullscreen\n",
       "            \n",
       "        ></iframe>\n",
       "        "
      ],
      "text/plain": [
       "<IPython.lib.display.IFrame at 0x7fa05f710650>"
      ]
     },
     "execution_count": 4,
     "metadata": {},
     "output_type": "execute_result"
    }
   ],
   "source": [
    "IFrame(\"https://www.geogebra.org/material/iframe/id/r2jxygad/width/1366/height/853\", width=1000, height=500)"
   ]
  },
  {
   "cell_type": "code",
   "execution_count": null,
   "id": "ff25dd2d-52d5-453e-b650-80172cf259e6",
   "metadata": {},
   "outputs": [],
   "source": []
  }
 ],
 "metadata": {
  "kernelspec": {
   "display_name": "Python 3 (ipykernel)",
   "language": "python",
   "name": "python3"
  },
  "language_info": {
   "codemirror_mode": {
    "name": "ipython",
    "version": 3
   },
   "file_extension": ".py",
   "mimetype": "text/x-python",
   "name": "python",
   "nbconvert_exporter": "python",
   "pygments_lexer": "ipython3",
   "version": "3.12.9"
  }
 },
 "nbformat": 4,
 "nbformat_minor": 5
}
