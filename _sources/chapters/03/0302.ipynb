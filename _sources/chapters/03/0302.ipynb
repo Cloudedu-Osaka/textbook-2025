{
 "cells": [
  {
   "cell_type": "code",
   "execution_count": 2,
   "id": "04cd8cea-c10c-4401-bb87-be1159bf895d",
   "metadata": {},
   "outputs": [],
   "source": [
    "from IPython.display import IFrame"
   ]
  },
  {
   "cell_type": "markdown",
   "id": "23258d31-f985-42bf-98aa-9933f98d2d54",
   "metadata": {},
   "source": [
    "# 第三回: 数式と図形 (2)\n",
    "\n",
    "## 3.2 古代メソポタミアの数式"
   ]
  },
  {
   "cell_type": "markdown",
   "id": "18aaba90-051f-4543-96b2-05033862904c",
   "metadata": {},
   "source": [
    "::::{admonition} ask ai\n",
    ":class: tip\n",
    "\n",
    "等式$(x+y)^2=(x-y)^2+4xy$は、古代メソポタミアで最も研究された数式である\n",
    "\n",
    ":::{admonition} ask ai repeatedly\n",
    ":class: seealso\n",
    "\n",
    "* ➡ **古代メソポタミアでは、等式$(x+y)^2=(x-y)^2+4xy$から相加相乗平均の不等式を求めた**\n",
    "* 古代メソポタミアでは、相加相乗平均の不等式から平方根に収束する数列を発見した\n",
    "* 古代メソポタミアでは、等式$(x+y)^2=(x-y)^2+4xy$からピタゴラスの三数の数表を生成した\n",
    "* 古代メソポタミアの人たちは割り算が苦手で生成した数表を逆数の計算に利用しようとした\n",
    "* 古代メソポタミアの人たちはピタゴラスの定理は発見できなかったが、どんな発想が足りなかったのだろうか\n",
    ":::\n",
    "::::"
   ]
  },
  {
   "cell_type": "markdown",
   "id": "44faba18-5f1e-4cf3-b0a7-2a3608a43308",
   "metadata": {},
   "source": [
    "$$\n",
    "(x+y)^2 = (x-y)^2 + 4xy\n",
    "$$"
   ]
  },
  {
   "cell_type": "markdown",
   "id": "23db7656-ea75-4f47-a1fc-c4f5236ec0c1",
   "metadata": {},
   "source": [
    "* https://www.geogebra.org/m/qtajufpm"
   ]
  },
  {
   "cell_type": "code",
   "execution_count": 3,
   "id": "335585c7-3d96-44bd-88da-a6880c99eb7a",
   "metadata": {},
   "outputs": [
    {
     "data": {
      "text/html": [
       "\n",
       "        <iframe\n",
       "            width=\"1000\"\n",
       "            height=\"500\"\n",
       "            src=\"https://www.geogebra.org/material/iframe/id/qtajufpm/width/1920/height/1031\"\n",
       "            frameborder=\"0\"\n",
       "            allowfullscreen\n",
       "            \n",
       "        ></iframe>\n",
       "        "
      ],
      "text/plain": [
       "<IPython.lib.display.IFrame at 0x7fc8435bc980>"
      ]
     },
     "execution_count": 3,
     "metadata": {},
     "output_type": "execute_result"
    }
   ],
   "source": [
    "IFrame(\"https://www.geogebra.org/material/iframe/id/qtajufpm/width/1920/height/1031\", width=1000, height=500)"
   ]
  },
  {
   "cell_type": "markdown",
   "id": "67f851ea-0c0b-410e-9974-a4ac54c4e4cf",
   "metadata": {},
   "source": [
    "### 3.2.1 等差・等比・調和数列"
   ]
  },
  {
   "cell_type": "markdown",
   "id": "fb495989-661b-4968-a942-575ea0858bb0",
   "metadata": {},
   "source": [
    "::::{admonition} ask ai\n",
    ":class: tip\n",
    "\n",
    "等差・等比・調和数列について\n",
    "::::"
   ]
  },
  {
   "cell_type": "markdown",
   "id": "1cb40438-696a-47dc-86b3-df8707cbd29b",
   "metadata": {},
   "source": [
    "$$\n",
    "b-a = c-b\n",
    "$$\n",
    "\n",
    "$$\n",
    "b = \\frac{a+c}{2}\n",
    "$$"
   ]
  },
  {
   "cell_type": "markdown",
   "id": "c7382e8b-8d82-458a-b459-a0ebe72a2ea9",
   "metadata": {},
   "source": [
    "$$\n",
    "a:b=b:c\n",
    "$$\n",
    "\n",
    "$$\n",
    "\\frac{b}{a} = \\frac{c}{b}\n",
    "$$\n",
    "\n",
    "$$\n",
    "b = \\sqrt{ac}\n",
    "$$"
   ]
  },
  {
   "cell_type": "markdown",
   "id": "28028eaa-6493-42f9-b9fa-2b2f6a4914b7",
   "metadata": {},
   "source": [
    "$$\n",
    "\\frac{1}{b} - \\frac{1}{a} = \\frac{1}{c} - \\frac{1}{b}\n",
    "$$\n",
    "\n",
    "$$\n",
    "b = \\frac{2ac}{a+c}\n",
    "$$"
   ]
  },
  {
   "cell_type": "markdown",
   "id": "f76ef820-0ad3-424b-b302-a3cda1575c27",
   "metadata": {},
   "source": [
    "### 3.2.3 相加・相乗平均の不等式"
   ]
  },
  {
   "cell_type": "markdown",
   "id": "c3b10da8-302c-4d1e-9801-721955f7ca29",
   "metadata": {},
   "source": [
    "::::{admonition} ask ai\n",
    ":class: tip\n",
    "\n",
    "等差数列 $x, x+d=y-d, y$ と等比数列 $x, r \\times x=\\frac{1}{r} \\times y, y$ の中項の大小関係について\n",
    "::::"
   ]
  },
  {
   "cell_type": "markdown",
   "id": "0f75f2bf-dd99-4d8b-86ac-3e46cfaea8f1",
   "metadata": {},
   "source": [
    "* [Arithmetic progression - Wikipedia](https://en.wikipedia.org/wiki/Arithmetic_progression)\n",
    "* [Geometric progression - Wikipedia](https://en.wikipedia.org/wiki/Geometric_progression)"
   ]
  },
  {
   "cell_type": "markdown",
   "id": "e7f3a3e5-0ec0-4889-aac0-346b4611505f",
   "metadata": {},
   "source": [
    "$$\n",
    "(x+y)^2 - 4xy = (x-y)^2 \\geq 0\n",
    "$$"
   ]
  },
  {
   "cell_type": "markdown",
   "id": "67e4ba92-6eaa-4ea8-a897-f8bcdd660239",
   "metadata": {},
   "source": [
    "$$\n",
    "\\begin{eqnarray}\n",
    "(x+y)^2 &\\geq& 4xy \\\\\n",
    "\\frac{(x+y)^2}{4} &\\geq& xy \\\\\n",
    "\\frac{x+y}{2} &\\geq& \\sqrt{xy}\n",
    "\\end{eqnarray}\n",
    "$$"
   ]
  },
  {
   "cell_type": "code",
   "execution_count": null,
   "id": "d97d4186-539c-4518-92b8-02eab7a1b58d",
   "metadata": {},
   "outputs": [],
   "source": []
  }
 ],
 "metadata": {
  "kernelspec": {
   "display_name": "Python 3 (ipykernel)",
   "language": "python",
   "name": "python3"
  },
  "language_info": {
   "codemirror_mode": {
    "name": "ipython",
    "version": 3
   },
   "file_extension": ".py",
   "mimetype": "text/x-python",
   "name": "python",
   "nbconvert_exporter": "python",
   "pygments_lexer": "ipython3",
   "version": "3.12.9"
  }
 },
 "nbformat": 4,
 "nbformat_minor": 5
}
