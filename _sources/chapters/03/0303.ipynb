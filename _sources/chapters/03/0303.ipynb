{
 "cells": [
  {
   "cell_type": "code",
   "execution_count": 1,
   "id": "98b6ed0e-96c8-49c6-855a-b94ef9740e07",
   "metadata": {},
   "outputs": [],
   "source": [
    "from IPython.display import IFrame"
   ]
  },
  {
   "cell_type": "markdown",
   "id": "ae71b938-db14-459f-bebf-5403ea444a77",
   "metadata": {},
   "source": [
    "# 第三回: 数式と図形 (3)\n",
    "\n",
    "## 3.3 古代メソポタミアの数式"
   ]
  },
  {
   "cell_type": "markdown",
   "id": "5942c650-9221-45eb-8e51-9cc40b274854",
   "metadata": {},
   "source": [
    "::::{admonition} ask ai\n",
    ":class: tip\n",
    "\n",
    "等式$(x+y)^2=(x-y)^2+4xy$は、古代メソポタミアで最も研究された数式である\n",
    "\n",
    ":::{admonition} ask ai repeatedly\n",
    ":class: seealso\n",
    "\n",
    "* 古代メソポタミアでは、等式$(x+y)^2=(x-y)^2+4xy$から相加相乗平均の不等式を求めた\n",
    "* ➡ **古代メソポタミアでは、相加相乗平均の不等式から平方根に収束する数列を発見した**\n",
    "* 古代メソポタミアでは、等式$(x+y)^2=(x-y)^2+4xy$からピタゴラスの三数の数表を生成した\n",
    "* 古代メソポタミアの人たちは割り算が苦手で生成した数表を逆数の計算に利用しようとした\n",
    "* 古代メソポタミアの人たちはピタゴラスの定理は発見できなかったが、どんな発想が足りなかったのだろうか\n",
    ":::\n",
    "::::"
   ]
  },
  {
   "cell_type": "markdown",
   "id": "7f4bf99d-e58e-4bd3-b237-b9de613d1d10",
   "metadata": {},
   "source": [
    "$$\n",
    "(x+y)^2 = (x-y)^2 + 4xy\n",
    "$$"
   ]
  },
  {
   "cell_type": "markdown",
   "id": "a37e38ba-c912-41c1-b31b-859063102d0a",
   "metadata": {},
   "source": [
    "### 3.3.2 平方根の求解"
   ]
  },
  {
   "cell_type": "markdown",
   "id": "fbc1d06e-c37f-454c-a311-2c983b7e7202",
   "metadata": {},
   "source": [
    "* [YBC 7289 - Wikipedia](https://en.wikipedia.org/wiki/YBC_7289)\n",
    "  - [A Cuneiform Tablet in the Digital Age - YouTube](https://www.youtube.com/watch?v=Ecm15-TKOBg)\n",
    "  - [Yale Babylonian Collection - Wikipedia](https://en.wikipedia.org/wiki/Yale_Babylonian_Collection)\n",
    "    - [Round tablet. Obv drawing of square with diagonal and inscribed numbers; rev drawing of rectangle with inscribed diagonal but numbers badly preserved and unable to be restored; mathematical text, Obv: problem shows how the diagonal of a square is calculated as well as the square root of 2, a value found in the coefficient list YBC 2743; Old Babylonian. Clay. obv 10. - YPM BC 021354](https://collections.peabody.yale.edu/search/Record/YPM-BC-021354)"
   ]
  },
  {
   "cell_type": "markdown",
   "id": "6dc4ab67-b1e1-4184-a430-73118c7f6b29",
   "metadata": {},
   "source": [
    "* https://www.geogebra.org/m/ykygwpxw"
   ]
  },
  {
   "cell_type": "code",
   "execution_count": 7,
   "id": "9e044513-c1c2-4d7a-a01a-5ec14740e40d",
   "metadata": {},
   "outputs": [
    {
     "data": {
      "text/html": [
       "\n",
       "        <iframe\n",
       "            width=\"1000\"\n",
       "            height=\"500\"\n",
       "            src=\"https://www.geogebra.org/material/iframe/id/ykygwpxw/width/1366/height/853\"\n",
       "            frameborder=\"0\"\n",
       "            allowfullscreen\n",
       "            \n",
       "        ></iframe>\n",
       "        "
      ],
      "text/plain": [
       "<IPython.lib.display.IFrame at 0x7ff2ca7c2030>"
      ]
     },
     "execution_count": 7,
     "metadata": {},
     "output_type": "execute_result"
    }
   ],
   "source": [
    "IFrame(\"https://www.geogebra.org/material/iframe/id/ykygwpxw/width/1366/height/853\", width=1000, height=500)"
   ]
  },
  {
   "cell_type": "markdown",
   "id": "5857a818-7e58-4339-b748-36fb0ce34f60",
   "metadata": {},
   "source": [
    " 相加平均・相乗平均の不等式"
   ]
  },
  {
   "cell_type": "markdown",
   "id": "bdd9a69d-4671-4b52-a032-de1123abc143",
   "metadata": {},
   "source": [
    "$$\n",
    "\\frac{x+y}{2} &\\geq& \\sqrt{xy}\n",
    "$$"
   ]
  },
  {
   "cell_type": "markdown",
   "id": "e67b6642-f4be-4dfb-b2e4-bbbe3a60c54c",
   "metadata": {},
   "source": [
    "$y=\\frac{S}{x}$とおく:\n",
    "\n",
    "$$\n",
    "\\begin{eqnarray}\n",
    "\\frac{1}{2}\\left( x+\\frac{S}{x} \\right) &\\geq& \\sqrt{x \\cdot \\frac{S}{x}} = \\sqrt{S} \\\\\n",
    "\\end{eqnarray}\n",
    "$$"
   ]
  },
  {
   "cell_type": "markdown",
   "id": "a40819ee-98bf-47a4-bee3-1e2b13ffceb3",
   "metadata": {},
   "source": [
    "この不等式の左辺から数列を定義する:"
   ]
  },
  {
   "cell_type": "markdown",
   "id": "dc17d18f-94cf-495d-84d4-77aa1c6eec1b",
   "metadata": {},
   "source": [
    "$$\n",
    "\\begin{eqnarray}\n",
    "x_{n+1} = \\frac{1}{2}\\left( x_{n} + \\frac{S}{x_{n}} \\right) &=& x_{n} - \\frac{(x_{n})^2 - S}{2 x_{n}} \\\\\n",
    "&=& x_{n} - \\frac{f(x_{n})}{f'(x_{n})}\n",
    "\\end{eqnarray}\n",
    "$$"
   ]
  },
  {
   "cell_type": "markdown",
   "id": "813971cc-3dc1-4d94-8f6a-9d15dc761403",
   "metadata": {},
   "source": [
    "これは、$f(x) = x^2-S$ のときのNewton法の公式と等価である。"
   ]
  },
  {
   "cell_type": "markdown",
   "id": "abb15c8b-c78f-44c0-a401-7968d1e43871",
   "metadata": {},
   "source": [
    "* https://www.geogebra.org/m/uk6bhxdp"
   ]
  },
  {
   "cell_type": "code",
   "execution_count": 2,
   "id": "67b7bbb0-b7db-4834-99a6-f1f989146239",
   "metadata": {
    "collapsed": true,
    "jupyter": {
     "outputs_hidden": true
    }
   },
   "outputs": [
    {
     "data": {
      "text/html": [
       "\n",
       "        <iframe\n",
       "            width=\"1000\"\n",
       "            height=\"500\"\n",
       "            src=\"https://www.geogebra.org/material/iframe/id/uk6bhxdp/width/1920/height/1031\"\n",
       "            frameborder=\"0\"\n",
       "            allowfullscreen\n",
       "            \n",
       "        ></iframe>\n",
       "        "
      ],
      "text/plain": [
       "<IPython.lib.display.IFrame at 0x7ff2ca79aa20>"
      ]
     },
     "execution_count": 2,
     "metadata": {},
     "output_type": "execute_result"
    }
   ],
   "source": [
    "IFrame(\"https://www.geogebra.org/material/iframe/id/uk6bhxdp/width/1920/height/1031\", width=1000, height=500)"
   ]
  },
  {
   "cell_type": "markdown",
   "id": "3fc78848-c33f-4e49-be74-99e2628bfd95",
   "metadata": {},
   "source": [
    "* https://www.geogebra.org/m/u92xrads"
   ]
  },
  {
   "cell_type": "code",
   "execution_count": 3,
   "id": "14affd60-da0c-46c1-bc80-b6a6b6a6eddc",
   "metadata": {
    "collapsed": true,
    "jupyter": {
     "outputs_hidden": true
    }
   },
   "outputs": [
    {
     "data": {
      "text/html": [
       "\n",
       "        <iframe\n",
       "            width=\"1000\"\n",
       "            height=\"500\"\n",
       "            src=\"https://www.geogebra.org/material/iframe/id/u92xrads/width/1920/height/1031\"\n",
       "            frameborder=\"0\"\n",
       "            allowfullscreen\n",
       "            \n",
       "        ></iframe>\n",
       "        "
      ],
      "text/plain": [
       "<IPython.lib.display.IFrame at 0x7ff2ca7c1640>"
      ]
     },
     "execution_count": 3,
     "metadata": {},
     "output_type": "execute_result"
    }
   ],
   "source": [
    "IFrame(\"https://www.geogebra.org/material/iframe/id/u92xrads/width/1920/height/1031\", width=1000, height=500)"
   ]
  },
  {
   "cell_type": "code",
   "execution_count": null,
   "id": "5a15ee7f-915c-4207-a0fb-c96dca8aeaa8",
   "metadata": {},
   "outputs": [],
   "source": []
  }
 ],
 "metadata": {
  "kernelspec": {
   "display_name": "Python 3 (ipykernel)",
   "language": "python",
   "name": "python3"
  },
  "language_info": {
   "codemirror_mode": {
    "name": "ipython",
    "version": 3
   },
   "file_extension": ".py",
   "mimetype": "text/x-python",
   "name": "python",
   "nbconvert_exporter": "python",
   "pygments_lexer": "ipython3",
   "version": "3.12.9"
  }
 },
 "nbformat": 4,
 "nbformat_minor": 5
}
