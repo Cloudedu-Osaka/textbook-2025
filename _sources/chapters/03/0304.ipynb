{
 "cells": [
  {
   "cell_type": "markdown",
   "id": "9d2a8b8d-6151-4384-aa76-a54cc6982cc7",
   "metadata": {},
   "source": [
    "# 第三回: 数式と図形 (4)\n",
    "\n",
    "## 3.4 古代メソポタミアの数式"
   ]
  },
  {
   "cell_type": "markdown",
   "id": "ce9f3783-9bbd-419f-b980-9a5a58078cc5",
   "metadata": {},
   "source": [
    "::::{admonition} ask ai\n",
    ":class: tip\n",
    "\n",
    "等式$(x+y)^2=(x-y)^2+4xy$は、古代メソポタミアで最も研究された数式である\n",
    "\n",
    ":::{admonition} ask ai repeatedly\n",
    ":class: seealso\n",
    "\n",
    "* 古代メソポタミアでは、等式$(x+y)^2=(x-y)^2+4xy$から相加相乗平均の不等式を求めた\n",
    "* 古代メソポタミアでは、相加相乗平均の不等式から平方根に収束する数列を発見した\n",
    "* ➡ **古代メソポタミアでは、等式$(x+y)^2=(x-y)^2+4xy$からピタゴラスの三数の数表を生成した**\n",
    "* ➡ **古代メソポタミアの人たちは割り算が苦手で生成した数表を逆数の計算に利用しようとした**\n",
    "* 古代メソポタミアの人たちはピタゴラスの定理は発見できなかったが、どんな発想が足りなかったのだろうか\n",
    ":::\n",
    "::::"
   ]
  },
  {
   "cell_type": "markdown",
   "id": "ded4645a-ccd3-44ef-b78b-7716f74afda1",
   "metadata": {},
   "source": [
    "$$\n",
    "(x+y)^2 = (x-y)^2 + 4xy\n",
    "$$"
   ]
  },
  {
   "cell_type": "markdown",
   "id": "111ac44e-4e01-49de-991a-4204d8850fc4",
   "metadata": {},
   "source": [
    "### 3.4.1 ピタゴラスの三数と逆数表"
   ]
  },
  {
   "cell_type": "markdown",
   "id": "4ccf809e-f5ca-4697-8a72-017462bf027e",
   "metadata": {},
   "source": [
    "* [Mathematicians Crack Mystery of Babylonian Clay Tablet ‘Plimpton 322’ | Archaeology, Mathematics | Sci-News.com](http://www.sci-news.com/archaeology/babylonian-clay-tablet-plimpton-322-05163.html)"
   ]
  },
  {
   "cell_type": "markdown",
   "id": "9e853d6d-d6da-487c-89a2-c250c0464779",
   "metadata": {},
   "source": [
    "![fig-2](./fig-2.jpeg)"
   ]
  },
  {
   "cell_type": "markdown",
   "id": "6e7258e4-e939-44a1-9303-201242e82ba7",
   "metadata": {},
   "source": [
    "![fig-3](./fig-3.jpeg)"
   ]
  },
  {
   "cell_type": "markdown",
   "id": "52b231cf-a420-458a-b004-67463c367c8e",
   "metadata": {},
   "source": [
    "$x, y$に対して次の置き換えを行う:"
   ]
  },
  {
   "cell_type": "markdown",
   "id": "c945b1b5-8142-4b74-8f68-7140ddfa7f1d",
   "metadata": {},
   "source": [
    "$$\n",
    "\\begin{eqnarray}\n",
    "\\left\\{\n",
    "    \\begin{array}{l}\n",
    "    x = p^2 \\\\\n",
    "    y = q^2\n",
    "    \\end{array}\n",
    "\\right.\n",
    "\\end{eqnarray}\n",
    "$$"
   ]
  },
  {
   "cell_type": "markdown",
   "id": "4ca787e9-fec5-4b59-99df-014a490bffda",
   "metadata": {},
   "source": [
    "$$\n",
    "\\begin{eqnarray}\n",
    "(p^2 + q^2)^2 &=& (p^2 - q^2)^2 + 4 p^2 q^2\n",
    "\\end{eqnarray}\n",
    "$$"
   ]
  },
  {
   "cell_type": "markdown",
   "id": "557e00db-eda9-4055-8d10-b1fd39072e35",
   "metadata": {},
   "source": [
    "さらに $p, q$ に対して次の置き換えを行う:"
   ]
  },
  {
   "cell_type": "markdown",
   "id": "4573333b-5adc-4695-92c7-68fdbc88fc9f",
   "metadata": {},
   "source": [
    "$$\n",
    "\\begin{eqnarray}\n",
    "\\left\\{\n",
    "    \\begin{array}{l}\n",
    "    a = p^2 + q^2 \\\\\n",
    "    b = p^2 - q^2 \\\\\n",
    "    c = 2 p q \n",
    "    \\end{array}\n",
    "\\right.\n",
    "\\end{eqnarray}\n",
    "$$"
   ]
  },
  {
   "cell_type": "markdown",
   "id": "1be697dd-6cc6-4da4-95f7-0efb32c340b9",
   "metadata": {},
   "source": [
    "$$\n",
    "\\begin{eqnarray}\n",
    "(p^2 + q^2)^2 &=& (p^2 - q^2)^2 + 4 p^2 q^2 \\\\\n",
    "a^2 &=& b^2 + c^2\n",
    "\\end{eqnarray}\n",
    "$$"
   ]
  },
  {
   "cell_type": "markdown",
   "id": "994fbf1e-bd28-424b-a313-3cbb46160860",
   "metadata": {},
   "source": [
    "別の粘土版 (YBC 6967) に次の式が残されていた:"
   ]
  },
  {
   "cell_type": "markdown",
   "id": "6834f0c9-8d9d-40d5-af3a-1398c23a502b",
   "metadata": {},
   "source": [
    "$$\n",
    "\\begin{eqnarray}\n",
    "\\left\\{\n",
    "    \\begin{eqnarray}\n",
    "    v_{1} &=& \\frac{1}{2} \\left( x - \\frac{1}{x} \\right) \\\\\n",
    "    v_{4} &=& \\frac{1}{2} \\left( x + \\frac{1}{x} \\right)\n",
    "    \\end{eqnarray}\n",
    "\\right.\n",
    "\\end{eqnarray}\n",
    "$$"
   ]
  },
  {
   "cell_type": "markdown",
   "id": "7005c6c3-0dcd-4d51-abab-9b530459dd59",
   "metadata": {},
   "source": [
    "$$\n",
    "\\begin{eqnarray}\n",
    "(v_{1})^2 +1 &=& \\frac{1}{4} \\left( x^2 + \\frac{1}{x^2} - 2\\right) + 1\\\\\n",
    "             &=& \\frac{1}{4} \\left( x^2 + \\frac{1}{x^2} + 2\\right) \\\\\n",
    "             &=& (v_{4})^2\n",
    "\\end{eqnarray}\n",
    "$$"
   ]
  },
  {
   "cell_type": "markdown",
   "id": "1de49543-8b35-44bc-a1e6-10805ce6135a",
   "metadata": {},
   "source": [
    "$p, q$ を次のように置き換えると Plimpton 322 は表のように解釈できる:"
   ]
  },
  {
   "cell_type": "markdown",
   "id": "f8d2ac7f-531f-478e-8df2-bacf664209ee",
   "metadata": {},
   "source": [
    "$$\n",
    "\\begin{eqnarray}\n",
    "\\left\\{\n",
    "    \\begin{eqnarray}\n",
    "    x = \\frac{p}{q} \\\\\n",
    "    \\frac{1}{x} = \\frac{q}{p}\n",
    "    \\end{eqnarray}\n",
    "\\right.\n",
    "\\end{eqnarray}\n",
    "$$"
   ]
  },
  {
   "cell_type": "markdown",
   "id": "95631149-ad61-45c1-afec-848fbc41ce8a",
   "metadata": {},
   "source": [
    "|     |     |     |     |     | #1  | #2  | #3  |#3$-$#2|\n",
    "|:---:|:---:|:---:|:---:|:---:|:---:|:---:|:---:|:---:|\n",
    "|$p$|$q$|$\\frac{p}{q}$|$\\frac{q}{p}$|$2pq$|$\\frac{1}{4}\\left( \\frac{p}{q} + \\frac{q}{p} \\right)^2$|$\\boldsymbol{b} = p^2-q^2$|$\\boldsymbol{a} = p^2+q^2$|$2pq \\cdot \\frac{q}{p} = 2q^2$|\n",
    "|||$x$|$\\frac{1}{x}$|$\\boldsymbol{c}$  |$1+{v_{1}}^2 = {v_4}^2$|$\\boldsymbol{c} \\cdot v_{1} = \\boldsymbol{c} \\left(x - \\frac{1}{x} \\right)$|$\\boldsymbol{c} \\cdot v_{4} = \\boldsymbol{c} \\left(x + \\frac{1}{x} \\right)$|$\\frac{\\boldsymbol{c}}{x}$|\n",
    "|$2$|$1$|$2$|$\\frac{1}{2}$|$4$|$\\frac{4^2+3^2}{4^2} = \\frac{5^2}{4^2}$|$3$|$5$|$2$|\n",
    "||   |   |   |$60$||$45$|$75$|$30$|"
   ]
  },
  {
   "cell_type": "code",
   "execution_count": null,
   "id": "1e823ade-b722-4706-bf3f-29976ca93b87",
   "metadata": {},
   "outputs": [],
   "source": []
  }
 ],
 "metadata": {
  "kernelspec": {
   "display_name": "Python 3 (ipykernel)",
   "language": "python",
   "name": "python3"
  },
  "language_info": {
   "codemirror_mode": {
    "name": "ipython",
    "version": 3
   },
   "file_extension": ".py",
   "mimetype": "text/x-python",
   "name": "python",
   "nbconvert_exporter": "python",
   "pygments_lexer": "ipython3",
   "version": "3.12.9"
  }
 },
 "nbformat": 4,
 "nbformat_minor": 5
}
