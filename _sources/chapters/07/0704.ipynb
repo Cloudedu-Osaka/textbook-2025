{
 "cells": [
  {
   "cell_type": "code",
   "execution_count": 1,
   "id": "5bb45c2d-8a7e-4772-9250-221f470ea1fc",
   "metadata": {},
   "outputs": [],
   "source": [
    "from IPython.display import IFrame"
   ]
  },
  {
   "cell_type": "markdown",
   "id": "26e48b83-6e2e-4409-9afc-3033ccd81461",
   "metadata": {},
   "source": [
    "# 第七回: それは楕円？ (3)"
   ]
  },
  {
   "cell_type": "markdown",
   "id": "ae8c5e1d-3081-4fc5-826f-4bb4e2b255d4",
   "metadata": {},
   "source": [
    "::::{admonition} ask ai\n",
    ":class: tip\n",
    "\n",
    "Menaechmosは円錐曲線の断面を分析し、楕円にoxytome、放物線にorthtome、双曲線にamblytomeという名前をつけました。\n",
    "\n",
    ":::{admonition} ask ai repeatedly\n",
    ":class: seealso\n",
    "\n",
    "* Apolloniusは、Euclidから引き継いだ円錐曲線論において\n",
    "  Menaechmosの命名をellipse、parabola、hyperbolaに置き換えましが、意味は変わりません。\n",
    "* Menaechmosは、放物線と回転した放物線の交点や双曲線の交点から立方体の倍積問題の解を示しました。\n",
    "* Menaechmusによるグラフの交点という考え方は、古代ギリシアの学術界には受け入れられず、\n",
    "  Menaechmusの業績はApolloniusによって闇に葬られたともいえます。\n",
    ":::\n",
    "::::"
   ]
  },
  {
   "cell_type": "markdown",
   "id": "e2ba3543-e5b1-41d1-99b1-f5dd46e342c5",
   "metadata": {},
   "source": [
    "## 7.8 Menaechmus\n",
    "### 7.8.1 orthtome"
   ]
  },
  {
   "cell_type": "markdown",
   "id": "2bb16fb2-e0d2-4002-9c1b-5cdacb05cad2",
   "metadata": {},
   "source": [
    "* https://www.geogebra.org/m/qxeykmkx"
   ]
  },
  {
   "cell_type": "code",
   "execution_count": 3,
   "id": "b1252603-74c4-45df-bef1-aa3d037b4228",
   "metadata": {},
   "outputs": [
    {
     "data": {
      "text/html": [
       "\n",
       "        <iframe\n",
       "            width=\"1000\"\n",
       "            height=\"500\"\n",
       "            src=\"https://www.geogebra.org/material/iframe/id/qxeykmkx/width/2544/height/1319\"\n",
       "            frameborder=\"0\"\n",
       "            allowfullscreen\n",
       "            \n",
       "        ></iframe>\n",
       "        "
      ],
      "text/plain": [
       "<IPython.lib.display.IFrame at 0x7fb200ddfef0>"
      ]
     },
     "execution_count": 3,
     "metadata": {},
     "output_type": "execute_result"
    }
   ],
   "source": [
    "IFrame(\"https://www.geogebra.org/material/iframe/id/qxeykmkx/width/2544/height/1319\", width=1000, height=500)"
   ]
  },
  {
   "cell_type": "markdown",
   "id": "0b5a9fa5-cf40-4bd8-9ffb-08bb4128428d",
   "metadata": {},
   "source": [
    "### 7.8.2 amblytome"
   ]
  },
  {
   "cell_type": "markdown",
   "id": "4d38b70a-5a04-4853-85df-5c1912ce05d9",
   "metadata": {},
   "source": [
    "* https://www.geogebra.org/m/nwkzdvne"
   ]
  },
  {
   "cell_type": "code",
   "execution_count": 4,
   "id": "20d0a1c8-11aa-4dbc-b9f9-24bd21ae9cb7",
   "metadata": {},
   "outputs": [
    {
     "data": {
      "text/html": [
       "\n",
       "        <iframe\n",
       "            width=\"1000\"\n",
       "            height=\"500\"\n",
       "            src=\"https://www.geogebra.org/material/iframe/id/nwkzdvne/width/2544/height/1319\"\n",
       "            frameborder=\"0\"\n",
       "            allowfullscreen\n",
       "            \n",
       "        ></iframe>\n",
       "        "
      ],
      "text/plain": [
       "<IPython.lib.display.IFrame at 0x7fb200df0bf0>"
      ]
     },
     "execution_count": 4,
     "metadata": {},
     "output_type": "execute_result"
    }
   ],
   "source": [
    "IFrame(\"https://www.geogebra.org/material/iframe/id/nwkzdvne/width/2544/height/1319\", width=1000, height=500)"
   ]
  },
  {
   "cell_type": "markdown",
   "id": "83ad354d-a0c3-47cc-aba0-89e4e16d1a7f",
   "metadata": {},
   "source": [
    "### 7.8.3 Delian problem (1)\n",
    "\n",
    "* [Doubling the cube - Wikipedia](https://en.wikipedia.org/wiki/Doubling_the_cube)"
   ]
  },
  {
   "cell_type": "markdown",
   "id": "2f04e9af-c861-49cd-8bd5-00e827d55951",
   "metadata": {},
   "source": [
    "* https://www.geogebra.org/m/zbjrnuak"
   ]
  },
  {
   "cell_type": "code",
   "execution_count": 5,
   "id": "4853f5ff-4f4d-4d31-b887-6c7a048a877c",
   "metadata": {
    "jupyter": {
     "source_hidden": true
    }
   },
   "outputs": [
    {
     "data": {
      "text/html": [
       "\n",
       "        <iframe\n",
       "            width=\"1000\"\n",
       "            height=\"500\"\n",
       "            src=\"https://www.geogebra.org/material/iframe/id/zbjrnuak/width/1905/height/1016\"\n",
       "            frameborder=\"0\"\n",
       "            allowfullscreen\n",
       "            \n",
       "        ></iframe>\n",
       "        "
      ],
      "text/plain": [
       "<IPython.lib.display.IFrame at 0x7fb200df0710>"
      ]
     },
     "execution_count": 5,
     "metadata": {},
     "output_type": "execute_result"
    }
   ],
   "source": [
    "IFrame(\"https://www.geogebra.org/material/iframe/id/zbjrnuak/width/1905/height/1016\", width=1000, height=500)"
   ]
  },
  {
   "cell_type": "markdown",
   "id": "8e65b15b-a8ca-4ded-a780-e8445b863141",
   "metadata": {},
   "source": [
    "## 7.8.4 Delian problem (2)"
   ]
  },
  {
   "cell_type": "markdown",
   "id": "a33b5c0e-b07c-4279-971c-e329c294eb4b",
   "metadata": {},
   "source": [
    "* https://www.geogebra.org/m/esdreeaz"
   ]
  },
  {
   "cell_type": "code",
   "execution_count": 6,
   "id": "2721040e-6c5a-4d50-9bb5-9b5277cfa287",
   "metadata": {},
   "outputs": [
    {
     "data": {
      "text/html": [
       "\n",
       "        <iframe\n",
       "            width=\"1000\"\n",
       "            height=\"500\"\n",
       "            src=\"https://www.geogebra.org/material/iframe/id/esdreeaz/width/1905/height/1016\"\n",
       "            frameborder=\"0\"\n",
       "            allowfullscreen\n",
       "            \n",
       "        ></iframe>\n",
       "        "
      ],
      "text/plain": [
       "<IPython.lib.display.IFrame at 0x7fb200df28a0>"
      ]
     },
     "execution_count": 6,
     "metadata": {},
     "output_type": "execute_result"
    }
   ],
   "source": [
    "IFrame(\"https://www.geogebra.org/material/iframe/id/esdreeaz/width/1905/height/1016\", width=1000, height=500)"
   ]
  },
  {
   "cell_type": "code",
   "execution_count": null,
   "id": "5740e1ae-e439-40dc-b6b6-39b5fa733a9e",
   "metadata": {},
   "outputs": [],
   "source": []
  }
 ],
 "metadata": {
  "kernelspec": {
   "display_name": "Python 3 (ipykernel)",
   "language": "python",
   "name": "python3"
  },
  "language_info": {
   "codemirror_mode": {
    "name": "ipython",
    "version": 3
   },
   "file_extension": ".py",
   "mimetype": "text/x-python",
   "name": "python",
   "nbconvert_exporter": "python",
   "pygments_lexer": "ipython3",
   "version": "3.12.9"
  }
 },
 "nbformat": 4,
 "nbformat_minor": 5
}
