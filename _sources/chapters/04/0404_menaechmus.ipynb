{
 "cells": [
  {
   "cell_type": "code",
   "execution_count": 1,
   "id": "f50d2100-1dbd-46e8-8ea0-6995be50fd12",
   "metadata": {},
   "outputs": [],
   "source": [
    "from IPython.display import IFrame"
   ]
  },
  {
   "cell_type": "markdown",
   "id": "e35b543d-d3d9-4a7d-8cc1-187e95df5b91",
   "metadata": {},
   "source": [
    "# 第四回: 数式から図形へ\n",
    "## 4.3 Menaechmusと幾何平均"
   ]
  },
  {
   "cell_type": "markdown",
   "id": "8a65da29-2393-4002-a9b8-8528a861b860",
   "metadata": {},
   "source": [
    "* in Wikipedia\n",
    "    * (c.626/623 &ndash; c.548/545 BC)) [Thales of Miletus - Wikipedia](https://en.wikipedia.org/wiki/Thales_of_Miletus)\n",
    "    * (c.380 &ndash; c.320 BC) [Menaechmus - Wikipedia](https://en.wikipedia.org/wiki/Menaechmus)\n",
    "    * (1643 &ndash; 1727) [Isaac Newton - Wikipedia](https://en.wikipedia.org/wiki/Isaac_Newton)\n",
    "    * (1918 &ndash; 1988) [Richard Feynman - Wikipedia](https://en.wikipedia.org/wiki/Richard_Feynman)"
   ]
  },
  {
   "cell_type": "markdown",
   "id": "9c06c582-f6cc-45db-8437-6aef211b796b",
   "metadata": {},
   "source": [
    "::::{admonition} ask ai\n",
    ":class: tip\n",
    "\n",
    "古代ギリシアのMenaechmusは、Newtonにおよそ二千年先立って、円錐曲線の解析に幾何平均を導入し、それらが二次曲線であることを示した\n",
    "\n",
    ":::{admonition} ask ai repeatedly\n",
    ":class: seealso\n",
    "\n",
    "* Menaechmusは、楕円、放物線、双曲線を命名したが、Apolloniusに上書きされた\n",
    "* Menaechmusは、Newtonと同様に、幾何平均において定数を持つ作図に着目し、$y^2 = 定数 \\times x$ や $x \\times y = 定数$ という代数関係式を導いた\n",
    "* Menaechmusは、直交する円錐曲線の鉛直断面に現れる双曲線が反比例のグラフであることを見抜き、放物線との交点が立方体の倍積問題の解になることを示した\n",
    "* しかし、Menaechmusの業績は、当時の学術界には受け入れられなかった\n",
    ":::\n",
    "::::"
   ]
  },
  {
   "cell_type": "code",
   "execution_count": null,
   "id": "bfd43c16-2405-4534-b318-e5e9421a7109",
   "metadata": {},
   "outputs": [],
   "source": []
  },
  {
   "cell_type": "markdown",
   "id": "b8ccaa8a-3997-467e-bbee-b3d5edd72e22",
   "metadata": {},
   "source": [
    "### 4.3.1 円錐曲線"
   ]
  },
  {
   "cell_type": "markdown",
   "id": "bb02c3af-99ca-4b85-b55b-153fd5c3817c",
   "metadata": {},
   "source": [
    "* https://www.geogebra.org/m/bshv4xnp"
   ]
  },
  {
   "cell_type": "code",
   "execution_count": 2,
   "id": "3812d25c-6621-4c6c-8475-f4aafec8f06c",
   "metadata": {},
   "outputs": [
    {
     "data": {
      "text/html": [
       "\n",
       "        <iframe\n",
       "            width=\"1000\"\n",
       "            height=\"500\"\n",
       "            src=\"https://www.geogebra.org/material/iframe/id/bshv4xnp/width/1905/height/1016\"\n",
       "            frameborder=\"0\"\n",
       "            allowfullscreen\n",
       "            \n",
       "        ></iframe>\n",
       "        "
      ],
      "text/plain": [
       "<IPython.lib.display.IFrame at 0x7fadcac91ee0>"
      ]
     },
     "execution_count": 2,
     "metadata": {},
     "output_type": "execute_result"
    }
   ],
   "source": [
    "IFrame(\"https://www.geogebra.org/material/iframe/id/bshv4xnp/width/1905/height/1016\", width=1000, height=500)"
   ]
  },
  {
   "cell_type": "markdown",
   "id": "e6345218-9944-41c5-b813-030e2bdda53f",
   "metadata": {},
   "source": [
    "### 4.3.2 Menaechmusと放物線 "
   ]
  },
  {
   "cell_type": "markdown",
   "id": "c998ea46-d380-4505-8a8a-f27f56021a23",
   "metadata": {},
   "source": [
    "* https://www.geogebra.org/m/krdfq3sv"
   ]
  },
  {
   "cell_type": "code",
   "execution_count": 4,
   "id": "178846ae-c6f9-4307-8a2b-fe11bb941da0",
   "metadata": {},
   "outputs": [
    {
     "data": {
      "text/html": [
       "\n",
       "        <iframe\n",
       "            width=\"1000\"\n",
       "            height=\"500\"\n",
       "            src=\"https://www.geogebra.org/material/iframe/id/krdfq3sv/width/1920/height/1095\"\n",
       "            frameborder=\"0\"\n",
       "            allowfullscreen\n",
       "            \n",
       "        ></iframe>\n",
       "        "
      ],
      "text/plain": [
       "<IPython.lib.display.IFrame at 0x7fadcacc06b0>"
      ]
     },
     "execution_count": 4,
     "metadata": {},
     "output_type": "execute_result"
    }
   ],
   "source": [
    "IFrame(\"https://www.geogebra.org/material/iframe/id/krdfq3sv/width/1920/height/1095\", width=1000, height=500)"
   ]
  },
  {
   "cell_type": "markdown",
   "id": "cfd04126-c4c9-4044-b1e4-076f221374d7",
   "metadata": {},
   "source": [
    "### 4.3.3 Menaechmusと双曲線"
   ]
  },
  {
   "cell_type": "markdown",
   "id": "bf953677-704d-4663-974d-a2bb446d0f84",
   "metadata": {},
   "source": [
    "* https://www.geogebra.org/m/wugbxnuz"
   ]
  },
  {
   "cell_type": "code",
   "execution_count": 8,
   "id": "3faa4aa2-7e5f-447b-b52e-638ed11d61c6",
   "metadata": {},
   "outputs": [
    {
     "data": {
      "text/html": [
       "\n",
       "        <iframe\n",
       "            width=\"1000\"\n",
       "            height=\"500\"\n",
       "            src=\"https://www.geogebra.org/material/iframe/id/wugbxnuz/width/1905/height/1080\"\n",
       "            frameborder=\"0\"\n",
       "            allowfullscreen\n",
       "            \n",
       "        ></iframe>\n",
       "        "
      ],
      "text/plain": [
       "<IPython.lib.display.IFrame at 0x7fadcacc10d0>"
      ]
     },
     "execution_count": 8,
     "metadata": {},
     "output_type": "execute_result"
    }
   ],
   "source": [
    "IFrame(\"https://www.geogebra.org/material/iframe/id/wugbxnuz/width/1905/height/1080\", width=1000, height=500)"
   ]
  },
  {
   "cell_type": "code",
   "execution_count": null,
   "id": "2d191ca7-0b9f-401f-9e85-496e77ea09ab",
   "metadata": {},
   "outputs": [],
   "source": []
  }
 ],
 "metadata": {
  "kernelspec": {
   "display_name": "Python 3 (ipykernel)",
   "language": "python",
   "name": "python3"
  },
  "language_info": {
   "codemirror_mode": {
    "name": "ipython",
    "version": 3
   },
   "file_extension": ".py",
   "mimetype": "text/x-python",
   "name": "python",
   "nbconvert_exporter": "python",
   "pygments_lexer": "ipython3",
   "version": "3.12.9"
  }
 },
 "nbformat": 4,
 "nbformat_minor": 5
}
