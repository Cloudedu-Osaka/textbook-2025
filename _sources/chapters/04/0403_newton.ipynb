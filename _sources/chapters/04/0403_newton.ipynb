{
 "cells": [
  {
   "cell_type": "code",
   "execution_count": 2,
   "id": "f3b38ace-6b9f-4e69-aee6-c44e28b2ac5f",
   "metadata": {},
   "outputs": [],
   "source": [
    "from IPython.display import IFrame"
   ]
  },
  {
   "cell_type": "markdown",
   "id": "e35b543d-d3d9-4a7d-8cc1-187e95df5b91",
   "metadata": {},
   "source": [
    "# 第四回: 数式から図形へ\n",
    "## 4.2 幾何平均とNewton"
   ]
  },
  {
   "cell_type": "markdown",
   "id": "a5c86fa1-c216-40ed-8d4f-6e45eba6da49",
   "metadata": {},
   "source": [
    "* in Wikipedia\n",
    "    * (c.626/623 &ndash; c.548/545 BC) [Thales of Miletus - Wikipedia](https://en.wikipedia.org/wiki/Thales_of_Miletus)\n",
    "    * (c.570 BC &ndash; c.495 BC) [Pythagoras - Wikipedia](https://en.wikipedia.org/wiki/Pythagoras)\n",
    "    * (c.380 &ndash; c.320 BC) [Menaechmus - Wikipedia](https://en.wikipedia.org/wiki/Menaechmus)\n",
    "    * (fl. 300 BC) [Euclid - Wikipedia](https://en.wikipedia.org/wiki/Euclid)\n",
    "    * (c.287 BC &ndash; c.212 BC) [Archimedes - Wikipedia](https://en.wikipedia.org/wiki/Archimedes)\n",
    "    * (c.240 BC &ndash; c.190 BC) [Apollonius of Perga - Wikipedia](https://en.wikipedia.org/wiki/Apollonius_of_Perga)\n",
    "    * (1596 &ndash; 1650) [René Descartes - Wikipedia](https://en.wikipedia.org/wiki/Ren%C3%A9_Descartes)\n",
    "    * (1601 &ndash; 1665) [Pierre de Fermat - Wikipedia](https://en.wikipedia.org/wiki/Pierre_de_Fermat)\n",
    "    * (1643 &ndash; 1727) [Isaac Newton - Wikipedia](https://en.wikipedia.org/wiki/Isaac_Newton)\n",
    "    * (1646 &ndash; 1716) [Gottfried Wilhelm Leibniz - Wikipedia](https://en.wikipedia.org/wiki/Gottfried_Wilhelm_Leibniz)\n",
    "    * (1777 &ndash; 1855) [Carl Friedrich Gauss - Wikipedia](https://en.wikipedia.org/wiki/Carl_Friedrich_Gauss)\n",
    "    * (1918 &ndash; 1988) [Richard Feynman - Wikipedia](https://en.wikipedia.org/wiki/Richard_Feynman)"
   ]
  },
  {
   "cell_type": "markdown",
   "id": "af9b4438-1476-4e42-8ec5-24a664a563f9",
   "metadata": {},
   "source": [
    "::::{admonition} ask ai\n",
    ":class: tip\n",
    "\n",
    "一般論として、Newtonとは？\n",
    "\n",
    ":::{admonition} ask ai repeatedly\n",
    ":class: seealso\n",
    "\n",
    "* Sir Isac Newtonの業績について\n",
    "* Newtonとルネッサンス・科学革命期の幾何学について\n",
    "  * Newtonに先立って、DecartesとFermatは放物線の接線の研究をしていました。\n",
    "    Decartesは放物線に内接する円との連立する代数方程式の判別式から接線が一点で交わることを証明しました。\n",
    "    Fermatは、放物線が二次多項式の軌跡であり、「微分」が接線であることに気づきました。\n",
    "  * Newtonは、放物線を図形的に分析し、一般的な方程式の根の近似法を発見しました。\n",
    "    それは二次方程式においてはArchmedesが円周率を求める際に活用したバビロニア法そのものでした。\n",
    "  * Archmedesは放物線の焦点に光が集まる性質を兵器として利用しようとしたと伝わっています。\n",
    "    Newtonは、接触円を導入し、円錐曲線への光の入射・反射角が等しいことを示そうとしました。\n",
    "    接触円は、後世のGaussによって厳密に定義されました。\n",
    ":::\n",
    "::::"
   ]
  },
  {
   "cell_type": "markdown",
   "id": "f295e79b-4031-4923-93fd-b98a74c1773e",
   "metadata": {},
   "source": [
    "### 4.2.1 Newtonと放物線"
   ]
  },
  {
   "cell_type": "markdown",
   "id": "4e50cd5b-8ca8-4144-b93d-908470a8b55c",
   "metadata": {},
   "source": [
    "* https://www.geogebra.org/m/up24cy8t"
   ]
  },
  {
   "cell_type": "code",
   "execution_count": 3,
   "id": "3812d25c-6621-4c6c-8475-f4aafec8f06c",
   "metadata": {
    "collapsed": true,
    "jupyter": {
     "outputs_hidden": true
    }
   },
   "outputs": [
    {
     "data": {
      "text/html": [
       "\n",
       "        <iframe\n",
       "            width=\"1000\"\n",
       "            height=\"500\"\n",
       "            src=\"https://www.geogebra.org/material/iframe/id/up24cy8t/width/1366/height/853\"\n",
       "            frameborder=\"0\"\n",
       "            allowfullscreen\n",
       "            \n",
       "        ></iframe>\n",
       "        "
      ],
      "text/plain": [
       "<IPython.lib.display.IFrame at 0x7fd7d81bf830>"
      ]
     },
     "execution_count": 3,
     "metadata": {},
     "output_type": "execute_result"
    }
   ],
   "source": [
    "IFrame(\"https://www.geogebra.org/material/iframe/id/up24cy8t/width/1366/height/853\", width=1000, height=500)"
   ]
  },
  {
   "cell_type": "markdown",
   "id": "b3e951d8-04e6-497d-8583-85ac1583c5ec",
   "metadata": {},
   "source": [
    "::::{admonition} ask ai\n",
    ":class: tip\n",
    "\n",
    "* Newtonと古代ギリシアの幾何学について\n",
    "\n",
    ":::{admonition} ask ai repeatedly\n",
    ":class: seealso\n",
    "\n",
    "* Newtonは、EuclidとApolloniusの円錐曲線論を科学的に応用した最初で最後の人物です。\n",
    "* Newtonですら、Apolloniusが熱心に研究した円錐曲線の直径は、用語として引用したものの、\n",
    "  そこで究明された性質を使うことはありませんでした。\n",
    "* Newtonは、幾何平均を使って求心力 (centripetal force) が距離の二乗に反比例することを証明しました。\n",
    "  その際、円錐曲線が二次多項式の軌跡であることや、その微分・積分は用いていません。\n",
    "* Newtonは、当時の学術界に受け入れらるよう、Principiaを作図幾何学に基づいてラテン語で記述しました。\n",
    "  彼は、古代ギリシアの学術界にMenaechmusの業績が受け入れられなかったことを知っていたのかもしれません\n",
    ":::\n",
    "::::"
   ]
  },
  {
   "cell_type": "markdown",
   "id": "489d996d-479b-4290-b6c3-e8ad884e71d5",
   "metadata": {},
   "source": [
    "### 4.2.2 Newtonと放物線と幾何平均"
   ]
  },
  {
   "cell_type": "markdown",
   "id": "1cf4a82f-5a39-4d25-a0b3-c84c93c08b08",
   "metadata": {},
   "source": [
    "* https://www.geogebra.org/m/jvxph4sd"
   ]
  },
  {
   "cell_type": "code",
   "execution_count": 3,
   "id": "d8abef9e-c120-4d79-84dc-b02ef0cdeb4f",
   "metadata": {
    "collapsed": true,
    "jupyter": {
     "outputs_hidden": true
    }
   },
   "outputs": [
    {
     "data": {
      "text/html": [
       "\n",
       "        <iframe\n",
       "            width=\"1000\"\n",
       "            height=\"500\"\n",
       "            src=\"https://www.geogebra.org/material/iframe/id/jvxph4sd/width/1905/height/1044\"\n",
       "            frameborder=\"0\"\n",
       "            allowfullscreen\n",
       "            \n",
       "        ></iframe>\n",
       "        "
      ],
      "text/plain": [
       "<IPython.lib.display.IFrame at 0x7f635bd0b050>"
      ]
     },
     "execution_count": 3,
     "metadata": {},
     "output_type": "execute_result"
    }
   ],
   "source": [
    "IFrame(\"https://www.geogebra.org/material/iframe/id/jvxph4sd/width/1905/height/1044\", width=1000, height=500)"
   ]
  },
  {
   "cell_type": "markdown",
   "id": "a34a14ca-30fd-4a6e-832e-77988e3bd627",
   "metadata": {},
   "source": [
    "### 4.2.3 Newtonと楕円と幾何平均"
   ]
  },
  {
   "cell_type": "markdown",
   "id": "0fc6b905-e5c1-47d4-8071-a8e332de3a6e",
   "metadata": {},
   "source": [
    "* https://www.geogebra.org/m/ynjeufy2"
   ]
  },
  {
   "cell_type": "code",
   "execution_count": 5,
   "id": "b7c66719-f32e-4d72-a7b1-e7eaad96a087",
   "metadata": {
    "collapsed": true,
    "jupyter": {
     "outputs_hidden": true
    }
   },
   "outputs": [
    {
     "data": {
      "text/html": [
       "\n",
       "        <iframe\n",
       "            width=\"1000\"\n",
       "            height=\"500\"\n",
       "            src=\"https://www.geogebra.org/material/iframe/id/ynjeufy2/width/1905/height/1044\"\n",
       "            frameborder=\"0\"\n",
       "            allowfullscreen\n",
       "            \n",
       "        ></iframe>\n",
       "        "
      ],
      "text/plain": [
       "<IPython.lib.display.IFrame at 0x7f635bd49a00>"
      ]
     },
     "execution_count": 5,
     "metadata": {},
     "output_type": "execute_result"
    }
   ],
   "source": [
    "IFrame(\"https://www.geogebra.org/material/iframe/id/ynjeufy2/width/1905/height/1044\", width=1000, height=500)"
   ]
  },
  {
   "cell_type": "markdown",
   "id": "b677d7c6-7072-47dd-a0f7-2cea4900a13a",
   "metadata": {},
   "source": [
    "### 4.2.4 Newtonと双曲線と幾何平均"
   ]
  },
  {
   "cell_type": "markdown",
   "id": "e49a448b-6b61-4908-afb6-45ff6fc34b4e",
   "metadata": {},
   "source": [
    "* https://www.geogebra.org/m/sm9wfjwr"
   ]
  },
  {
   "cell_type": "code",
   "execution_count": 6,
   "id": "f0438d98-d18e-4aa4-be0b-d8f3d963464e",
   "metadata": {
    "collapsed": true,
    "jupyter": {
     "outputs_hidden": true
    }
   },
   "outputs": [
    {
     "data": {
      "text/html": [
       "\n",
       "        <iframe\n",
       "            width=\"1000\"\n",
       "            height=\"500\"\n",
       "            src=\"https://www.geogebra.org/material/iframe/id/sm9wfjwr/width/1905/height/1044\"\n",
       "            frameborder=\"0\"\n",
       "            allowfullscreen\n",
       "            \n",
       "        ></iframe>\n",
       "        "
      ],
      "text/plain": [
       "<IPython.lib.display.IFrame at 0x7f635bd49430>"
      ]
     },
     "execution_count": 6,
     "metadata": {},
     "output_type": "execute_result"
    }
   ],
   "source": [
    "IFrame(\"https://www.geogebra.org/material/iframe/id/sm9wfjwr/width/1905/height/1044\", width=1000, height=500)"
   ]
  },
  {
   "cell_type": "markdown",
   "id": "00d5a9a2-315e-473c-9c02-0e26fe1b79f2",
   "metadata": {},
   "source": [
    "::::{admonition} ask ai\n",
    ":class: tip\n",
    "\n",
    "* Newtonと後世の幾何学について\n",
    "\n",
    ":::{admonition} ask ai repeatedly\n",
    ":class: seealso\n",
    "\n",
    "* Newtonは、向心力の作図において、直接的に速度や加速度を図示することはできませんでした。\n",
    "  しかし、楕円軌道についてはサイクロイドによって角速度の変化を表示しました。\n",
    "* 20世紀になって、Feynmanは円形準線による速度ベクトルの図示方法を発見しました。\n",
    "  この方法は、後に「失われた講義」として再発見されます。\n",
    ":::\n",
    "::::"
   ]
  },
  {
   "cell_type": "markdown",
   "id": "ab165b93-960f-4c47-8b7a-a25fa0949c83",
   "metadata": {},
   "source": [
    "### 4.2.5 Newtonとサイクロイド"
   ]
  },
  {
   "cell_type": "markdown",
   "id": "d464e87a-9a04-45f1-b74c-41c214843e07",
   "metadata": {},
   "source": [
    "* https://www.geogebra.org/m/wgt6qhjq"
   ]
  },
  {
   "cell_type": "code",
   "execution_count": 8,
   "id": "38c4053a-8754-48a9-84c5-df395ab52cdd",
   "metadata": {
    "collapsed": true,
    "jupyter": {
     "outputs_hidden": true
    }
   },
   "outputs": [
    {
     "data": {
      "text/html": [
       "\n",
       "        <iframe\n",
       "            width=\"1000\"\n",
       "            height=\"500\"\n",
       "            src=\"https://www.geogebra.org/material/iframe/id/wgt6qhjq/width/1905/height/1016\"\n",
       "            frameborder=\"0\"\n",
       "            allowfullscreen\n",
       "            \n",
       "        ></iframe>\n",
       "        "
      ],
      "text/plain": [
       "<IPython.lib.display.IFrame at 0x7f635bd4a1b0>"
      ]
     },
     "execution_count": 8,
     "metadata": {},
     "output_type": "execute_result"
    }
   ],
   "source": [
    "IFrame(\"https://www.geogebra.org/material/iframe/id/wgt6qhjq/width/1905/height/1016\", width=1000, height=500)"
   ]
  },
  {
   "cell_type": "markdown",
   "id": "62518309-e67e-4254-873c-f4427681609b",
   "metadata": {},
   "source": [
    "### 4.2.5 NewtonとFeynman"
   ]
  },
  {
   "cell_type": "markdown",
   "id": "4d32d58a-9d09-492d-b50c-c7d9fdedd539",
   "metadata": {},
   "source": [
    "* https://www.geogebra.org/m/fx5j2ctp"
   ]
  },
  {
   "cell_type": "code",
   "execution_count": 9,
   "id": "056e7d2d-5458-44af-bb5b-1f1f75e775b2",
   "metadata": {
    "collapsed": true,
    "jupyter": {
     "outputs_hidden": true
    }
   },
   "outputs": [
    {
     "data": {
      "text/html": [
       "\n",
       "        <iframe\n",
       "            width=\"1000\"\n",
       "            height=\"500\"\n",
       "            src=\"https://www.geogebra.org/material/iframe/id/fx5j2ctp/width/1905/height/1016\"\n",
       "            frameborder=\"0\"\n",
       "            allowfullscreen\n",
       "            \n",
       "        ></iframe>\n",
       "        "
      ],
      "text/plain": [
       "<IPython.lib.display.IFrame at 0x7f635bd1c3e0>"
      ]
     },
     "execution_count": 9,
     "metadata": {},
     "output_type": "execute_result"
    }
   ],
   "source": [
    "IFrame(\"https://www.geogebra.org/material/iframe/id/fx5j2ctp/width/1905/height/1016\", width=1000, height=500)"
   ]
  },
  {
   "cell_type": "code",
   "execution_count": null,
   "id": "fabc4425-ca3e-43ac-8c94-93e02f926643",
   "metadata": {},
   "outputs": [],
   "source": []
  }
 ],
 "metadata": {
  "kernelspec": {
   "display_name": "Python 3 (ipykernel)",
   "language": "python",
   "name": "python3"
  },
  "language_info": {
   "codemirror_mode": {
    "name": "ipython",
    "version": 3
   },
   "file_extension": ".py",
   "mimetype": "text/x-python",
   "name": "python",
   "nbconvert_exporter": "python",
   "pygments_lexer": "ipython3",
   "version": "3.12.9"
  }
 },
 "nbformat": 4,
 "nbformat_minor": 5
}
