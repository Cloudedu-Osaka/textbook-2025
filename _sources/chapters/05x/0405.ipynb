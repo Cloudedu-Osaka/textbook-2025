{
 "cells": [
  {
   "cell_type": "markdown",
   "id": "e35b543d-d3d9-4a7d-8cc1-187e95df5b91",
   "metadata": {},
   "source": [
    "# 第四回: 数式から図形へ\n",
    "## 4.5 まとめ"
   ]
  },
  {
   "cell_type": "markdown",
   "id": "8a65da29-2393-4002-a9b8-8528a861b860",
   "metadata": {},
   "source": [
    "* in Wikipedia\n",
    "    * (c.626/623 &ndash; c.548/545 BC)) [Thales of Miletus - Wikipedia](https://en.wikipedia.org/wiki/Thales_of_Miletus)\n",
    "    * (c.380 &ndash; c.320 BC) [Menaechmus - Wikipedia](https://en.wikipedia.org/wiki/Menaechmus)\n",
    "    * (1643 &ndash; 1727) [Isaac Newton - Wikipedia](https://en.wikipedia.org/wiki/Isaac_Newton)\n",
    "    * (1918 &ndash; 1988) [Richard Feynman - Wikipedia](https://en.wikipedia.org/wiki/Richard_Feynman)"
   ]
  },
  {
   "cell_type": "markdown",
   "id": "9d650543-d040-4f87-9d6e-c319a592c797",
   "metadata": {},
   "source": [
    "::::{admonition} ask ai\n",
    ":class: tip\n",
    "\n",
    "古代ギリシアでは、EucliudやApolloniusの円錐曲線論が重用された。しかし、先に触れたように、その成果はNewtonが活用できるものではなかった。\n",
    "\n",
    "彼らは何を間違えたのでしょうか\n",
    "\n",
    ":::{admonition} ask ai repeatedly\n",
    ":class: seealso\n",
    "\n",
    "* 静的な教科書に慣れてしまった日本の教育において、GeoGebraを活用する動的な作図の教育への導入に困難を感じます\n",
    "* プログラミング教育の低年齢化を推進しようとしていますが、日本では「写経」と呼ばれる教育手法が蔓延し、コードのコピペが横行しています\n",
    "* プログラミングに必要なアルゴリズム学習は、従来の初等・中等教育でも十分カバーされています。\n",
    "GeoGebraや、AIをインストラクターとした対話によるプログラミング学習補助を学習者が受け入れることがラストマイルになっています\n",
    ":::\n",
    "::::"
   ]
  }
 ],
 "metadata": {
  "kernelspec": {
   "display_name": "Python 3 (ipykernel)",
   "language": "python",
   "name": "python3"
  },
  "language_info": {
   "codemirror_mode": {
    "name": "ipython",
    "version": 3
   },
   "file_extension": ".py",
   "mimetype": "text/x-python",
   "name": "python",
   "nbconvert_exporter": "python",
   "pygments_lexer": "ipython3",
   "version": "3.12.9"
  }
 },
 "nbformat": 4,
 "nbformat_minor": 5
}
