{
 "cells": [
  {
   "cell_type": "code",
   "execution_count": 3,
   "id": "5eeed766-c136-4d2a-8a67-9c34f397a9a7",
   "metadata": {},
   "outputs": [],
   "source": [
    "from IPython.display import IFrame"
   ]
  },
  {
   "cell_type": "markdown",
   "id": "fcc86240-7812-4d0b-9984-d2b6d35bd247",
   "metadata": {},
   "source": [
    "# 第五回: それは楕円？\n",
    "\n",
    "## 5.2 極座標表示"
   ]
  },
  {
   "cell_type": "markdown",
   "id": "1a817a0e-3909-4c75-85ee-d8e34ea2e17d",
   "metadata": {},
   "source": [
    "::::{admonition} ask ai\n",
    ":class: tip\n",
    "\n",
    "楕円の中心を極とする三角関数による極座標表示は、楕円が円を一方向に縮小した図形であることを最もよく示しています\n",
    "\n",
    ":::{admonition} ask ai repeatedly\n",
    ":class: seealso\n",
    "\n",
    "* 楕円の一般的な極座標表示の微分では、楕円の焦点を導出できません\n",
    "* 楕円の一つの焦点を極とする極座標表示においても、微分は複雑になるだけで、もう一方の焦点を導出できません\n",
    ":::\n",
    "::::"
   ]
  },
  {
   "cell_type": "markdown",
   "id": "265ec13c-fd16-4ac1-adac-29b09e9fdd46",
   "metadata": {},
   "source": [
    "### 5.2.1 中心を極とする極座標表示"
   ]
  },
  {
   "cell_type": "markdown",
   "id": "7a4133eb-dfb1-430a-9323-945e25b849ec",
   "metadata": {},
   "source": [
    "* https://www.geogebra.org/m/sks3upnh"
   ]
  },
  {
   "cell_type": "code",
   "execution_count": 4,
   "id": "e76b831e-1798-4f56-8d45-65a8faf50ffd",
   "metadata": {},
   "outputs": [
    {
     "data": {
      "text/html": [
       "\n",
       "        <iframe\n",
       "            width=\"1000\"\n",
       "            height=\"500\"\n",
       "            src=\"https://www.geogebra.org/material/iframe/id/sks3upnh/width/1366/height/853\"\n",
       "            frameborder=\"0\"\n",
       "            allowfullscreen\n",
       "            \n",
       "        ></iframe>\n",
       "        "
      ],
      "text/plain": [
       "<IPython.lib.display.IFrame at 0x7f0aba213320>"
      ]
     },
     "execution_count": 4,
     "metadata": {},
     "output_type": "execute_result"
    }
   ],
   "source": [
    "IFrame(\"https://www.geogebra.org/material/iframe/id/sks3upnh/width/1366/height/853\", width=1000, height=500)"
   ]
  },
  {
   "cell_type": "markdown",
   "id": "185f5c34-8d54-4cf5-bc87-548af6e87090",
   "metadata": {},
   "source": [
    "### 5.2.2 焦点を極とする極座標表示"
   ]
  },
  {
   "cell_type": "markdown",
   "id": "e38e9b84-37f8-4a07-a312-63410aaa4a63",
   "metadata": {},
   "source": [
    "* https://www.geogebra.org/m/dfgfbxvq"
   ]
  },
  {
   "cell_type": "code",
   "execution_count": 6,
   "id": "fcd762ba-1514-4673-bbee-0f8a0e29cd3f",
   "metadata": {},
   "outputs": [
    {
     "data": {
      "text/html": [
       "\n",
       "        <iframe\n",
       "            width=\"1000\"\n",
       "            height=\"500\"\n",
       "            src=\"https://www.geogebra.org/material/iframe/id/dfgfbxvq/width/1904/height/1015\"\n",
       "            frameborder=\"0\"\n",
       "            allowfullscreen\n",
       "            \n",
       "        ></iframe>\n",
       "        "
      ],
      "text/plain": [
       "<IPython.lib.display.IFrame at 0x7f0aba212000>"
      ]
     },
     "execution_count": 6,
     "metadata": {},
     "output_type": "execute_result"
    }
   ],
   "source": [
    "IFrame(\"https://www.geogebra.org/material/iframe/id/dfgfbxvq/width/1904/height/1015\", width=1000, height=500)"
   ]
  },
  {
   "cell_type": "markdown",
   "id": "a60e6700-e4ce-4f30-b6e1-f187f7829b08",
   "metadata": {},
   "source": [
    "### 5.2.3 参考) Sympyによる数式処理\n",
    "\n",
    "余弦定理により焦点を極とする極座標表示を求める:"
   ]
  },
  {
   "cell_type": "code",
   "execution_count": 10,
   "id": "db98525e-f414-441e-8189-b303331e48e9",
   "metadata": {},
   "outputs": [
    {
     "data": {
      "text/latex": [
       "$\\displaystyle s^{2} = 4 c^{2} + 4 c r \\cos{\\left(t \\right)} + r^{2}$"
      ],
      "text/plain": [
       "Eq(s**2, 4*c**2 + 4*c*r*cos(t) + r**2)"
      ]
     },
     "execution_count": 10,
     "metadata": {},
     "output_type": "execute_result"
    }
   ],
   "source": [
    "import sympy as sp\n",
    "\n",
    "a, b, c = sp.symbols(\"a b c\")\n",
    "r, s, t = sp.symbols(\"r s t\")\n",
    "e = sp.symbols(\"e\")\n",
    "\n",
    "eq1 = sp.Eq(s**2, r**2 + (2 * c)**2 + 2 * r * (2 * c) * sp.cos(t))\n",
    "eq1"
   ]
  },
  {
   "cell_type": "code",
   "execution_count": 11,
   "id": "a03ccf13-5ef1-47f7-83f6-c1bdf79548c6",
   "metadata": {},
   "outputs": [
    {
     "data": {
      "text/latex": [
       "$\\displaystyle \\frac{a \\left(1 - e^{2}\\right)}{e \\cos{\\left(t \\right)} + 1}$"
      ],
      "text/plain": [
       "a*(1 - e**2)/(e*cos(t) + 1)"
      ]
     },
     "execution_count": 11,
     "metadata": {},
     "output_type": "execute_result"
    }
   ],
   "source": [
    "sp.solve(eq1.subs(s, 2*a-r).subs(c, e*a), r)[0]"
   ]
  },
  {
   "cell_type": "code",
   "execution_count": null,
   "id": "6b254c34-87c2-4ccb-b45f-cbd0bb6de958",
   "metadata": {},
   "outputs": [],
   "source": []
  }
 ],
 "metadata": {
  "kernelspec": {
   "display_name": "Python 3 (ipykernel)",
   "language": "python",
   "name": "python3"
  },
  "language_info": {
   "codemirror_mode": {
    "name": "ipython",
    "version": 3
   },
   "file_extension": ".py",
   "mimetype": "text/x-python",
   "name": "python",
   "nbconvert_exporter": "python",
   "pygments_lexer": "ipython3",
   "version": "3.12.9"
  }
 },
 "nbformat": 4,
 "nbformat_minor": 5
}
