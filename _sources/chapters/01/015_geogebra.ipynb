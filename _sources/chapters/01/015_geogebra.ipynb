{
 "cells": [
  {
   "cell_type": "code",
   "execution_count": 1,
   "id": "f9a8655e-ce68-4ab3-bf50-57ebaa3a6105",
   "metadata": {},
   "outputs": [],
   "source": [
    "from IPython.display import IFrame"
   ]
  },
  {
   "cell_type": "markdown",
   "id": "21b300eb-d0ee-4778-98b4-7bb8927a4077",
   "metadata": {},
   "source": [
    "# 第一回: 円を描く\n",
    "## 1.5 ask ai about circle and its tangent"
   ]
  },
  {
   "cell_type": "markdown",
   "id": "6555de46-0a22-4c61-854d-a77e04434d28",
   "metadata": {},
   "source": [
    "### 1.5.1 Thalesと円の直径\n",
    "\n",
    "* [Thales's theorem - Wikipedia](https://en.wikipedia.org/wiki/Thales%27s_theorem)\n",
    "* [Intercept theorem - Wikipedia](https://en.wikipedia.org/wiki/Intercept_theorem)"
   ]
  },
  {
   "cell_type": "markdown",
   "id": "77b451bb-34f5-4bd4-8120-c417b3f51b5f",
   "metadata": {},
   "source": [
    "::::{admonition} ask ai\n",
    ":class: tip\n",
    "\n",
    "Thalesは、「円は直径で二等分される」という命題を証明した\n",
    "\n",
    ":::{admonition} ask ai repeatedly\n",
    ":class: seealso\n",
    "\n",
    "古代ギリシアで円錐曲線の直径はどのような役割を果たしたか？\n",
    ":::\n",
    "::::"
   ]
  },
  {
   "cell_type": "markdown",
   "id": "a8abb479-24ae-4d08-b2b5-441cdea19011",
   "metadata": {},
   "source": [
    "* https://www.geogebra.org/m/hdxpzcfw"
   ]
  },
  {
   "cell_type": "code",
   "execution_count": 18,
   "id": "edfd26e7-9068-4e03-820b-4a5cce1df71e",
   "metadata": {
    "collapsed": true,
    "jupyter": {
     "outputs_hidden": true
    }
   },
   "outputs": [
    {
     "data": {
      "text/html": [
       "\n",
       "        <iframe\n",
       "            width=\"800\"\n",
       "            height=\"500\"\n",
       "            src=\"https://www.geogebra.org/material/iframe/id/hdxpzcfw/width/1905/height/1016\"\n",
       "            frameborder=\"0\"\n",
       "            allowfullscreen\n",
       "            \n",
       "        ></iframe>\n",
       "        "
      ],
      "text/plain": [
       "<IPython.lib.display.IFrame at 0x7f993a9a0740>"
      ]
     },
     "execution_count": 18,
     "metadata": {},
     "output_type": "execute_result"
    }
   ],
   "source": [
    "IFrame(\"https://www.geogebra.org/material/iframe/id/hdxpzcfw/width/1905/height/1016\", width=800, height=500)"
   ]
  },
  {
   "cell_type": "markdown",
   "id": "a932b138-3112-4379-acf9-15f14e51db84",
   "metadata": {},
   "source": [
    "### 1.5.2 Euclidと円の接線\n",
    "\n",
    "* [Euclid - Wikipedia](https://en.wikipedia.org/wiki/Euclid#Lost_works)#Lost_works"
   ]
  },
  {
   "cell_type": "markdown",
   "id": "5bf66548-9611-489a-a0eb-2b6e25d30f6e",
   "metadata": {},
   "source": [
    "::::{admonition} ask ai\n",
    ":class: tip\n",
    "\n",
    "Euclidは、Thalesの「円は直径で二等分される」という命題を、円の定義の一部として採用した\n",
    "\n",
    ":::{admonition} ask ai repeatedly\n",
    ":class: seealso\n",
    "\n",
    "ユークリッドの原論における円錐曲線の扱いは？\n",
    ":::\n",
    "::::"
   ]
  },
  {
   "cell_type": "markdown",
   "id": "6f03eb7c-70ca-452f-92b2-bb14ade4af5e",
   "metadata": {},
   "source": [
    "::::{admonition} ask ai\n",
    ":class: tip\n",
    "\n",
    "Euclidは、円の直径が接線と一点で交わることを示すために、\n",
    "接点における直径と接線、直径と円弧がそれぞれ直交することを証明しようとした\n",
    "\n",
    ":::{admonition} ask ai repeatedly\n",
    ":class: seealso\n",
    "\n",
    "ユークリッドは重ならない図形が等しいと主張した？\n",
    ":::\n",
    "::::"
   ]
  },
  {
   "cell_type": "markdown",
   "id": "f74c151b-0a9f-4c4d-a936-f870b6686667",
   "metadata": {},
   "source": [
    "### 1.5.3 Decartesと解析幾何学\n",
    "\n",
    "* [La Géométrie - Wikipedia](https://en.wikipedia.org/wiki/La_G%C3%A9om%C3%A9trie)"
   ]
  },
  {
   "cell_type": "markdown",
   "id": "b8474312-5166-4259-bf92-1e2f8d067080",
   "metadata": {},
   "source": [
    "::::{admonition} ask ai\n",
    ":class: tip\n",
    "\n",
    "Decartesは、円の直径が接線と一点で交わることを、判別式によって証明した\n",
    "\n",
    ":::{admonition} ask ai repeatedly\n",
    ":class: seealso\n",
    "\n",
    "DecaretesとFermatに交流はあったか？\n",
    ":::\n",
    "::::"
   ]
  },
  {
   "cell_type": "markdown",
   "id": "42c8ecfe-24a3-4f17-9d53-be2219d361a8",
   "metadata": {},
   "source": [
    "* https://www.geogebra.org/m/drn9ekye"
   ]
  },
  {
   "cell_type": "code",
   "execution_count": 16,
   "id": "f66837bf-f792-4f11-b1ac-913f2de25e02",
   "metadata": {
    "collapsed": true,
    "jupyter": {
     "outputs_hidden": true
    }
   },
   "outputs": [
    {
     "data": {
      "text/html": [
       "\n",
       "        <iframe\n",
       "            width=\"800\"\n",
       "            height=\"500\"\n",
       "            src=\"https://www.geogebra.org/material/iframe/id/drn9ekye/width/1905/height/1016\"\n",
       "            frameborder=\"0\"\n",
       "            allowfullscreen\n",
       "            \n",
       "        ></iframe>\n",
       "        "
      ],
      "text/plain": [
       "<IPython.lib.display.IFrame at 0x7f9942a4f2c0>"
      ]
     },
     "execution_count": 16,
     "metadata": {},
     "output_type": "execute_result"
    }
   ],
   "source": [
    "IFrame(\"https://www.geogebra.org/material/iframe/id/drn9ekye/width/1905/height/1016\", width=800, height=500)"
   ]
  },
  {
   "cell_type": "markdown",
   "id": "4586c28c-690e-4819-b26b-920e8fae1c8e",
   "metadata": {},
   "source": [
    "### 1.5.4 Newtonと級数展開\n",
    "\n",
    "* [Binomial series - Wikipedia](https://en.wikipedia.org/wiki/Binomial_series)"
   ]
  },
  {
   "cell_type": "markdown",
   "id": "d7ba4290-3be6-42e9-bd76-175d05d14178",
   "metadata": {},
   "source": [
    "::::{admonition} ask ai\n",
    ":class: tip\n",
    "\n",
    "Newtonは、二項級数によって円の接線が、接点における微分によって求められる事を示した\n",
    "\n",
    ":::{admonition} ask ai repeatedly\n",
    ":class: seealso\n",
    "\n",
    "Newtonの一般化された二項定理と、円cの方程式の二項級数展開について\n",
    ":::\n",
    "::::"
   ]
  },
  {
   "cell_type": "markdown",
   "id": "7b4d3394-0ace-49d8-8c3b-4e8a03bc9475",
   "metadata": {},
   "source": [
    "* https://www.geogebra.org/m/anzepyut"
   ]
  },
  {
   "cell_type": "code",
   "execution_count": 15,
   "id": "cbf5f66b-ebab-47e0-a9b3-90313004d8aa",
   "metadata": {
    "collapsed": true,
    "jupyter": {
     "outputs_hidden": true
    }
   },
   "outputs": [
    {
     "data": {
      "text/html": [
       "\n",
       "        <iframe\n",
       "            width=\"800\"\n",
       "            height=\"500\"\n",
       "            src=\"https://www.geogebra.org/material/iframe/id/anzepyut/width/1905/height/1016\"\n",
       "            frameborder=\"0\"\n",
       "            allowfullscreen\n",
       "            \n",
       "        ></iframe>\n",
       "        "
      ],
      "text/plain": [
       "<IPython.lib.display.IFrame at 0x7f9942a4ed80>"
      ]
     },
     "execution_count": 15,
     "metadata": {},
     "output_type": "execute_result"
    }
   ],
   "source": [
    "IFrame(\"https://www.geogebra.org/material/iframe/id/anzepyut/width/1905/height/1016\", width=800, height=500)"
   ]
  },
  {
   "cell_type": "markdown",
   "id": "d68befee-3f6c-40b0-9eab-2a6b0e49f584",
   "metadata": {},
   "source": [
    "### 1.5.5 Gaussの卓越した定理\n",
    "\n",
    "* [Theorema Egregium - Wikipedia](https://en.wikipedia.org/wiki/Theorema_Egregium)"
   ]
  },
  {
   "cell_type": "markdown",
   "id": "359237a4-1fe2-4708-8add-b391f2135054",
   "metadata": {},
   "source": [
    "::::{admonition} ask ai\n",
    ":class: tip\n",
    "\n",
    "Gaussは、曲線の二階微分から絶対的な特徴量である曲率を定め、曲線の接触円を定義した\n",
    "\n",
    ":::{admonition} ask ai repeatedly\n",
    ":class: seealso\n",
    "\n",
    "Gaussは自分で偉大な定理と主張した？\n",
    ":::\n",
    "::::"
   ]
  },
  {
   "cell_type": "markdown",
   "id": "739793fc-30d5-41c1-83b2-d578872efdc1",
   "metadata": {},
   "source": [
    "### 1.5.6 Eulerの公式\n",
    "\n",
    "* [Euler's formula - Wikipedia](https://en.wikipedia.org/wiki/Euler%27s_formula)"
   ]
  },
  {
   "cell_type": "markdown",
   "id": "3a3bd3aa-da19-4e42-bec6-d772daecdc09",
   "metadata": {},
   "source": [
    "::::{admonition} ask ai\n",
    ":class: tip\n",
    "\n",
    "Eulerは、三角関数のように二階微分によって符号が反転する調和振動の考察から\n",
    "複素指数関数を発見した\n",
    "\n",
    ":::{admonition} ask ai repeatedly\n",
    ":class: seealso\n",
    "\n",
    "オイラーの公式はテイラー展開で証明されたのか？\n",
    ":::\n",
    "::::"
   ]
  },
  {
   "cell_type": "markdown",
   "id": "270d6198-af94-4641-8828-740f23f962f1",
   "metadata": {},
   "source": [
    "* https://www.geogebra.org/m/whktkpf4"
   ]
  },
  {
   "cell_type": "code",
   "execution_count": 14,
   "id": "cc0fdcaf-a35e-4204-afda-02348ff37098",
   "metadata": {
    "collapsed": true,
    "jupyter": {
     "outputs_hidden": true
    }
   },
   "outputs": [
    {
     "data": {
      "text/html": [
       "\n",
       "        <iframe\n",
       "            width=\"800\"\n",
       "            height=\"500\"\n",
       "            src=\"https://www.geogebra.org/material/iframe/id/whktkpf4/width/1905/height/1016\"\n",
       "            frameborder=\"0\"\n",
       "            allowfullscreen\n",
       "            \n",
       "        ></iframe>\n",
       "        "
      ],
      "text/plain": [
       "<IPython.lib.display.IFrame at 0x7f9942a4fc20>"
      ]
     },
     "execution_count": 14,
     "metadata": {},
     "output_type": "execute_result"
    }
   ],
   "source": [
    "IFrame(\"https://www.geogebra.org/material/iframe/id/whktkpf4/width/1905/height/1016\", width=800, height=500)"
   ]
  },
  {
   "cell_type": "markdown",
   "id": "c9c9f2e9-6fc6-4e25-966e-97bbed805a8a",
   "metadata": {},
   "source": [
    "### 1.5.7 その他1: 一階微分方程式"
   ]
  },
  {
   "cell_type": "markdown",
   "id": "d65894a7-cae2-4a51-99d1-457c1fa9e17f",
   "metadata": {},
   "source": [
    "* https://www.geogebra.org/m/qgeyxg29"
   ]
  },
  {
   "cell_type": "code",
   "execution_count": 20,
   "id": "33d7762f-b143-4c78-bbb8-886d112e321e",
   "metadata": {
    "collapsed": true,
    "jupyter": {
     "outputs_hidden": true
    },
    "scrolled": true
   },
   "outputs": [
    {
     "data": {
      "text/html": [
       "\n",
       "        <iframe\n",
       "            width=\"800\"\n",
       "            height=\"500\"\n",
       "            src=\"https://www.geogebra.org/material/iframe/id/qgeyxg29/width/1905/height/1016\"\n",
       "            frameborder=\"0\"\n",
       "            allowfullscreen\n",
       "            \n",
       "        ></iframe>\n",
       "        "
      ],
      "text/plain": [
       "<IPython.lib.display.IFrame at 0x7f9942a4df70>"
      ]
     },
     "execution_count": 20,
     "metadata": {},
     "output_type": "execute_result"
    }
   ],
   "source": [
    "IFrame(\"https://www.geogebra.org/material/iframe/id/qgeyxg29/width/1905/height/1016\", width=800, height=500)"
   ]
  },
  {
   "cell_type": "markdown",
   "id": "dcb43b91-224b-4a5e-b96c-cacd1ba85038",
   "metadata": {},
   "source": [
    "### 1.5.8 その他2: 二階微分方程式"
   ]
  },
  {
   "cell_type": "markdown",
   "id": "d20a27cf-f0bb-4f9d-a8ad-28e7657919a7",
   "metadata": {},
   "source": [
    "* https://www.geogebra.org/m/wa8gmhkz"
   ]
  },
  {
   "cell_type": "code",
   "execution_count": 21,
   "id": "93b7b4a9-b161-4e15-bb87-df79cb14652f",
   "metadata": {
    "collapsed": true,
    "jupyter": {
     "outputs_hidden": true
    }
   },
   "outputs": [
    {
     "data": {
      "text/html": [
       "\n",
       "        <iframe\n",
       "            width=\"800\"\n",
       "            height=\"500\"\n",
       "            src=\"https://www.geogebra.org/material/iframe/id/wa8gmhkz/width/1905/height/1016\"\n",
       "            frameborder=\"0\"\n",
       "            allowfullscreen\n",
       "            \n",
       "        ></iframe>\n",
       "        "
      ],
      "text/plain": [
       "<IPython.lib.display.IFrame at 0x7f993a9a3440>"
      ]
     },
     "execution_count": 21,
     "metadata": {},
     "output_type": "execute_result"
    }
   ],
   "source": [
    "IFrame(\"https://www.geogebra.org/material/iframe/id/wa8gmhkz/width/1905/height/1016\", width=800, height=500)"
   ]
  },
  {
   "cell_type": "markdown",
   "id": "67638cab-4219-4566-bcde-5dfcad1b3584",
   "metadata": {},
   "source": [
    "### 1.5.9 その他2: 測地線"
   ]
  },
  {
   "cell_type": "markdown",
   "id": "4d2264a1-d1c0-4d31-818b-f51bfed35e5b",
   "metadata": {},
   "source": [
    "* https://www.geogebra.org/m/zm9ugcpj"
   ]
  },
  {
   "cell_type": "code",
   "execution_count": 22,
   "id": "09729b3b-597d-4bd9-97f1-c3ecc4b13476",
   "metadata": {
    "collapsed": true,
    "jupyter": {
     "outputs_hidden": true
    },
    "scrolled": true
   },
   "outputs": [
    {
     "data": {
      "text/html": [
       "\n",
       "        <iframe\n",
       "            width=\"800\"\n",
       "            height=\"500\"\n",
       "            src=\"https://www.geogebra.org/material/iframe/id/zm9ugcpj/width/1905/height/1016\"\n",
       "            frameborder=\"0\"\n",
       "            allowfullscreen\n",
       "            \n",
       "        ></iframe>\n",
       "        "
      ],
      "text/plain": [
       "<IPython.lib.display.IFrame at 0x7f993a9a3e90>"
      ]
     },
     "execution_count": 22,
     "metadata": {},
     "output_type": "execute_result"
    }
   ],
   "source": [
    "IFrame(\"https://www.geogebra.org/material/iframe/id/zm9ugcpj/width/1905/height/1016\", width=800, height=500)"
   ]
  },
  {
   "cell_type": "code",
   "execution_count": null,
   "id": "c7bba575-80f8-4952-bfbb-dbfec5fc67f3",
   "metadata": {},
   "outputs": [],
   "source": []
  }
 ],
 "metadata": {
  "kernelspec": {
   "display_name": "Python 3 (ipykernel)",
   "language": "python",
   "name": "python3"
  },
  "language_info": {
   "codemirror_mode": {
    "name": "ipython",
    "version": 3
   },
   "file_extension": ".py",
   "mimetype": "text/x-python",
   "name": "python",
   "nbconvert_exporter": "python",
   "pygments_lexer": "ipython3",
   "version": "3.12.9"
  }
 },
 "nbformat": 4,
 "nbformat_minor": 5
}
