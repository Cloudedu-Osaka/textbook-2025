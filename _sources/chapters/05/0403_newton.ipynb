{
 "cells": [
  {
   "cell_type": "code",
   "execution_count": 2,
   "id": "f3b38ace-6b9f-4e69-aee6-c44e28b2ac5f",
   "metadata": {},
   "outputs": [],
   "source": [
    "from IPython.display import IFrame"
   ]
  },
  {
   "cell_type": "markdown",
   "id": "e35b543d-d3d9-4a7d-8cc1-187e95df5b91",
   "metadata": {},
   "source": [
    "# 第四回: 数式から図形へ\n",
    "## 4.2 幾何平均とNewton"
   ]
  },
  {
   "cell_type": "markdown",
   "id": "8a65da29-2393-4002-a9b8-8528a861b860",
   "metadata": {},
   "source": [
    "* in Wikipedia\n",
    "    * (c.626/623 &ndash; c.548/545 BC)) [Thales of Miletus - Wikipedia](https://en.wikipedia.org/wiki/Thales_of_Miletus)\n",
    "    * (c.380 &ndash; c.320 BC) [Menaechmus - Wikipedia](https://en.wikipedia.org/wiki/Menaechmus)\n",
    "    * (1643 &ndash; 1727) [Isaac Newton - Wikipedia](https://en.wikipedia.org/wiki/Isaac_Newton)\n",
    "    * (1918 &ndash; 1988) [Richard Feynman - Wikipedia](https://en.wikipedia.org/wiki/Richard_Feynman)"
   ]
  },
  {
   "cell_type": "markdown",
   "id": "af9b4438-1476-4e42-8ec5-24a664a563f9",
   "metadata": {},
   "source": [
    "::::{admonition} ask ai\n",
    ":class: tip\n",
    "\n",
    "Newtonは、Apolloniusの円錐曲線論を熟読し、彼の著書Principiaにおいて幾何平均を活用して円錐曲線の向心力を証明した\n",
    "\n",
    ":::{admonition} ask ai repeatedly\n",
    ":class: seealso\n",
    "\n",
    "* 具体的には円錐曲線の補助線に現れる一辺を共有する相似な直角三角形の幾何平均から物理法則を導いた\n",
    "* Newtonは、古代ギリシアで熱心に研究された円錐曲線の直径を活用しようとしたが、ごく一部に導入したものの直接的な利便は得られなかった\n",
    ":::\n",
    "::::"
   ]
  },
  {
   "cell_type": "markdown",
   "id": "f295e79b-4031-4923-93fd-b98a74c1773e",
   "metadata": {},
   "source": [
    "### 4.2.1 Newtonと放物線"
   ]
  },
  {
   "cell_type": "markdown",
   "id": "4e50cd5b-8ca8-4144-b93d-908470a8b55c",
   "metadata": {},
   "source": [
    "* https://www.geogebra.org/m/up24cy8t"
   ]
  },
  {
   "cell_type": "code",
   "execution_count": 3,
   "id": "3812d25c-6621-4c6c-8475-f4aafec8f06c",
   "metadata": {},
   "outputs": [
    {
     "data": {
      "text/html": [
       "\n",
       "        <iframe\n",
       "            width=\"1000\"\n",
       "            height=\"500\"\n",
       "            src=\"https://www.geogebra.org/material/iframe/id/up24cy8t/width/1366/height/853\"\n",
       "            frameborder=\"0\"\n",
       "            allowfullscreen\n",
       "            \n",
       "        ></iframe>\n",
       "        "
      ],
      "text/plain": [
       "<IPython.lib.display.IFrame at 0x7fd7d81bf830>"
      ]
     },
     "execution_count": 3,
     "metadata": {},
     "output_type": "execute_result"
    }
   ],
   "source": [
    "IFrame(\"https://www.geogebra.org/material/iframe/id/up24cy8t/width/1366/height/853\", width=1000, height=500)"
   ]
  },
  {
   "cell_type": "markdown",
   "id": "489d996d-479b-4290-b6c3-e8ad884e71d5",
   "metadata": {},
   "source": [
    "### 4.2.2 Newtonと放物線と幾何平均"
   ]
  },
  {
   "cell_type": "markdown",
   "id": "1cf4a82f-5a39-4d25-a0b3-c84c93c08b08",
   "metadata": {},
   "source": [
    "* https://www.geogebra.org/m/muqtm3gg"
   ]
  },
  {
   "cell_type": "code",
   "execution_count": 5,
   "id": "d8abef9e-c120-4d79-84dc-b02ef0cdeb4f",
   "metadata": {
    "jupyter": {
     "source_hidden": true
    }
   },
   "outputs": [
    {
     "data": {
      "text/html": [
       "\n",
       "        <iframe\n",
       "            width=\"1000\"\n",
       "            height=\"500\"\n",
       "            src=\"https://www.geogebra.org/material/iframe/id/muqtm3gg/width/1366/height/853\"\n",
       "            frameborder=\"0\"\n",
       "            allowfullscreen\n",
       "            \n",
       "        ></iframe>\n",
       "        "
      ],
      "text/plain": [
       "<IPython.lib.display.IFrame at 0x7fd7d8204bc0>"
      ]
     },
     "execution_count": 5,
     "metadata": {},
     "output_type": "execute_result"
    }
   ],
   "source": [
    "IFrame(\"https://www.geogebra.org/material/iframe/id/muqtm3gg/width/1366/height/853\", width=1000, height=500)"
   ]
  },
  {
   "cell_type": "markdown",
   "id": "a34a14ca-30fd-4a6e-832e-77988e3bd627",
   "metadata": {},
   "source": [
    "### 4.2.3 Newtonと楕円と幾何平均"
   ]
  },
  {
   "cell_type": "markdown",
   "id": "0fc6b905-e5c1-47d4-8071-a8e332de3a6e",
   "metadata": {},
   "source": [
    "* https://www.geogebra.org/m/s5hj7wy3"
   ]
  },
  {
   "cell_type": "code",
   "execution_count": 6,
   "id": "b7c66719-f32e-4d72-a7b1-e7eaad96a087",
   "metadata": {},
   "outputs": [
    {
     "data": {
      "text/html": [
       "\n",
       "        <iframe\n",
       "            width=\"1000\"\n",
       "            height=\"500\"\n",
       "            src=\"https://www.geogebra.org/material/iframe/id/s5hj7wy3/width/1366/height/853\"\n",
       "            frameborder=\"0\"\n",
       "            allowfullscreen\n",
       "            \n",
       "        ></iframe>\n",
       "        "
      ],
      "text/plain": [
       "<IPython.lib.display.IFrame at 0x7fd7d82040e0>"
      ]
     },
     "execution_count": 6,
     "metadata": {},
     "output_type": "execute_result"
    }
   ],
   "source": [
    "IFrame(\"https://www.geogebra.org/material/iframe/id/s5hj7wy3/width/1366/height/853\", width=1000, height=500)"
   ]
  },
  {
   "cell_type": "code",
   "execution_count": null,
   "id": "5f8fbb8c-6123-480b-8940-42ca5ffd71bb",
   "metadata": {},
   "outputs": [],
   "source": []
  }
 ],
 "metadata": {
  "kernelspec": {
   "display_name": "Python 3 (ipykernel)",
   "language": "python",
   "name": "python3"
  },
  "language_info": {
   "codemirror_mode": {
    "name": "ipython",
    "version": 3
   },
   "file_extension": ".py",
   "mimetype": "text/x-python",
   "name": "python",
   "nbconvert_exporter": "python",
   "pygments_lexer": "ipython3",
   "version": "3.12.9"
  }
 },
 "nbformat": 4,
 "nbformat_minor": 5
}
