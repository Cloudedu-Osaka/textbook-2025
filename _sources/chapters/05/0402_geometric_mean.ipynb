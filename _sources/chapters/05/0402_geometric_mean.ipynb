{
 "cells": [
  {
   "cell_type": "code",
   "execution_count": 1,
   "id": "8ba132e0-61ab-495f-ac4a-2c7d05fd88ff",
   "metadata": {},
   "outputs": [],
   "source": [
    "from IPython.display import IFrame"
   ]
  },
  {
   "cell_type": "markdown",
   "id": "85eae85d-3cd4-4c99-877f-70b5bc74549f",
   "metadata": {},
   "source": [
    "# 第四回: 数式から図形へ\n",
    "## 4.1 算術・幾何平均"
   ]
  },
  {
   "cell_type": "markdown",
   "id": "8a65da29-2393-4002-a9b8-8528a861b860",
   "metadata": {},
   "source": [
    "* in Wikipedia\n",
    "    * (c.626/623 &ndash; c.548/545 BC)) [Thales of Miletus - Wikipedia](https://en.wikipedia.org/wiki/Thales_of_Miletus)\n",
    "    * (c.380 &ndash; c.320 BC) [Menaechmus - Wikipedia](https://en.wikipedia.org/wiki/Menaechmus)\n",
    "    * (1643 &ndash; 1727) [Isaac Newton - Wikipedia](https://en.wikipedia.org/wiki/Isaac_Newton)\n",
    "    * (1918 &ndash; 1988) [Richard Feynman - Wikipedia](https://en.wikipedia.org/wiki/Richard_Feynman)"
   ]
  },
  {
   "cell_type": "markdown",
   "id": "b9928e65-226f-4155-91f8-1fe51a5c714f",
   "metadata": {},
   "source": [
    "::::{admonition} ask ai\n",
    ":class: tip\n",
    "\n",
    "幾何平均の定理は日本では教えられていない\n",
    "\n",
    ":::{admonition} ask ai repeatedly\n",
    ":class: seealso\n",
    "\n",
    "* Euclidが原論に掲載したPythagorasの定理の証明は、日本の受験数学固有の用語である「等積変形」を使っている\n",
    "* その作図による証明は、幾何平均の定理の証明に応用できる\n",
    ":::\n",
    "::::"
   ]
  },
  {
   "cell_type": "markdown",
   "id": "3c3cb171-48ec-45f7-aeea-cd60f46f38af",
   "metadata": {},
   "source": [
    "* in Wikipedia\n",
    "    * [Arithmetic mean - Wikipedia](https://en.wikipedia.org/wiki/Arithmetic_mean)\n",
    "    * [Geometric mean - Wikipedia](https://en.wikipedia.org/wiki/Geometric_mean)\n",
    "        * [Geometric mean theorem - Wikipedia](https://en.wikipedia.org/wiki/Geometric_mean_theorem)"
   ]
  },
  {
   "cell_type": "markdown",
   "id": "d4e80774-5f58-4c9f-a731-898da2ab19ec",
   "metadata": {},
   "source": [
    "### 4.1.1 Euclid原論でのPythagorasの定理の証明"
   ]
  },
  {
   "cell_type": "markdown",
   "id": "fa8f4641-60eb-4bc4-a693-72a9b732648d",
   "metadata": {},
   "source": [
    "* https://www.geogebra.org/m/stydjqvf"
   ]
  },
  {
   "cell_type": "code",
   "execution_count": 2,
   "id": "3812d25c-6621-4c6c-8475-f4aafec8f06c",
   "metadata": {
    "collapsed": true,
    "jupyter": {
     "outputs_hidden": true
    }
   },
   "outputs": [
    {
     "data": {
      "text/html": [
       "\n",
       "        <iframe\n",
       "            width=\"1000\"\n",
       "            height=\"500\"\n",
       "            src=\"https://www.geogebra.org/material/iframe/id/stydjqvf/width/1366/height/853\"\n",
       "            frameborder=\"0\"\n",
       "            allowfullscreen\n",
       "            \n",
       "        ></iframe>\n",
       "        "
      ],
      "text/plain": [
       "<IPython.lib.display.IFrame at 0x7f292291b4d0>"
      ]
     },
     "execution_count": 2,
     "metadata": {},
     "output_type": "execute_result"
    }
   ],
   "source": [
    "IFrame(\"https://www.geogebra.org/material/iframe/id/stydjqvf/width/1366/height/853\", width=1000, height=500)"
   ]
  },
  {
   "cell_type": "markdown",
   "id": "6be79f37-17c5-4ffc-bfb7-dc40e3c992eb",
   "metadata": {},
   "source": [
    "### 4.1.1 Pythagorasの定理と幾何平均"
   ]
  },
  {
   "cell_type": "markdown",
   "id": "d474d680-3516-4c61-952a-225279112dba",
   "metadata": {},
   "source": [
    "* https://www.geogebra.org/m/nz8qdne2"
   ]
  },
  {
   "cell_type": "code",
   "execution_count": 3,
   "id": "af701af7-9719-4e89-9482-d5f20d56c63a",
   "metadata": {},
   "outputs": [
    {
     "data": {
      "text/html": [
       "\n",
       "        <iframe\n",
       "            width=\"1000\"\n",
       "            height=\"500\"\n",
       "            src=\"https://www.geogebra.org/material/iframe/id/nz8qdne2/width/1366/height/853\"\n",
       "            frameborder=\"0\"\n",
       "            allowfullscreen\n",
       "            \n",
       "        ></iframe>\n",
       "        "
      ],
      "text/plain": [
       "<IPython.lib.display.IFrame at 0x7f292291a090>"
      ]
     },
     "execution_count": 3,
     "metadata": {},
     "output_type": "execute_result"
    }
   ],
   "source": [
    "IFrame(\"https://www.geogebra.org/material/iframe/id/nz8qdne2/width/1366/height/853\", width=1000, height=500)"
   ]
  },
  {
   "cell_type": "code",
   "execution_count": null,
   "id": "5a4936fa-75e5-492d-87d8-46771fbabaaa",
   "metadata": {},
   "outputs": [],
   "source": []
  }
 ],
 "metadata": {
  "kernelspec": {
   "display_name": "Python 3 (ipykernel)",
   "language": "python",
   "name": "python3"
  },
  "language_info": {
   "codemirror_mode": {
    "name": "ipython",
    "version": 3
   },
   "file_extension": ".py",
   "mimetype": "text/x-python",
   "name": "python",
   "nbconvert_exporter": "python",
   "pygments_lexer": "ipython3",
   "version": "3.12.9"
  }
 },
 "nbformat": 4,
 "nbformat_minor": 5
}
