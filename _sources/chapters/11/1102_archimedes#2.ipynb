{
 "cells": [
  {
   "cell_type": "code",
   "execution_count": 1,
   "id": "611de16b-4389-4910-9ff7-101cf19a7323",
   "metadata": {},
   "outputs": [],
   "source": [
    "from IPython.display import IFrame"
   ]
  },
  {
   "cell_type": "markdown",
   "id": "502c7f19-3383-4026-9aac-e6c494cf698b",
   "metadata": {},
   "source": [
    "# 第十一回: Archimedesと積尽\n",
    "\n",
    "## 11.2 Archimedesと円周率 (2)"
   ]
  },
  {
   "cell_type": "markdown",
   "id": "cedf8076-dc34-44a2-ba2c-884ba95f4529",
   "metadata": {},
   "source": [
    "* https://www.geogebra.org/m/uvadr7qc"
   ]
  },
  {
   "cell_type": "code",
   "execution_count": 2,
   "id": "4b6f015a-a270-4619-84eb-b60b3084dee4",
   "metadata": {},
   "outputs": [
    {
     "data": {
      "text/html": [
       "\n",
       "        <iframe\n",
       "            width=\"1000\"\n",
       "            height=\"500\"\n",
       "            src=\"https://www.geogebra.org/material/iframe/id/uvadr7qc/width/1366/height/853\"\n",
       "            frameborder=\"0\"\n",
       "            allowfullscreen\n",
       "            \n",
       "        ></iframe>\n",
       "        "
      ],
      "text/plain": [
       "<IPython.lib.display.IFrame at 0x7f370e2f6ae0>"
      ]
     },
     "execution_count": 2,
     "metadata": {},
     "output_type": "execute_result"
    }
   ],
   "source": [
    "IFrame(\"https://www.geogebra.org/material/iframe/id/uvadr7qc/width/1366/height/853\", width=1000, height=500)"
   ]
  },
  {
   "cell_type": "code",
   "execution_count": null,
   "id": "4016553f-d655-4fee-bc2c-a19ae7f12cbb",
   "metadata": {},
   "outputs": [],
   "source": []
  }
 ],
 "metadata": {
  "kernelspec": {
   "display_name": "Python 3 (ipykernel)",
   "language": "python",
   "name": "python3"
  },
  "language_info": {
   "codemirror_mode": {
    "name": "ipython",
    "version": 3
   },
   "file_extension": ".py",
   "mimetype": "text/x-python",
   "name": "python",
   "nbconvert_exporter": "python",
   "pygments_lexer": "ipython3",
   "version": "3.12.9"
  }
 },
 "nbformat": 4,
 "nbformat_minor": 5
}
