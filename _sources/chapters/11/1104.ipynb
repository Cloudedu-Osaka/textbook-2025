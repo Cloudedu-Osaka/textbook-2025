{
 "cells": [
  {
   "cell_type": "markdown",
   "id": "657f6821-b781-4f21-b918-208aab94f0f3",
   "metadata": {},
   "source": [
    "# 第十一回: Archimedesと積尽\n",
    "\n",
    "## 11.4 Archimedesと積分"
   ]
  },
  {
   "cell_type": "markdown",
   "id": "72a548cb-f40e-481c-829e-d1a609bc6e8d",
   "metadata": {},
   "source": [
    "::::{admonition} ask ai\n",
    ":class: tip\n",
    "\n",
    "* Archimedesは、Exdoxosの積尽法を使って円の面積と周長を求めました\n",
    "\n",
    ":::{admonition} ask ai repeatedly\n",
    ":class: seealso\n",
    "\n",
    "* Apolloniusの円錐曲線論から放物線の直径と通径の関係を知り、積尽法を応用して放物線と通径に囲まれる面積を求めました。\n",
    "* Archimedesの領域分割は三角形による分割であり、元の図形がもつ特徴に依存しています。\n",
    "  Menaechmusは図形を関数のグラフとして認識していましたが、Archimedesがその考え方を応用することはありませんでした。\n",
    "* 古代インドでは、三角関数の級数展開が発見されていました。\n",
    "  これがイスラム経由で記数法や代数とともにヨーロッパに伝わりました。\n",
    "  NewtonとLeibnizは、それぞれの手法で級数展開を行い、微分・積分を発見しました。\n",
    "* NewtonやLeibnizに先立って、DescartesとFermatによる図形を関数のグラフとして解析する手法の研究がなければ、\n",
    "  同時多発的に微分と積分が発見されることはなかったかもしれません。\n",
    "* 古代インドの数学 (ゼロを含む記数法、級数) そして\n",
    "  イスラムの代数と手続き、\n",
    "  そして散逸していた古代ギリシアの書物がルネサンス期のヨーロッパに伝わらなければ\n",
    "  科学革命は起こりませんでした。\n",
    "* 積尽法が積分に発展しなかった理由はなんですか？\n",
    ":::\n",
    "::::"
   ]
  },
  {
   "cell_type": "code",
   "execution_count": null,
   "id": "c6d68351-f867-45cc-9f01-81872acfab97",
   "metadata": {},
   "outputs": [],
   "source": []
  }
 ],
 "metadata": {
  "kernelspec": {
   "display_name": "Python 3 (ipykernel)",
   "language": "python",
   "name": "python3"
  },
  "language_info": {
   "codemirror_mode": {
    "name": "ipython",
    "version": 3
   },
   "file_extension": ".py",
   "mimetype": "text/x-python",
   "name": "python",
   "nbconvert_exporter": "python",
   "pygments_lexer": "ipython3",
   "version": "3.12.9"
  }
 },
 "nbformat": 4,
 "nbformat_minor": 5
}
